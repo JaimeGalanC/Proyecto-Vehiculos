{
 "cells": [
  {
   "cell_type": "markdown",
   "metadata": {},
   "source": [
    "<a id='inicio'></a>\n",
    "# Contenidos \n",
    "\n",
    "* [Introducción](#intro)\n",
    "* [Etapa 1. Descripción de los datos](#data_review)\n",
    "    * [4.1.1 Cargar datos](#data_load)\n",
    "    * [4.1.2 Explorar datos iniciales](#data_explorer)\n",
    "    * [4.1.3 Conclusiones y siguientes pasos](#data_resume)\n",
    "* [Etapa 2. Preprocesamiento de datos](#data_preproc)\n",
    "    * [4.2.1 Valores ausentes](#data_nan)\n",
    "    * [4.2.2 Corregir los tipos de datos](#data_type)\n",
    "    * [4.2.3 Enriquecer datos](#data_add)\n",
    "    * [4.2.4 Comprobar datos limpios](#data_ok)\n",
    "* [Etapa 3. Análisis de datos](#data_analysis)\n",
    "    * [4.3.1 Estudiar parámetros principales](#analysis_param)\n",
    "    * [4.3.2 Estudiar y tratar valores atípicos](#analysis_outliers)\n",
    "    * [4.3.3 Estudiar parámetros principales sin valores atípicos](#analysis_without_ouliers)\n",
    "    * [4.3.4 Período de colocación de los anuncios](#analysis_announcements)\n",
    "    * [4.3.5 Precio promedio por cada tipo de vehículo](#analysis_vehicle)\n",
    "    * [4.3.6 Factores de precio](#analysis_price)\n",
    "* [Conclusión general](#conclusion_gral)"
   ]
  },
  {
   "cell_type": "markdown",
   "metadata": {},
   "source": [
    "# Introducción <a id='intro'></a>\n",
    "\n",
    "En este trabajo vamos a estudiar los factores que influyen en el precio de venta de un vehículo. Haremos un preprocesamiento de datos y posteriormente un análisis de datos exploratorio."
   ]
  },
  {
   "cell_type": "markdown",
   "metadata": {},
   "source": [
    "# Etapas <a id='stage'></a>\n",
    "\n",
    "Primero vamos a evaluar la calidad de los datos y buscar los problemas son significativos. Posteriormente, durante el preprocesamiento de datos trataremos de solucionar los problemas más críticos.\n",
    " \n",
    "El proyecto consistirá en tres etapas:\n",
    " 1. Descripción de los datos\n",
    " 1. Preprocesamiento de datos\n",
    " 1. Análisis exploratorio de datos\n",
    " 1. Conclusión general\n",
    " \n",
    "[Volver a Contenidos](#inicio)"
   ]
  },
  {
   "cell_type": "markdown",
   "metadata": {},
   "source": [
    "<a id='inicio'></a> <a id='data_review'></a>\n",
    "## Descripción de los datos"
   ]
  },
  {
   "cell_type": "markdown",
   "metadata": {},
   "source": [
    "En esta sección vamos a cargar las librerías a utilizar para posteriormente revisar las características del set de datos."
   ]
  },
  {
   "cell_type": "code",
   "execution_count": 1,
   "metadata": {},
   "outputs": [],
   "source": [
    "# Cargamos todas las librerías\n",
    "import pandas as pd\n",
    "import math\n",
    "import random\n",
    "import matplotlib.pyplot as plt\n",
    "import seaborn as sns\n",
    "import numpy as np"
   ]
  },
  {
   "cell_type": "markdown",
   "metadata": {},
   "source": [
    "<a id='data_load'></a>\n",
    "### Cargar datos"
   ]
  },
  {
   "cell_type": "markdown",
   "metadata": {},
   "source": [
    "Vamos a crear un DataFrame que contenga los datos."
   ]
  },
  {
   "cell_type": "code",
   "execution_count": 2,
   "metadata": {},
   "outputs": [],
   "source": [
    "# Cargamos el archivo de datos en un DataFrame\n",
    "data_vehiculos=pd.read_csv('vehicles_us.csv')"
   ]
  },
  {
   "cell_type": "code",
   "execution_count": 3,
   "metadata": {},
   "outputs": [
    {
     "data": {
      "text/plain": [
       "Index(['price', 'model_year', 'model', 'condition', 'cylinders', 'fuel',\n",
       "       'odometer', 'transmission', 'type', 'paint_color', 'is_4wd',\n",
       "       'date_posted', 'days_listed'],\n",
       "      dtype='object')"
      ]
     },
     "execution_count": 3,
     "metadata": {},
     "output_type": "execute_result"
    }
   ],
   "source": [
    "# Mostramos las columnas que contiene\n",
    "data_vehiculos.columns"
   ]
  },
  {
   "cell_type": "markdown",
   "metadata": {},
   "source": [
    "<a id='data_explorer'></a>\n",
    "### Explorar datos iniciales"
   ]
  },
  {
   "cell_type": "markdown",
   "metadata": {},
   "source": [
    "El dataset contiene los siguientes campos:\n",
    "- `price` — precio en que se oferta el vehículo\n",
    "- `model_year` — año en que se salió a la venta dicho vehículo\n",
    "- `model` — nombre del modelo del vehículo\n",
    "- `condition` — la condición actual en que se encuentra\n",
    "- `cylinders` — número de cilindros del vehículo\n",
    "- `fuel` — gasolina, diesel, etc.\n",
    "- `odometer` — el millaje del vehículo cuando el anuncio fue publicado\n",
    "- `transmission` — si cuenta con transmisión automática o manual\n",
    "- `type` — el tipo de vehículo\n",
    "- `paint_color` — color de la carrocería\n",
    "- `is_4wd` — si el vehículo tiene tracción a las 4 ruedas (tipo Booleano)\n",
    "- `date_posted` — la fecha en la que el anuncio fue publicado\n",
    "- `days_listed` — desde la publicación hasta que se elimina"
   ]
  },
  {
   "cell_type": "code",
   "execution_count": 4,
   "metadata": {},
   "outputs": [
    {
     "name": "stdout",
     "output_type": "stream",
     "text": [
      "<class 'pandas.core.frame.DataFrame'>\n",
      "RangeIndex: 51525 entries, 0 to 51524\n",
      "Data columns (total 13 columns):\n",
      " #   Column        Non-Null Count  Dtype  \n",
      "---  ------        --------------  -----  \n",
      " 0   price         51525 non-null  int64  \n",
      " 1   model_year    47906 non-null  float64\n",
      " 2   model         51525 non-null  object \n",
      " 3   condition     51525 non-null  object \n",
      " 4   cylinders     46265 non-null  float64\n",
      " 5   fuel          51525 non-null  object \n",
      " 6   odometer      43633 non-null  float64\n",
      " 7   transmission  51525 non-null  object \n",
      " 8   type          51525 non-null  object \n",
      " 9   paint_color   42258 non-null  object \n",
      " 10  is_4wd        25572 non-null  float64\n",
      " 11  date_posted   51525 non-null  object \n",
      " 12  days_listed   51525 non-null  int64  \n",
      "dtypes: float64(4), int64(2), object(7)\n",
      "memory usage: 5.1+ MB\n"
     ]
    }
   ],
   "source": [
    "# mostramos la información general sobre el DataFrame\n",
    "data_vehiculos.info()"
   ]
  },
  {
   "cell_type": "code",
   "execution_count": 5,
   "metadata": {},
   "outputs": [
    {
     "data": {
      "text/plain": [
       "(51525, 13)"
      ]
     },
     "execution_count": 5,
     "metadata": {},
     "output_type": "execute_result"
    }
   ],
   "source": [
    "# mostramos el número de filas y columnas\n",
    "data_vehiculos.shape"
   ]
  },
  {
   "cell_type": "code",
   "execution_count": 6,
   "metadata": {},
   "outputs": [
    {
     "data": {
      "text/html": [
       "<div>\n",
       "<style scoped>\n",
       "    .dataframe tbody tr th:only-of-type {\n",
       "        vertical-align: middle;\n",
       "    }\n",
       "\n",
       "    .dataframe tbody tr th {\n",
       "        vertical-align: top;\n",
       "    }\n",
       "\n",
       "    .dataframe thead th {\n",
       "        text-align: right;\n",
       "    }\n",
       "</style>\n",
       "<table border=\"1\" class=\"dataframe\">\n",
       "  <thead>\n",
       "    <tr style=\"text-align: right;\">\n",
       "      <th></th>\n",
       "      <th>price</th>\n",
       "      <th>model_year</th>\n",
       "      <th>model</th>\n",
       "      <th>condition</th>\n",
       "      <th>cylinders</th>\n",
       "      <th>fuel</th>\n",
       "      <th>odometer</th>\n",
       "      <th>transmission</th>\n",
       "      <th>type</th>\n",
       "      <th>paint_color</th>\n",
       "      <th>is_4wd</th>\n",
       "      <th>date_posted</th>\n",
       "      <th>days_listed</th>\n",
       "    </tr>\n",
       "  </thead>\n",
       "  <tbody>\n",
       "    <tr>\n",
       "      <th>0</th>\n",
       "      <td>9400</td>\n",
       "      <td>2011.0</td>\n",
       "      <td>bmw x5</td>\n",
       "      <td>good</td>\n",
       "      <td>6.0</td>\n",
       "      <td>gas</td>\n",
       "      <td>145000.0</td>\n",
       "      <td>automatic</td>\n",
       "      <td>SUV</td>\n",
       "      <td>NaN</td>\n",
       "      <td>1.0</td>\n",
       "      <td>2018-06-23</td>\n",
       "      <td>19</td>\n",
       "    </tr>\n",
       "    <tr>\n",
       "      <th>1</th>\n",
       "      <td>25500</td>\n",
       "      <td>NaN</td>\n",
       "      <td>ford f-150</td>\n",
       "      <td>good</td>\n",
       "      <td>6.0</td>\n",
       "      <td>gas</td>\n",
       "      <td>88705.0</td>\n",
       "      <td>automatic</td>\n",
       "      <td>pickup</td>\n",
       "      <td>white</td>\n",
       "      <td>1.0</td>\n",
       "      <td>2018-10-19</td>\n",
       "      <td>50</td>\n",
       "    </tr>\n",
       "    <tr>\n",
       "      <th>2</th>\n",
       "      <td>5500</td>\n",
       "      <td>2013.0</td>\n",
       "      <td>hyundai sonata</td>\n",
       "      <td>like new</td>\n",
       "      <td>4.0</td>\n",
       "      <td>gas</td>\n",
       "      <td>110000.0</td>\n",
       "      <td>automatic</td>\n",
       "      <td>sedan</td>\n",
       "      <td>red</td>\n",
       "      <td>NaN</td>\n",
       "      <td>2019-02-07</td>\n",
       "      <td>79</td>\n",
       "    </tr>\n",
       "    <tr>\n",
       "      <th>3</th>\n",
       "      <td>1500</td>\n",
       "      <td>2003.0</td>\n",
       "      <td>ford f-150</td>\n",
       "      <td>fair</td>\n",
       "      <td>8.0</td>\n",
       "      <td>gas</td>\n",
       "      <td>NaN</td>\n",
       "      <td>automatic</td>\n",
       "      <td>pickup</td>\n",
       "      <td>NaN</td>\n",
       "      <td>NaN</td>\n",
       "      <td>2019-03-22</td>\n",
       "      <td>9</td>\n",
       "    </tr>\n",
       "    <tr>\n",
       "      <th>4</th>\n",
       "      <td>14900</td>\n",
       "      <td>2017.0</td>\n",
       "      <td>chrysler 200</td>\n",
       "      <td>excellent</td>\n",
       "      <td>4.0</td>\n",
       "      <td>gas</td>\n",
       "      <td>80903.0</td>\n",
       "      <td>automatic</td>\n",
       "      <td>sedan</td>\n",
       "      <td>black</td>\n",
       "      <td>NaN</td>\n",
       "      <td>2019-04-02</td>\n",
       "      <td>28</td>\n",
       "    </tr>\n",
       "  </tbody>\n",
       "</table>\n",
       "</div>"
      ],
      "text/plain": [
       "   price  model_year           model  condition  cylinders fuel  odometer  \\\n",
       "0   9400      2011.0          bmw x5       good        6.0  gas  145000.0   \n",
       "1  25500         NaN      ford f-150       good        6.0  gas   88705.0   \n",
       "2   5500      2013.0  hyundai sonata   like new        4.0  gas  110000.0   \n",
       "3   1500      2003.0      ford f-150       fair        8.0  gas       NaN   \n",
       "4  14900      2017.0    chrysler 200  excellent        4.0  gas   80903.0   \n",
       "\n",
       "  transmission    type paint_color  is_4wd date_posted  days_listed  \n",
       "0    automatic     SUV         NaN     1.0  2018-06-23           19  \n",
       "1    automatic  pickup       white     1.0  2018-10-19           50  \n",
       "2    automatic   sedan         red     NaN  2019-02-07           79  \n",
       "3    automatic  pickup         NaN     NaN  2019-03-22            9  \n",
       "4    automatic   sedan       black     NaN  2019-04-02           28  "
      ]
     },
     "execution_count": 6,
     "metadata": {},
     "output_type": "execute_result"
    }
   ],
   "source": [
    "# mostramos una parte de los datos\n",
    "data_vehiculos.head()"
   ]
  },
  {
   "cell_type": "markdown",
   "metadata": {},
   "source": [
    "Notamos que **tenemos 51,525 filas** y **13 columnas**. Los nombres de las columnas no presentan problemas. Algunas de las columnas presentan datos ausentes. Algunos tipos de datos en las columnas no corresponden con su contenido, por ejemplo; la columna `'date_posted'`contiene datos tipo *'object'* cuando debe ser de tipo fecha."
   ]
  },
  {
   "cell_type": "code",
   "execution_count": 7,
   "metadata": {},
   "outputs": [
    {
     "data": {
      "text/plain": [
       "price               0\n",
       "model_year       3619\n",
       "model               0\n",
       "condition           0\n",
       "cylinders        5260\n",
       "fuel                0\n",
       "odometer         7892\n",
       "transmission        0\n",
       "type                0\n",
       "paint_color      9267\n",
       "is_4wd          25953\n",
       "date_posted         0\n",
       "days_listed         0\n",
       "dtype: int64"
      ]
     },
     "execution_count": 7,
     "metadata": {},
     "output_type": "execute_result"
    }
   ],
   "source": [
    "# buscamos las columnas con datos ausentes\n",
    "data_vehiculos.isna().sum()"
   ]
  },
  {
   "cell_type": "markdown",
   "metadata": {},
   "source": [
    "Tenemos **5 columnas con valores ausentes.** La columna `'is_4wd'` tiene casi la mitad de valores ausentes, ello quizás se deba a que es una columna que almacena datos de tipo Booleano y el valor 'NaN' sea el valor contrario al capturado."
   ]
  },
  {
   "cell_type": "markdown",
   "metadata": {},
   "source": [
    "[Volver a Contenidos](#inicio) <a id='data_resume'></a>\n",
    "### Conclusiones y siguientes pasos  \n",
    "\n",
    "Hay algunas columnas que necesitamos cambiar el tipo de datos, `'date_posted'` a tipo fecha. Algunas otras tienen valores ausentes y en estas hay que tratar de estimar esos valores ausentes o de ser necesario proceder a quitarlos del dataset. Debemos buscar también si en alguna columna con datos categóricos debemos hacer un reemplazo de las categorías o buscar duplicados implícitos."
   ]
  },
  {
   "cell_type": "code",
   "execution_count": 8,
   "metadata": {},
   "outputs": [
    {
     "data": {
      "text/html": [
       "<div>\n",
       "<style scoped>\n",
       "    .dataframe tbody tr th:only-of-type {\n",
       "        vertical-align: middle;\n",
       "    }\n",
       "\n",
       "    .dataframe tbody tr th {\n",
       "        vertical-align: top;\n",
       "    }\n",
       "\n",
       "    .dataframe thead th {\n",
       "        text-align: right;\n",
       "    }\n",
       "</style>\n",
       "<table border=\"1\" class=\"dataframe\">\n",
       "  <thead>\n",
       "    <tr style=\"text-align: right;\">\n",
       "      <th></th>\n",
       "      <th>price</th>\n",
       "      <th>model_year</th>\n",
       "      <th>cylinders</th>\n",
       "      <th>odometer</th>\n",
       "      <th>is_4wd</th>\n",
       "      <th>days_listed</th>\n",
       "    </tr>\n",
       "  </thead>\n",
       "  <tbody>\n",
       "    <tr>\n",
       "      <th>count</th>\n",
       "      <td>51525.000000</td>\n",
       "      <td>47906.000000</td>\n",
       "      <td>46265.000000</td>\n",
       "      <td>43633.000000</td>\n",
       "      <td>25572.0</td>\n",
       "      <td>51525.00000</td>\n",
       "    </tr>\n",
       "    <tr>\n",
       "      <th>mean</th>\n",
       "      <td>12132.464920</td>\n",
       "      <td>2009.750470</td>\n",
       "      <td>6.125235</td>\n",
       "      <td>115553.461738</td>\n",
       "      <td>1.0</td>\n",
       "      <td>39.55476</td>\n",
       "    </tr>\n",
       "    <tr>\n",
       "      <th>std</th>\n",
       "      <td>10040.803015</td>\n",
       "      <td>6.282065</td>\n",
       "      <td>1.660360</td>\n",
       "      <td>65094.611341</td>\n",
       "      <td>0.0</td>\n",
       "      <td>28.20427</td>\n",
       "    </tr>\n",
       "    <tr>\n",
       "      <th>min</th>\n",
       "      <td>1.000000</td>\n",
       "      <td>1908.000000</td>\n",
       "      <td>3.000000</td>\n",
       "      <td>0.000000</td>\n",
       "      <td>1.0</td>\n",
       "      <td>0.00000</td>\n",
       "    </tr>\n",
       "    <tr>\n",
       "      <th>25%</th>\n",
       "      <td>5000.000000</td>\n",
       "      <td>2006.000000</td>\n",
       "      <td>4.000000</td>\n",
       "      <td>70000.000000</td>\n",
       "      <td>1.0</td>\n",
       "      <td>19.00000</td>\n",
       "    </tr>\n",
       "    <tr>\n",
       "      <th>50%</th>\n",
       "      <td>9000.000000</td>\n",
       "      <td>2011.000000</td>\n",
       "      <td>6.000000</td>\n",
       "      <td>113000.000000</td>\n",
       "      <td>1.0</td>\n",
       "      <td>33.00000</td>\n",
       "    </tr>\n",
       "    <tr>\n",
       "      <th>75%</th>\n",
       "      <td>16839.000000</td>\n",
       "      <td>2014.000000</td>\n",
       "      <td>8.000000</td>\n",
       "      <td>155000.000000</td>\n",
       "      <td>1.0</td>\n",
       "      <td>53.00000</td>\n",
       "    </tr>\n",
       "    <tr>\n",
       "      <th>max</th>\n",
       "      <td>375000.000000</td>\n",
       "      <td>2019.000000</td>\n",
       "      <td>12.000000</td>\n",
       "      <td>990000.000000</td>\n",
       "      <td>1.0</td>\n",
       "      <td>271.00000</td>\n",
       "    </tr>\n",
       "  </tbody>\n",
       "</table>\n",
       "</div>"
      ],
      "text/plain": [
       "               price    model_year     cylinders       odometer   is_4wd  \\\n",
       "count   51525.000000  47906.000000  46265.000000   43633.000000  25572.0   \n",
       "mean    12132.464920   2009.750470      6.125235  115553.461738      1.0   \n",
       "std     10040.803015      6.282065      1.660360   65094.611341      0.0   \n",
       "min         1.000000   1908.000000      3.000000       0.000000      1.0   \n",
       "25%      5000.000000   2006.000000      4.000000   70000.000000      1.0   \n",
       "50%      9000.000000   2011.000000      6.000000  113000.000000      1.0   \n",
       "75%     16839.000000   2014.000000      8.000000  155000.000000      1.0   \n",
       "max    375000.000000   2019.000000     12.000000  990000.000000      1.0   \n",
       "\n",
       "       days_listed  \n",
       "count  51525.00000  \n",
       "mean      39.55476  \n",
       "std       28.20427  \n",
       "min        0.00000  \n",
       "25%       19.00000  \n",
       "50%       33.00000  \n",
       "75%       53.00000  \n",
       "max      271.00000  "
      ]
     },
     "execution_count": 8,
     "metadata": {},
     "output_type": "execute_result"
    }
   ],
   "source": [
    "# obtengamos un resumen de las principales estadísticas del dataset\n",
    "data_vehiculos.describe()"
   ]
  },
  {
   "cell_type": "markdown",
   "metadata": {},
   "source": [
    "[Volver a Contenidos](#inicio) <a id='data_preproc'></a>\n",
    "## Preprocesamiento de datos"
   ]
  },
  {
   "cell_type": "markdown",
   "metadata": {},
   "source": [
    "En esta parte del preprocesamiento de datos vamos a revisar las columnas con valores ausentes y aquellas con valores duplicados implícitos, las que no corresponden el tipo de datos que contiene o aquellas que presentan otro tipo de problemas.\n",
    "<a id='data_nan'></a>\n",
    "### Valores Ausentes  \n",
    "Vamos a empezar por identificar las columnas con datos ausentes."
   ]
  },
  {
   "cell_type": "code",
   "execution_count": 9,
   "metadata": {},
   "outputs": [
    {
     "data": {
      "text/plain": [
       "price               0\n",
       "model_year       3619\n",
       "model               0\n",
       "condition           0\n",
       "cylinders        5260\n",
       "fuel                0\n",
       "odometer         7892\n",
       "transmission        0\n",
       "type                0\n",
       "paint_color      9267\n",
       "is_4wd          25953\n",
       "date_posted         0\n",
       "days_listed         0\n",
       "dtype: int64"
      ]
     },
     "execution_count": 9,
     "metadata": {},
     "output_type": "execute_result"
    }
   ],
   "source": [
    "# identificamos las columnas con valores ausentes\n",
    "data_vehiculos.isna().sum()"
   ]
  },
  {
   "cell_type": "markdown",
   "metadata": {},
   "source": [
    "**Reemplazaremos los valores ausentes en la columna `'is_4wd'` por el valor cero. Asumiremos que el valor uno representa el valor booleano 'True' y cero el valor 'False'.**"
   ]
  },
  {
   "cell_type": "code",
   "execution_count": 10,
   "metadata": {},
   "outputs": [
    {
     "data": {
      "text/plain": [
       "price              0\n",
       "model_year      3619\n",
       "model              0\n",
       "condition          0\n",
       "cylinders       5260\n",
       "fuel               0\n",
       "odometer        7892\n",
       "transmission       0\n",
       "type               0\n",
       "paint_color     9267\n",
       "is_4wd             0\n",
       "date_posted        0\n",
       "days_listed        0\n",
       "dtype: int64"
      ]
     },
     "execution_count": 10,
     "metadata": {},
     "output_type": "execute_result"
    }
   ],
   "source": [
    "# empecemos por reemplazar los valores ausentes en la columna\n",
    "data_vehiculos['is_4wd'].fillna(0,inplace=True)\n",
    "data_vehiculos.isna().sum()"
   ]
  },
  {
   "cell_type": "markdown",
   "metadata": {},
   "source": [
    "A continuación revisaremos las columnas con valores categóricos en búsqueda de problemas a solucionar."
   ]
  },
  {
   "cell_type": "code",
   "execution_count": 11,
   "metadata": {},
   "outputs": [
    {
     "data": {
      "text/plain": [
       "array(['acura tl', 'bmw x5', 'buick enclave', 'cadillac escalade',\n",
       "       'chevrolet camaro', 'chevrolet camaro lt coupe 2d',\n",
       "       'chevrolet colorado', 'chevrolet corvette', 'chevrolet cruze',\n",
       "       'chevrolet equinox', 'chevrolet impala', 'chevrolet malibu',\n",
       "       'chevrolet silverado', 'chevrolet silverado 1500',\n",
       "       'chevrolet silverado 1500 crew', 'chevrolet silverado 2500hd',\n",
       "       'chevrolet silverado 3500hd', 'chevrolet suburban',\n",
       "       'chevrolet tahoe', 'chevrolet trailblazer', 'chevrolet traverse',\n",
       "       'chrysler 200', 'chrysler 300', 'chrysler town & country',\n",
       "       'dodge charger', 'dodge dakota', 'dodge grand caravan',\n",
       "       'ford econoline', 'ford edge', 'ford escape', 'ford expedition',\n",
       "       'ford explorer', 'ford f-150', 'ford f-250', 'ford f-250 sd',\n",
       "       'ford f-250 super duty', 'ford f-350 sd', 'ford f150',\n",
       "       'ford f150 supercrew cab xlt', 'ford f250', 'ford f250 super duty',\n",
       "       'ford f350', 'ford f350 super duty', 'ford focus', 'ford focus se',\n",
       "       'ford fusion', 'ford fusion se', 'ford mustang',\n",
       "       'ford mustang gt coupe 2d', 'ford ranger', 'ford taurus',\n",
       "       'gmc acadia', 'gmc sierra', 'gmc sierra 1500', 'gmc sierra 2500hd',\n",
       "       'gmc yukon', 'honda accord', 'honda civic', 'honda civic lx',\n",
       "       'honda cr-v', 'honda odyssey', 'honda pilot', 'hyundai elantra',\n",
       "       'hyundai santa fe', 'hyundai sonata', 'jeep cherokee',\n",
       "       'jeep grand cherokee', 'jeep grand cherokee laredo',\n",
       "       'jeep liberty', 'jeep wrangler', 'jeep wrangler unlimited',\n",
       "       'kia sorento', 'kia soul', 'mercedes-benz benze sprinter 2500',\n",
       "       'nissan altima', 'nissan frontier', 'nissan frontier crew cab sv',\n",
       "       'nissan maxima', 'nissan murano', 'nissan rogue', 'nissan sentra',\n",
       "       'nissan versa', 'ram 1500', 'ram 2500', 'ram 3500',\n",
       "       'subaru forester', 'subaru impreza', 'subaru outback',\n",
       "       'toyota 4runner', 'toyota camry', 'toyota camry le',\n",
       "       'toyota corolla', 'toyota highlander', 'toyota prius',\n",
       "       'toyota rav4', 'toyota sienna', 'toyota tacoma', 'toyota tundra',\n",
       "       'volkswagen jetta', 'volkswagen passat'], dtype=object)"
      ]
     },
     "execution_count": 11,
     "metadata": {},
     "output_type": "execute_result"
    }
   ],
   "source": [
    "# revisamos la columna 'model'\n",
    "data_vehiculos['model'].sort_values().unique()"
   ]
  },
  {
   "cell_type": "code",
   "execution_count": 12,
   "metadata": {},
   "outputs": [
    {
     "data": {
      "text/plain": [
       "array(['acura tl', 'bmw x5', 'buick enclave', 'cadillac escalade',\n",
       "       'chevrolet camaro', 'chevrolet camaro lt coupe 2d',\n",
       "       'chevrolet colorado', 'chevrolet corvette', 'chevrolet cruze',\n",
       "       'chevrolet equinox', 'chevrolet impala', 'chevrolet malibu',\n",
       "       'chevrolet silverado', 'chevrolet silverado 1500',\n",
       "       'chevrolet silverado 1500 crew', 'chevrolet silverado 2500hd',\n",
       "       'chevrolet silverado 3500hd', 'chevrolet suburban',\n",
       "       'chevrolet tahoe', 'chevrolet trailblazer', 'chevrolet traverse',\n",
       "       'chrysler 200', 'chrysler 300', 'chrysler town & country',\n",
       "       'dodge charger', 'dodge dakota', 'dodge grand caravan',\n",
       "       'ford econoline', 'ford edge', 'ford escape', 'ford expedition',\n",
       "       'ford explorer', 'ford f-150', 'ford f-250', 'ford f-250 sd',\n",
       "       'ford f-250 super duty', 'ford f-350 sd',\n",
       "       'ford f150 supercrew cab xlt', 'ford f250 super duty', 'ford f350',\n",
       "       'ford f350 super duty', 'ford focus', 'ford focus se',\n",
       "       'ford fusion', 'ford fusion se', 'ford mustang',\n",
       "       'ford mustang gt coupe 2d', 'ford ranger', 'ford taurus',\n",
       "       'gmc acadia', 'gmc sierra', 'gmc sierra 1500', 'gmc sierra 2500hd',\n",
       "       'gmc yukon', 'honda accord', 'honda civic', 'honda civic lx',\n",
       "       'honda cr-v', 'honda odyssey', 'honda pilot', 'hyundai elantra',\n",
       "       'hyundai santa fe', 'hyundai sonata', 'jeep cherokee',\n",
       "       'jeep grand cherokee', 'jeep grand cherokee laredo',\n",
       "       'jeep liberty', 'jeep wrangler', 'jeep wrangler unlimited',\n",
       "       'kia sorento', 'kia soul', 'mercedes-benz benze sprinter 2500',\n",
       "       'nissan altima', 'nissan frontier', 'nissan frontier crew cab sv',\n",
       "       'nissan maxima', 'nissan murano', 'nissan rogue', 'nissan sentra',\n",
       "       'nissan versa', 'ram 1500', 'ram 2500', 'ram 3500',\n",
       "       'subaru forester', 'subaru impreza', 'subaru outback',\n",
       "       'toyota 4runner', 'toyota camry', 'toyota camry le',\n",
       "       'toyota corolla', 'toyota highlander', 'toyota prius',\n",
       "       'toyota rav4', 'toyota sienna', 'toyota tacoma', 'toyota tundra',\n",
       "       'volkswagen jetta', 'volkswagen passat'], dtype=object)"
      ]
     },
     "execution_count": 12,
     "metadata": {},
     "output_type": "execute_result"
    }
   ],
   "source": [
    "# reemplazamos el valor 'ford f150' por 'ford f-150', el valor 'ford f250' por 'ford f-250' y verificamos el reemplazo\n",
    "data_vehiculos['model'].replace('ford f150','ford f-150',inplace=True)\n",
    "data_vehiculos['model'].replace('ford f250','ford f-250',inplace=True)\n",
    "data_vehiculos['model'].sort_values().unique()"
   ]
  },
  {
   "cell_type": "code",
   "execution_count": 13,
   "metadata": {},
   "outputs": [
    {
     "data": {
      "text/plain": [
       "array(['excellent', 'fair', 'good', 'like new', 'new', 'salvage'],\n",
       "      dtype=object)"
      ]
     },
     "execution_count": 13,
     "metadata": {},
     "output_type": "execute_result"
    }
   ],
   "source": [
    "# revisamos la columna 'condition'\n",
    "data_vehiculos['condition'].sort_values().unique()"
   ]
  },
  {
   "cell_type": "code",
   "execution_count": 14,
   "metadata": {},
   "outputs": [
    {
     "data": {
      "text/plain": [
       "array(['diesel', 'electric', 'gas', 'hybrid', 'other'], dtype=object)"
      ]
     },
     "execution_count": 14,
     "metadata": {},
     "output_type": "execute_result"
    }
   ],
   "source": [
    "# revisamos la columna 'fuel'\n",
    "data_vehiculos['fuel'].sort_values().unique()"
   ]
  },
  {
   "cell_type": "code",
   "execution_count": 15,
   "metadata": {},
   "outputs": [
    {
     "data": {
      "text/plain": [
       "array(['automatic', 'manual', 'other'], dtype=object)"
      ]
     },
     "execution_count": 15,
     "metadata": {},
     "output_type": "execute_result"
    }
   ],
   "source": [
    "# revisamos la columna 'transmission'\n",
    "data_vehiculos['transmission'].sort_values().unique()"
   ]
  },
  {
   "cell_type": "code",
   "execution_count": 16,
   "metadata": {},
   "outputs": [
    {
     "data": {
      "text/plain": [
       "array(['SUV', 'bus', 'convertible', 'coupe', 'hatchback', 'mini-van',\n",
       "       'offroad', 'other', 'pickup', 'sedan', 'truck', 'van', 'wagon'],\n",
       "      dtype=object)"
      ]
     },
     "execution_count": 16,
     "metadata": {},
     "output_type": "execute_result"
    }
   ],
   "source": [
    "# revisamos la columna 'type'\n",
    "data_vehiculos['type'].sort_values().unique()"
   ]
  },
  {
   "cell_type": "code",
   "execution_count": 17,
   "metadata": {},
   "outputs": [
    {
     "data": {
      "text/plain": [
       "array(['bus', 'convertible', 'coupe', 'hatchback', 'mini-van', 'offroad',\n",
       "       'other', 'pickup', 'sedan', 'suv', 'truck', 'van', 'wagon'],\n",
       "      dtype=object)"
      ]
     },
     "execution_count": 17,
     "metadata": {},
     "output_type": "execute_result"
    }
   ],
   "source": [
    "# reemplazamos el valor de 'SUV' por 'suv' y verificamos el reemplazo\n",
    "data_vehiculos['type'].replace('SUV','suv',inplace=True)\n",
    "data_vehiculos['type'].sort_values().unique()"
   ]
  },
  {
   "cell_type": "code",
   "execution_count": 18,
   "metadata": {},
   "outputs": [
    {
     "data": {
      "text/plain": [
       "array(['black', 'blue', 'brown', 'custom', 'green', 'grey', 'orange',\n",
       "       'purple', 'red', 'silver', 'white', 'yellow', nan], dtype=object)"
      ]
     },
     "execution_count": 18,
     "metadata": {},
     "output_type": "execute_result"
    }
   ],
   "source": [
    "# revisamos la columna 'paint_color'\n",
    "data_vehiculos['paint_color'].sort_values().unique()"
   ]
  },
  {
   "cell_type": "code",
   "execution_count": 19,
   "metadata": {},
   "outputs": [
    {
     "data": {
      "text/plain": [
       "price              0\n",
       "model_year      3619\n",
       "model              0\n",
       "condition          0\n",
       "cylinders       5260\n",
       "fuel               0\n",
       "odometer        7892\n",
       "transmission       0\n",
       "type               0\n",
       "paint_color     9267\n",
       "is_4wd             0\n",
       "date_posted        0\n",
       "days_listed        0\n",
       "dtype: int64"
      ]
     },
     "execution_count": 19,
     "metadata": {},
     "output_type": "execute_result"
    }
   ],
   "source": [
    "data_vehiculos.isna().sum()"
   ]
  },
  {
   "cell_type": "markdown",
   "metadata": {},
   "source": [
    "Para los valores ausentes en la variable `'model_year'`, el reemplazo lo haremos a partir de las frecuencias usando la agrupación de la columna `'model'`. \n",
    "\n",
    "Para las siguientes columnas; `'cylinders'`, `'odometer'` y `'paint_color'`, los valores ausentes será dificil hacer un reemplazo ya que, por ejemplo, el valor del kilometraje depende del uso que se le haya dado al vehículo y no del color o modelo del vehículo.  \n",
    "Para la columna `'cylinders'` vamos a buscar valores de reemplazo agrupando por `'model'` y `'model_year'`, ya que el cilindraje si depende del modelo y año del modelo."
   ]
  },
  {
   "cell_type": "code",
   "execution_count": 20,
   "metadata": {},
   "outputs": [
    {
     "data": {
      "text/html": [
       "<div>\n",
       "<style scoped>\n",
       "    .dataframe tbody tr th:only-of-type {\n",
       "        vertical-align: middle;\n",
       "    }\n",
       "\n",
       "    .dataframe tbody tr th {\n",
       "        vertical-align: top;\n",
       "    }\n",
       "\n",
       "    .dataframe thead th {\n",
       "        text-align: right;\n",
       "    }\n",
       "</style>\n",
       "<table border=\"1\" class=\"dataframe\">\n",
       "  <thead>\n",
       "    <tr style=\"text-align: right;\">\n",
       "      <th></th>\n",
       "      <th>model</th>\n",
       "      <th>model_year</th>\n",
       "      <th>frecuencia</th>\n",
       "    </tr>\n",
       "  </thead>\n",
       "  <tbody>\n",
       "    <tr>\n",
       "      <th>0</th>\n",
       "      <td>volkswagen passat</td>\n",
       "      <td>2018.0</td>\n",
       "      <td>1</td>\n",
       "    </tr>\n",
       "    <tr>\n",
       "      <th>1</th>\n",
       "      <td>volkswagen passat</td>\n",
       "      <td>2007.0</td>\n",
       "      <td>12</td>\n",
       "    </tr>\n",
       "    <tr>\n",
       "      <th>2</th>\n",
       "      <td>volkswagen passat</td>\n",
       "      <td>1995.0</td>\n",
       "      <td>1</td>\n",
       "    </tr>\n",
       "    <tr>\n",
       "      <th>3</th>\n",
       "      <td>volkswagen passat</td>\n",
       "      <td>1999.0</td>\n",
       "      <td>1</td>\n",
       "    </tr>\n",
       "    <tr>\n",
       "      <th>4</th>\n",
       "      <td>volkswagen passat</td>\n",
       "      <td>2000.0</td>\n",
       "      <td>7</td>\n",
       "    </tr>\n",
       "  </tbody>\n",
       "</table>\n",
       "</div>"
      ],
      "text/plain": [
       "               model  model_year  frecuencia\n",
       "0  volkswagen passat      2018.0           1\n",
       "1  volkswagen passat      2007.0          12\n",
       "2  volkswagen passat      1995.0           1\n",
       "3  volkswagen passat      1999.0           1\n",
       "4  volkswagen passat      2000.0           7"
      ]
     },
     "execution_count": 20,
     "metadata": {},
     "output_type": "execute_result"
    }
   ],
   "source": [
    "\"\"\"creamos un DataFrame agrupado por 'model' y 'model_year' con las frecuencias correspondientes, sin los valores nulos \"\"\"\n",
    "data_vehiculos_notna=data_vehiculos[data_vehiculos['model_year'].notna()]\n",
    "estimados_model=data_vehiculos_notna.pivot_table(index=['model','model_year'],values='condition',aggfunc='count').sort_values(by='model',ascending=False)\n",
    "estimados_model.reset_index(inplace=True)\n",
    "estimados_model.columns=(['model','model_year','frecuencia'])\n",
    "estimados_model.head()"
   ]
  },
  {
   "cell_type": "markdown",
   "metadata": {},
   "source": [
    "[Volver a Contenidos](#inicio)"
   ]
  },
  {
   "cell_type": "code",
   "execution_count": 21,
   "metadata": {},
   "outputs": [],
   "source": [
    "\"\"\"creamos una función que reemplaza los valores ausentes en 'model_year' en base a sus frecuencias,\n",
    "agrupado por 'model' y 'model_year' \"\"\"\n",
    "    \n",
    "def replace_model_year(row):\n",
    "    \"\"\"Esta función reemplaza los valores ausentes en 'model_year'\n",
    "        estimados_model= el DataFrame que contiene las frecuencias para hacer los reemplazos\n",
    "    \"\"\"\n",
    "    \n",
    "    # obtenemos el año del vehiculo\n",
    "    year_car=row['model_year']\n",
    "  \n",
    "    if math.isnan(year_car):\n",
    "\n",
    "        # obtenemos el modelo del vehiculo\n",
    "        modelo=row['model']\n",
    "        # obtenemos la frecuencia máxima en base al modelo y año\n",
    "        frec=estimados_model[estimados_model['model']==modelo]['frecuencia'].max()\n",
    "        # buscamos esa frecuencia para obtener el año del vehiculo\n",
    "        try:\n",
    "            valor_reemplazo=float(estimados_model.loc[(estimados_model['model']==modelo)&(estimados_model['frecuencia']==frec)]['model_year'])\n",
    "            return valor_reemplazo\n",
    "        except:\n",
    "            # si el objeto resultante es una serie, mismas frecuencias para distintos 'model_year' elegimos un año al azar\n",
    "            valor_reemplazo=estimados_model.loc[(estimados_model['model']==modelo)&(estimados_model['frecuencia']==frec)]['model_year']\n",
    "            return random.choice(valor_reemplazo.values)\n",
    "    else:\n",
    "        valor_reemplazo=row['model_year']\n",
    "        return valor_reemplazo"
   ]
  },
  {
   "cell_type": "code",
   "execution_count": 22,
   "metadata": {},
   "outputs": [],
   "source": [
    "# aplicamos la función para hacer los reemplazos en 'model_year'\n",
    "data_vehiculos['model_year']=data_vehiculos.apply(replace_model_year,axis=1)"
   ]
  },
  {
   "cell_type": "code",
   "execution_count": 23,
   "metadata": {},
   "outputs": [
    {
     "data": {
      "text/html": [
       "<div>\n",
       "<style scoped>\n",
       "    .dataframe tbody tr th:only-of-type {\n",
       "        vertical-align: middle;\n",
       "    }\n",
       "\n",
       "    .dataframe tbody tr th {\n",
       "        vertical-align: top;\n",
       "    }\n",
       "\n",
       "    .dataframe thead th {\n",
       "        text-align: right;\n",
       "    }\n",
       "</style>\n",
       "<table border=\"1\" class=\"dataframe\">\n",
       "  <thead>\n",
       "    <tr style=\"text-align: right;\">\n",
       "      <th></th>\n",
       "      <th>price</th>\n",
       "      <th>model_year</th>\n",
       "      <th>model</th>\n",
       "      <th>condition</th>\n",
       "      <th>cylinders</th>\n",
       "      <th>fuel</th>\n",
       "      <th>odometer</th>\n",
       "      <th>transmission</th>\n",
       "      <th>type</th>\n",
       "      <th>paint_color</th>\n",
       "      <th>is_4wd</th>\n",
       "      <th>date_posted</th>\n",
       "      <th>days_listed</th>\n",
       "    </tr>\n",
       "  </thead>\n",
       "  <tbody>\n",
       "    <tr>\n",
       "      <th>0</th>\n",
       "      <td>9400</td>\n",
       "      <td>2011.0</td>\n",
       "      <td>bmw x5</td>\n",
       "      <td>good</td>\n",
       "      <td>6.0</td>\n",
       "      <td>gas</td>\n",
       "      <td>145000.0</td>\n",
       "      <td>automatic</td>\n",
       "      <td>suv</td>\n",
       "      <td>NaN</td>\n",
       "      <td>1.0</td>\n",
       "      <td>2018-06-23</td>\n",
       "      <td>19</td>\n",
       "    </tr>\n",
       "    <tr>\n",
       "      <th>1</th>\n",
       "      <td>25500</td>\n",
       "      <td>2013.0</td>\n",
       "      <td>ford f-150</td>\n",
       "      <td>good</td>\n",
       "      <td>6.0</td>\n",
       "      <td>gas</td>\n",
       "      <td>88705.0</td>\n",
       "      <td>automatic</td>\n",
       "      <td>pickup</td>\n",
       "      <td>white</td>\n",
       "      <td>1.0</td>\n",
       "      <td>2018-10-19</td>\n",
       "      <td>50</td>\n",
       "    </tr>\n",
       "    <tr>\n",
       "      <th>2</th>\n",
       "      <td>5500</td>\n",
       "      <td>2013.0</td>\n",
       "      <td>hyundai sonata</td>\n",
       "      <td>like new</td>\n",
       "      <td>4.0</td>\n",
       "      <td>gas</td>\n",
       "      <td>110000.0</td>\n",
       "      <td>automatic</td>\n",
       "      <td>sedan</td>\n",
       "      <td>red</td>\n",
       "      <td>0.0</td>\n",
       "      <td>2019-02-07</td>\n",
       "      <td>79</td>\n",
       "    </tr>\n",
       "    <tr>\n",
       "      <th>3</th>\n",
       "      <td>1500</td>\n",
       "      <td>2003.0</td>\n",
       "      <td>ford f-150</td>\n",
       "      <td>fair</td>\n",
       "      <td>8.0</td>\n",
       "      <td>gas</td>\n",
       "      <td>NaN</td>\n",
       "      <td>automatic</td>\n",
       "      <td>pickup</td>\n",
       "      <td>NaN</td>\n",
       "      <td>0.0</td>\n",
       "      <td>2019-03-22</td>\n",
       "      <td>9</td>\n",
       "    </tr>\n",
       "    <tr>\n",
       "      <th>4</th>\n",
       "      <td>14900</td>\n",
       "      <td>2017.0</td>\n",
       "      <td>chrysler 200</td>\n",
       "      <td>excellent</td>\n",
       "      <td>4.0</td>\n",
       "      <td>gas</td>\n",
       "      <td>80903.0</td>\n",
       "      <td>automatic</td>\n",
       "      <td>sedan</td>\n",
       "      <td>black</td>\n",
       "      <td>0.0</td>\n",
       "      <td>2019-04-02</td>\n",
       "      <td>28</td>\n",
       "    </tr>\n",
       "  </tbody>\n",
       "</table>\n",
       "</div>"
      ],
      "text/plain": [
       "   price  model_year           model  condition  cylinders fuel  odometer  \\\n",
       "0   9400      2011.0          bmw x5       good        6.0  gas  145000.0   \n",
       "1  25500      2013.0      ford f-150       good        6.0  gas   88705.0   \n",
       "2   5500      2013.0  hyundai sonata   like new        4.0  gas  110000.0   \n",
       "3   1500      2003.0      ford f-150       fair        8.0  gas       NaN   \n",
       "4  14900      2017.0    chrysler 200  excellent        4.0  gas   80903.0   \n",
       "\n",
       "  transmission    type paint_color  is_4wd date_posted  days_listed  \n",
       "0    automatic     suv         NaN     1.0  2018-06-23           19  \n",
       "1    automatic  pickup       white     1.0  2018-10-19           50  \n",
       "2    automatic   sedan         red     0.0  2019-02-07           79  \n",
       "3    automatic  pickup         NaN     0.0  2019-03-22            9  \n",
       "4    automatic   sedan       black     0.0  2019-04-02           28  "
      ]
     },
     "execution_count": 23,
     "metadata": {},
     "output_type": "execute_result"
    }
   ],
   "source": [
    "data_vehiculos.head()"
   ]
  },
  {
   "cell_type": "code",
   "execution_count": 24,
   "metadata": {},
   "outputs": [
    {
     "data": {
      "text/plain": [
       "price              0\n",
       "model_year         0\n",
       "model              0\n",
       "condition          0\n",
       "cylinders       5260\n",
       "fuel               0\n",
       "odometer        7892\n",
       "transmission       0\n",
       "type               0\n",
       "paint_color     9267\n",
       "is_4wd             0\n",
       "date_posted        0\n",
       "days_listed        0\n",
       "dtype: int64"
      ]
     },
     "execution_count": 24,
     "metadata": {},
     "output_type": "execute_result"
    }
   ],
   "source": [
    "data_vehiculos.isna().sum()"
   ]
  },
  {
   "cell_type": "markdown",
   "metadata": {},
   "source": [
    "Ahora vamos a buscar hacer el reemplazo de los valores ausentes en la columna `'cylinders'`. Para la columna `'cylinders'`, vamos a buscar valores de reemplazo agrupando por `'model'` y usando la mediana de `'cylinders'` como valor de reemplazo."
   ]
  },
  {
   "cell_type": "code",
   "execution_count": 25,
   "metadata": {},
   "outputs": [
    {
     "data": {
      "text/html": [
       "<div>\n",
       "<style scoped>\n",
       "    .dataframe tbody tr th:only-of-type {\n",
       "        vertical-align: middle;\n",
       "    }\n",
       "\n",
       "    .dataframe tbody tr th {\n",
       "        vertical-align: top;\n",
       "    }\n",
       "\n",
       "    .dataframe thead th {\n",
       "        text-align: right;\n",
       "    }\n",
       "</style>\n",
       "<table border=\"1\" class=\"dataframe\">\n",
       "  <thead>\n",
       "    <tr style=\"text-align: right;\">\n",
       "      <th></th>\n",
       "      <th>model</th>\n",
       "      <th>cylinders_mediana</th>\n",
       "    </tr>\n",
       "  </thead>\n",
       "  <tbody>\n",
       "    <tr>\n",
       "      <th>0</th>\n",
       "      <td>volkswagen passat</td>\n",
       "      <td>4.0</td>\n",
       "    </tr>\n",
       "    <tr>\n",
       "      <th>1</th>\n",
       "      <td>volkswagen jetta</td>\n",
       "      <td>4.0</td>\n",
       "    </tr>\n",
       "    <tr>\n",
       "      <th>2</th>\n",
       "      <td>toyota tundra</td>\n",
       "      <td>8.0</td>\n",
       "    </tr>\n",
       "    <tr>\n",
       "      <th>3</th>\n",
       "      <td>toyota tacoma</td>\n",
       "      <td>6.0</td>\n",
       "    </tr>\n",
       "    <tr>\n",
       "      <th>4</th>\n",
       "      <td>toyota sienna</td>\n",
       "      <td>6.0</td>\n",
       "    </tr>\n",
       "  </tbody>\n",
       "</table>\n",
       "</div>"
      ],
      "text/plain": [
       "               model  cylinders_mediana\n",
       "0  volkswagen passat                4.0\n",
       "1   volkswagen jetta                4.0\n",
       "2      toyota tundra                8.0\n",
       "3      toyota tacoma                6.0\n",
       "4      toyota sienna                6.0"
      ]
     },
     "execution_count": 25,
     "metadata": {},
     "output_type": "execute_result"
    }
   ],
   "source": [
    "\"\"\"creamos un DataFrame agrupado por 'model' y obtenemos la mediana de 'cylinders', sin los valores nulos \"\"\"\n",
    "data_vehiculos_notna=data_vehiculos[data_vehiculos['cylinders'].notna()]\n",
    "estimados_cylinders=data_vehiculos_notna.pivot_table(index='model',values='cylinders',aggfunc='median').sort_values(by='model',ascending=False)\n",
    "estimados_cylinders.reset_index(inplace=True)\n",
    "estimados_cylinders.columns=(['model','cylinders_mediana'])\n",
    "estimados_cylinders.head()"
   ]
  },
  {
   "cell_type": "code",
   "execution_count": 26,
   "metadata": {},
   "outputs": [],
   "source": [
    "\"\"\"creamos una función que reemplaza los valores ausentes en 'cylinders' en base a su mediana, agrupando por 'model'\"\"\"\n",
    "\n",
    "def replace_model_year(row):\n",
    "    \"\"\"Esta función reemplaza los valores ausentes en 'cylinders'\n",
    "        estimados_cylinders= el DataFrame que contiene las medianas para hacer los reemplazos\n",
    "    \"\"\"\n",
    "    \n",
    "    # obtenemos el cilindraje del vehiculo\n",
    "    cilindros=row['cylinders']\n",
    "  \n",
    "    # probamos si el cilindraje está ausente\n",
    "    if math.isnan(cilindros):\n",
    "\n",
    "        # obtenemos el modelo del vehiculo\n",
    "        modelo=row['model']\n",
    "       \n",
    "        # obtenemos la mediana en base al modelo\n",
    "        mediana=estimados_cylinders.loc[(estimados_cylinders['model']==modelo)]['cylinders_mediana']\n",
    "        \n",
    "        # probamos si ese modelo tiene mediana para el cilindraje o no existe esa combinacion\n",
    "        if math.isnan(mediana):\n",
    "            return row['cylinders']\n",
    "        else:\n",
    "            valor_reemplazo=float(mediana)\n",
    "            return valor_reemplazo  \n",
    "    else:\n",
    "        return row['cylinders']"
   ]
  },
  {
   "cell_type": "code",
   "execution_count": 27,
   "metadata": {},
   "outputs": [],
   "source": [
    "# aplicamos la función para hacer los reemplazos en 'cylinders'\n",
    "data_vehiculos['cylinders']=data_vehiculos.apply(replace_model_year,axis=1)"
   ]
  },
  {
   "cell_type": "code",
   "execution_count": 28,
   "metadata": {},
   "outputs": [
    {
     "data": {
      "text/plain": [
       "price              0\n",
       "model_year         0\n",
       "model              0\n",
       "condition          0\n",
       "cylinders          0\n",
       "fuel               0\n",
       "odometer        7892\n",
       "transmission       0\n",
       "type               0\n",
       "paint_color     9267\n",
       "is_4wd             0\n",
       "date_posted        0\n",
       "days_listed        0\n",
       "dtype: int64"
      ]
     },
     "execution_count": 28,
     "metadata": {},
     "output_type": "execute_result"
    }
   ],
   "source": [
    "data_vehiculos.isna().sum()"
   ]
  },
  {
   "cell_type": "markdown",
   "metadata": {},
   "source": [
    "Hemos eliminado los valores ausentes en la columna `'cylinders'`. Para los valores ausentes en la columna `'paint_color'` vamos a reemplazarlos con 'unknown'."
   ]
  },
  {
   "cell_type": "code",
   "execution_count": 29,
   "metadata": {},
   "outputs": [
    {
     "data": {
      "text/plain": [
       "price              0\n",
       "model_year         0\n",
       "model              0\n",
       "condition          0\n",
       "cylinders          0\n",
       "fuel               0\n",
       "odometer        7892\n",
       "transmission       0\n",
       "type               0\n",
       "paint_color        0\n",
       "is_4wd             0\n",
       "date_posted        0\n",
       "days_listed        0\n",
       "dtype: int64"
      ]
     },
     "execution_count": 29,
     "metadata": {},
     "output_type": "execute_result"
    }
   ],
   "source": [
    "# reemplazamos los valores ausentes en 'paint_color' con 'unknown'\n",
    "data_vehiculos['paint_color'].fillna('unknown',inplace=True)\n",
    "data_vehiculos.isna().sum()"
   ]
  },
  {
   "cell_type": "markdown",
   "metadata": {},
   "source": [
    "Por el momento, la columna `'odometer'` la dejaremos con esos valores ausentes."
   ]
  },
  {
   "cell_type": "markdown",
   "metadata": {},
   "source": [
    "[Volver a Contenidos](#inicio) <a id='data_type'></a>\n",
    "### Corregir los tipos de datos"
   ]
  },
  {
   "cell_type": "markdown",
   "metadata": {},
   "source": [
    "Vamos a corregir los datos de la columna `'date_posted'` para que pueda ser tratada con un formato de tipo fecha."
   ]
  },
  {
   "cell_type": "code",
   "execution_count": 30,
   "metadata": {},
   "outputs": [
    {
     "name": "stdout",
     "output_type": "stream",
     "text": [
      "<class 'pandas.core.frame.DataFrame'>\n",
      "RangeIndex: 51525 entries, 0 to 51524\n",
      "Data columns (total 13 columns):\n",
      " #   Column        Non-Null Count  Dtype         \n",
      "---  ------        --------------  -----         \n",
      " 0   price         51525 non-null  int64         \n",
      " 1   model_year    51525 non-null  float64       \n",
      " 2   model         51525 non-null  object        \n",
      " 3   condition     51525 non-null  object        \n",
      " 4   cylinders     51525 non-null  float64       \n",
      " 5   fuel          51525 non-null  object        \n",
      " 6   odometer      43633 non-null  float64       \n",
      " 7   transmission  51525 non-null  object        \n",
      " 8   type          51525 non-null  object        \n",
      " 9   paint_color   51525 non-null  object        \n",
      " 10  is_4wd        51525 non-null  float64       \n",
      " 11  date_posted   51525 non-null  datetime64[ns]\n",
      " 12  days_listed   51525 non-null  int64         \n",
      "dtypes: datetime64[ns](1), float64(4), int64(2), object(6)\n",
      "memory usage: 5.1+ MB\n"
     ]
    }
   ],
   "source": [
    "data_vehiculos['date_posted']=pd.to_datetime(data_vehiculos['date_posted'],format='%Y-%m-%d')\n",
    "data_vehiculos.info()"
   ]
  },
  {
   "cell_type": "markdown",
   "metadata": {},
   "source": [
    "[Volver a Contenidos](#inicio) <a id='data_add'></a>\n",
    "### Enriquecer datos"
   ]
  },
  {
   "cell_type": "markdown",
   "metadata": {},
   "source": [
    "Una vez que hemos dado el tipo de formato correcto a la columna `'date_posted'`, vamos a proceder a obtener otras columnas."
   ]
  },
  {
   "cell_type": "code",
   "execution_count": 31,
   "metadata": {},
   "outputs": [],
   "source": [
    "\"\"\"creamos una función para agregar los años de uso del vehículo cuando se colocó el anuncio\"\"\"\n",
    "\n",
    "def agregar_years(row):\n",
    "    \"\"\"Esta función agrega los años de uso del vehículo cuando el anuncio se publicó\"\"\"\n",
    "    \n",
    "    row['date_posted'].date()\n",
    "    if math.isnan(row['model_year']):\n",
    "        return row['model_year']\n",
    "    else:\n",
    "        years=row['date_posted'].year-row['model_year']\n",
    "    return years"
   ]
  },
  {
   "cell_type": "code",
   "execution_count": 32,
   "metadata": {},
   "outputs": [],
   "source": [
    "# Agregamos los años de uso del vehículo cuando el anuncio se colocó\n",
    "data_vehiculos['years_used']=data_vehiculos.apply(agregar_years,axis=1)"
   ]
  },
  {
   "cell_type": "code",
   "execution_count": 33,
   "metadata": {},
   "outputs": [
    {
     "data": {
      "text/html": [
       "<div>\n",
       "<style scoped>\n",
       "    .dataframe tbody tr th:only-of-type {\n",
       "        vertical-align: middle;\n",
       "    }\n",
       "\n",
       "    .dataframe tbody tr th {\n",
       "        vertical-align: top;\n",
       "    }\n",
       "\n",
       "    .dataframe thead th {\n",
       "        text-align: right;\n",
       "    }\n",
       "</style>\n",
       "<table border=\"1\" class=\"dataframe\">\n",
       "  <thead>\n",
       "    <tr style=\"text-align: right;\">\n",
       "      <th></th>\n",
       "      <th>price</th>\n",
       "      <th>model_year</th>\n",
       "      <th>model</th>\n",
       "      <th>condition</th>\n",
       "      <th>cylinders</th>\n",
       "      <th>fuel</th>\n",
       "      <th>odometer</th>\n",
       "      <th>transmission</th>\n",
       "      <th>type</th>\n",
       "      <th>paint_color</th>\n",
       "      <th>is_4wd</th>\n",
       "      <th>date_posted</th>\n",
       "      <th>days_listed</th>\n",
       "      <th>years_used</th>\n",
       "    </tr>\n",
       "  </thead>\n",
       "  <tbody>\n",
       "    <tr>\n",
       "      <th>0</th>\n",
       "      <td>9400</td>\n",
       "      <td>2011.0</td>\n",
       "      <td>bmw x5</td>\n",
       "      <td>good</td>\n",
       "      <td>6.0</td>\n",
       "      <td>gas</td>\n",
       "      <td>145000.0</td>\n",
       "      <td>automatic</td>\n",
       "      <td>suv</td>\n",
       "      <td>unknown</td>\n",
       "      <td>1.0</td>\n",
       "      <td>2018-06-23</td>\n",
       "      <td>19</td>\n",
       "      <td>7.0</td>\n",
       "    </tr>\n",
       "    <tr>\n",
       "      <th>1</th>\n",
       "      <td>25500</td>\n",
       "      <td>2013.0</td>\n",
       "      <td>ford f-150</td>\n",
       "      <td>good</td>\n",
       "      <td>6.0</td>\n",
       "      <td>gas</td>\n",
       "      <td>88705.0</td>\n",
       "      <td>automatic</td>\n",
       "      <td>pickup</td>\n",
       "      <td>white</td>\n",
       "      <td>1.0</td>\n",
       "      <td>2018-10-19</td>\n",
       "      <td>50</td>\n",
       "      <td>5.0</td>\n",
       "    </tr>\n",
       "    <tr>\n",
       "      <th>2</th>\n",
       "      <td>5500</td>\n",
       "      <td>2013.0</td>\n",
       "      <td>hyundai sonata</td>\n",
       "      <td>like new</td>\n",
       "      <td>4.0</td>\n",
       "      <td>gas</td>\n",
       "      <td>110000.0</td>\n",
       "      <td>automatic</td>\n",
       "      <td>sedan</td>\n",
       "      <td>red</td>\n",
       "      <td>0.0</td>\n",
       "      <td>2019-02-07</td>\n",
       "      <td>79</td>\n",
       "      <td>6.0</td>\n",
       "    </tr>\n",
       "    <tr>\n",
       "      <th>3</th>\n",
       "      <td>1500</td>\n",
       "      <td>2003.0</td>\n",
       "      <td>ford f-150</td>\n",
       "      <td>fair</td>\n",
       "      <td>8.0</td>\n",
       "      <td>gas</td>\n",
       "      <td>NaN</td>\n",
       "      <td>automatic</td>\n",
       "      <td>pickup</td>\n",
       "      <td>unknown</td>\n",
       "      <td>0.0</td>\n",
       "      <td>2019-03-22</td>\n",
       "      <td>9</td>\n",
       "      <td>16.0</td>\n",
       "    </tr>\n",
       "    <tr>\n",
       "      <th>4</th>\n",
       "      <td>14900</td>\n",
       "      <td>2017.0</td>\n",
       "      <td>chrysler 200</td>\n",
       "      <td>excellent</td>\n",
       "      <td>4.0</td>\n",
       "      <td>gas</td>\n",
       "      <td>80903.0</td>\n",
       "      <td>automatic</td>\n",
       "      <td>sedan</td>\n",
       "      <td>black</td>\n",
       "      <td>0.0</td>\n",
       "      <td>2019-04-02</td>\n",
       "      <td>28</td>\n",
       "      <td>2.0</td>\n",
       "    </tr>\n",
       "  </tbody>\n",
       "</table>\n",
       "</div>"
      ],
      "text/plain": [
       "   price  model_year           model  condition  cylinders fuel  odometer  \\\n",
       "0   9400      2011.0          bmw x5       good        6.0  gas  145000.0   \n",
       "1  25500      2013.0      ford f-150       good        6.0  gas   88705.0   \n",
       "2   5500      2013.0  hyundai sonata   like new        4.0  gas  110000.0   \n",
       "3   1500      2003.0      ford f-150       fair        8.0  gas       NaN   \n",
       "4  14900      2017.0    chrysler 200  excellent        4.0  gas   80903.0   \n",
       "\n",
       "  transmission    type paint_color  is_4wd date_posted  days_listed  \\\n",
       "0    automatic     suv     unknown     1.0  2018-06-23           19   \n",
       "1    automatic  pickup       white     1.0  2018-10-19           50   \n",
       "2    automatic   sedan         red     0.0  2019-02-07           79   \n",
       "3    automatic  pickup     unknown     0.0  2019-03-22            9   \n",
       "4    automatic   sedan       black     0.0  2019-04-02           28   \n",
       "\n",
       "   years_used  \n",
       "0         7.0  \n",
       "1         5.0  \n",
       "2         6.0  \n",
       "3        16.0  \n",
       "4         2.0  "
      ]
     },
     "execution_count": 33,
     "metadata": {},
     "output_type": "execute_result"
    }
   ],
   "source": [
    "# verificamos que se haya creado\n",
    "data_vehiculos.head()"
   ]
  },
  {
   "cell_type": "code",
   "execution_count": 34,
   "metadata": {},
   "outputs": [],
   "source": [
    "\"\"\" creamos una función para agregar el millaje del vehículo por año \"\"\"\n",
    "\n",
    "def agregar_millas(row):\n",
    "    \"\"\"Esta función agrega el millaje del vehículo por año al set de datos\n",
    "        Si la columna 'years_used' tiene valor cero, la columna 'mill_mean_year' tendrá el valor de 'odometer'\n",
    "    \"\"\"\n",
    "    \n",
    "    year=row['years_used']\n",
    "    if year>0:\n",
    "        millaje=row['odometer']/row['years_used']\n",
    "        return millaje\n",
    "    else:\n",
    "        millaje=row['odometer']\n",
    "    return millaje"
   ]
  },
  {
   "cell_type": "code",
   "execution_count": 35,
   "metadata": {},
   "outputs": [],
   "source": [
    "# Agregamos el millaje promedio del vehículo por año\n",
    "data_vehiculos['mill_mean_year']=data_vehiculos.apply(agregar_millas,axis=1)"
   ]
  },
  {
   "cell_type": "code",
   "execution_count": 36,
   "metadata": {},
   "outputs": [
    {
     "data": {
      "text/html": [
       "<div>\n",
       "<style scoped>\n",
       "    .dataframe tbody tr th:only-of-type {\n",
       "        vertical-align: middle;\n",
       "    }\n",
       "\n",
       "    .dataframe tbody tr th {\n",
       "        vertical-align: top;\n",
       "    }\n",
       "\n",
       "    .dataframe thead th {\n",
       "        text-align: right;\n",
       "    }\n",
       "</style>\n",
       "<table border=\"1\" class=\"dataframe\">\n",
       "  <thead>\n",
       "    <tr style=\"text-align: right;\">\n",
       "      <th></th>\n",
       "      <th>price</th>\n",
       "      <th>model_year</th>\n",
       "      <th>model</th>\n",
       "      <th>condition</th>\n",
       "      <th>cylinders</th>\n",
       "      <th>fuel</th>\n",
       "      <th>odometer</th>\n",
       "      <th>transmission</th>\n",
       "      <th>type</th>\n",
       "      <th>paint_color</th>\n",
       "      <th>is_4wd</th>\n",
       "      <th>date_posted</th>\n",
       "      <th>days_listed</th>\n",
       "      <th>years_used</th>\n",
       "      <th>mill_mean_year</th>\n",
       "    </tr>\n",
       "  </thead>\n",
       "  <tbody>\n",
       "    <tr>\n",
       "      <th>0</th>\n",
       "      <td>9400</td>\n",
       "      <td>2011.0</td>\n",
       "      <td>bmw x5</td>\n",
       "      <td>good</td>\n",
       "      <td>6.0</td>\n",
       "      <td>gas</td>\n",
       "      <td>145000.0</td>\n",
       "      <td>automatic</td>\n",
       "      <td>suv</td>\n",
       "      <td>unknown</td>\n",
       "      <td>1.0</td>\n",
       "      <td>2018-06-23</td>\n",
       "      <td>19</td>\n",
       "      <td>7.0</td>\n",
       "      <td>20714.285714</td>\n",
       "    </tr>\n",
       "    <tr>\n",
       "      <th>1</th>\n",
       "      <td>25500</td>\n",
       "      <td>2013.0</td>\n",
       "      <td>ford f-150</td>\n",
       "      <td>good</td>\n",
       "      <td>6.0</td>\n",
       "      <td>gas</td>\n",
       "      <td>88705.0</td>\n",
       "      <td>automatic</td>\n",
       "      <td>pickup</td>\n",
       "      <td>white</td>\n",
       "      <td>1.0</td>\n",
       "      <td>2018-10-19</td>\n",
       "      <td>50</td>\n",
       "      <td>5.0</td>\n",
       "      <td>17741.000000</td>\n",
       "    </tr>\n",
       "    <tr>\n",
       "      <th>2</th>\n",
       "      <td>5500</td>\n",
       "      <td>2013.0</td>\n",
       "      <td>hyundai sonata</td>\n",
       "      <td>like new</td>\n",
       "      <td>4.0</td>\n",
       "      <td>gas</td>\n",
       "      <td>110000.0</td>\n",
       "      <td>automatic</td>\n",
       "      <td>sedan</td>\n",
       "      <td>red</td>\n",
       "      <td>0.0</td>\n",
       "      <td>2019-02-07</td>\n",
       "      <td>79</td>\n",
       "      <td>6.0</td>\n",
       "      <td>18333.333333</td>\n",
       "    </tr>\n",
       "    <tr>\n",
       "      <th>3</th>\n",
       "      <td>1500</td>\n",
       "      <td>2003.0</td>\n",
       "      <td>ford f-150</td>\n",
       "      <td>fair</td>\n",
       "      <td>8.0</td>\n",
       "      <td>gas</td>\n",
       "      <td>NaN</td>\n",
       "      <td>automatic</td>\n",
       "      <td>pickup</td>\n",
       "      <td>unknown</td>\n",
       "      <td>0.0</td>\n",
       "      <td>2019-03-22</td>\n",
       "      <td>9</td>\n",
       "      <td>16.0</td>\n",
       "      <td>NaN</td>\n",
       "    </tr>\n",
       "    <tr>\n",
       "      <th>4</th>\n",
       "      <td>14900</td>\n",
       "      <td>2017.0</td>\n",
       "      <td>chrysler 200</td>\n",
       "      <td>excellent</td>\n",
       "      <td>4.0</td>\n",
       "      <td>gas</td>\n",
       "      <td>80903.0</td>\n",
       "      <td>automatic</td>\n",
       "      <td>sedan</td>\n",
       "      <td>black</td>\n",
       "      <td>0.0</td>\n",
       "      <td>2019-04-02</td>\n",
       "      <td>28</td>\n",
       "      <td>2.0</td>\n",
       "      <td>40451.500000</td>\n",
       "    </tr>\n",
       "  </tbody>\n",
       "</table>\n",
       "</div>"
      ],
      "text/plain": [
       "   price  model_year           model  condition  cylinders fuel  odometer  \\\n",
       "0   9400      2011.0          bmw x5       good        6.0  gas  145000.0   \n",
       "1  25500      2013.0      ford f-150       good        6.0  gas   88705.0   \n",
       "2   5500      2013.0  hyundai sonata   like new        4.0  gas  110000.0   \n",
       "3   1500      2003.0      ford f-150       fair        8.0  gas       NaN   \n",
       "4  14900      2017.0    chrysler 200  excellent        4.0  gas   80903.0   \n",
       "\n",
       "  transmission    type paint_color  is_4wd date_posted  days_listed  \\\n",
       "0    automatic     suv     unknown     1.0  2018-06-23           19   \n",
       "1    automatic  pickup       white     1.0  2018-10-19           50   \n",
       "2    automatic   sedan         red     0.0  2019-02-07           79   \n",
       "3    automatic  pickup     unknown     0.0  2019-03-22            9   \n",
       "4    automatic   sedan       black     0.0  2019-04-02           28   \n",
       "\n",
       "   years_used  mill_mean_year  \n",
       "0         7.0    20714.285714  \n",
       "1         5.0    17741.000000  \n",
       "2         6.0    18333.333333  \n",
       "3        16.0             NaN  \n",
       "4         2.0    40451.500000  "
      ]
     },
     "execution_count": 36,
     "metadata": {},
     "output_type": "execute_result"
    }
   ],
   "source": [
    "# verificamos que se haya creado\n",
    "data_vehiculos.head()"
   ]
  },
  {
   "cell_type": "code",
   "execution_count": 37,
   "metadata": {},
   "outputs": [
    {
     "data": {
      "text/html": [
       "<div>\n",
       "<style scoped>\n",
       "    .dataframe tbody tr th:only-of-type {\n",
       "        vertical-align: middle;\n",
       "    }\n",
       "\n",
       "    .dataframe tbody tr th {\n",
       "        vertical-align: top;\n",
       "    }\n",
       "\n",
       "    .dataframe thead th {\n",
       "        text-align: right;\n",
       "    }\n",
       "</style>\n",
       "<table border=\"1\" class=\"dataframe\">\n",
       "  <thead>\n",
       "    <tr style=\"text-align: right;\">\n",
       "      <th></th>\n",
       "      <th>price</th>\n",
       "      <th>model_year</th>\n",
       "      <th>model</th>\n",
       "      <th>condition</th>\n",
       "      <th>cylinders</th>\n",
       "      <th>fuel</th>\n",
       "      <th>odometer</th>\n",
       "      <th>transmission</th>\n",
       "      <th>type</th>\n",
       "      <th>paint_color</th>\n",
       "      <th>is_4wd</th>\n",
       "      <th>date_posted</th>\n",
       "      <th>days_listed</th>\n",
       "      <th>years_used</th>\n",
       "      <th>mill_mean_year</th>\n",
       "      <th>day_week</th>\n",
       "      <th>month</th>\n",
       "      <th>year</th>\n",
       "    </tr>\n",
       "  </thead>\n",
       "  <tbody>\n",
       "    <tr>\n",
       "      <th>0</th>\n",
       "      <td>9400</td>\n",
       "      <td>2011.0</td>\n",
       "      <td>bmw x5</td>\n",
       "      <td>good</td>\n",
       "      <td>6.0</td>\n",
       "      <td>gas</td>\n",
       "      <td>145000.0</td>\n",
       "      <td>automatic</td>\n",
       "      <td>suv</td>\n",
       "      <td>unknown</td>\n",
       "      <td>1.0</td>\n",
       "      <td>2018-06-23</td>\n",
       "      <td>19</td>\n",
       "      <td>7.0</td>\n",
       "      <td>20714.285714</td>\n",
       "      <td>5</td>\n",
       "      <td>6</td>\n",
       "      <td>2018</td>\n",
       "    </tr>\n",
       "    <tr>\n",
       "      <th>1</th>\n",
       "      <td>25500</td>\n",
       "      <td>2013.0</td>\n",
       "      <td>ford f-150</td>\n",
       "      <td>good</td>\n",
       "      <td>6.0</td>\n",
       "      <td>gas</td>\n",
       "      <td>88705.0</td>\n",
       "      <td>automatic</td>\n",
       "      <td>pickup</td>\n",
       "      <td>white</td>\n",
       "      <td>1.0</td>\n",
       "      <td>2018-10-19</td>\n",
       "      <td>50</td>\n",
       "      <td>5.0</td>\n",
       "      <td>17741.000000</td>\n",
       "      <td>4</td>\n",
       "      <td>10</td>\n",
       "      <td>2018</td>\n",
       "    </tr>\n",
       "    <tr>\n",
       "      <th>2</th>\n",
       "      <td>5500</td>\n",
       "      <td>2013.0</td>\n",
       "      <td>hyundai sonata</td>\n",
       "      <td>like new</td>\n",
       "      <td>4.0</td>\n",
       "      <td>gas</td>\n",
       "      <td>110000.0</td>\n",
       "      <td>automatic</td>\n",
       "      <td>sedan</td>\n",
       "      <td>red</td>\n",
       "      <td>0.0</td>\n",
       "      <td>2019-02-07</td>\n",
       "      <td>79</td>\n",
       "      <td>6.0</td>\n",
       "      <td>18333.333333</td>\n",
       "      <td>3</td>\n",
       "      <td>2</td>\n",
       "      <td>2019</td>\n",
       "    </tr>\n",
       "    <tr>\n",
       "      <th>3</th>\n",
       "      <td>1500</td>\n",
       "      <td>2003.0</td>\n",
       "      <td>ford f-150</td>\n",
       "      <td>fair</td>\n",
       "      <td>8.0</td>\n",
       "      <td>gas</td>\n",
       "      <td>NaN</td>\n",
       "      <td>automatic</td>\n",
       "      <td>pickup</td>\n",
       "      <td>unknown</td>\n",
       "      <td>0.0</td>\n",
       "      <td>2019-03-22</td>\n",
       "      <td>9</td>\n",
       "      <td>16.0</td>\n",
       "      <td>NaN</td>\n",
       "      <td>4</td>\n",
       "      <td>3</td>\n",
       "      <td>2019</td>\n",
       "    </tr>\n",
       "    <tr>\n",
       "      <th>4</th>\n",
       "      <td>14900</td>\n",
       "      <td>2017.0</td>\n",
       "      <td>chrysler 200</td>\n",
       "      <td>excellent</td>\n",
       "      <td>4.0</td>\n",
       "      <td>gas</td>\n",
       "      <td>80903.0</td>\n",
       "      <td>automatic</td>\n",
       "      <td>sedan</td>\n",
       "      <td>black</td>\n",
       "      <td>0.0</td>\n",
       "      <td>2019-04-02</td>\n",
       "      <td>28</td>\n",
       "      <td>2.0</td>\n",
       "      <td>40451.500000</td>\n",
       "      <td>1</td>\n",
       "      <td>4</td>\n",
       "      <td>2019</td>\n",
       "    </tr>\n",
       "  </tbody>\n",
       "</table>\n",
       "</div>"
      ],
      "text/plain": [
       "   price  model_year           model  condition  cylinders fuel  odometer  \\\n",
       "0   9400      2011.0          bmw x5       good        6.0  gas  145000.0   \n",
       "1  25500      2013.0      ford f-150       good        6.0  gas   88705.0   \n",
       "2   5500      2013.0  hyundai sonata   like new        4.0  gas  110000.0   \n",
       "3   1500      2003.0      ford f-150       fair        8.0  gas       NaN   \n",
       "4  14900      2017.0    chrysler 200  excellent        4.0  gas   80903.0   \n",
       "\n",
       "  transmission    type paint_color  is_4wd date_posted  days_listed  \\\n",
       "0    automatic     suv     unknown     1.0  2018-06-23           19   \n",
       "1    automatic  pickup       white     1.0  2018-10-19           50   \n",
       "2    automatic   sedan         red     0.0  2019-02-07           79   \n",
       "3    automatic  pickup     unknown     0.0  2019-03-22            9   \n",
       "4    automatic   sedan       black     0.0  2019-04-02           28   \n",
       "\n",
       "   years_used  mill_mean_year  day_week  month  year  \n",
       "0         7.0    20714.285714         5      6  2018  \n",
       "1         5.0    17741.000000         4     10  2018  \n",
       "2         6.0    18333.333333         3      2  2019  \n",
       "3        16.0             NaN         4      3  2019  \n",
       "4         2.0    40451.500000         1      4  2019  "
      ]
     },
     "execution_count": 37,
     "metadata": {},
     "output_type": "execute_result"
    }
   ],
   "source": [
    "# agregamos el día de la semana, mes y año en que el anunció se colocó\n",
    "data_vehiculos['day_week']=data_vehiculos['date_posted'].dt.weekday\n",
    "data_vehiculos['month']=data_vehiculos['date_posted'].dt.month\n",
    "data_vehiculos['year']=data_vehiculos['date_posted'].dt.year\n",
    "data_vehiculos.head()"
   ]
  },
  {
   "cell_type": "code",
   "execution_count": 38,
   "metadata": {},
   "outputs": [
    {
     "data": {
      "text/plain": [
       "0"
      ]
     },
     "execution_count": 38,
     "metadata": {},
     "output_type": "execute_result"
    }
   ],
   "source": [
    "# buscamos si hay alguna fila duplicada en el dataset\n",
    "data_vehiculos.duplicated().sum()"
   ]
  },
  {
   "cell_type": "markdown",
   "metadata": {},
   "source": [
    "Al parecer no hay valores duplicados en el set de datos.  \n",
    "\n",
    "Vamos a **reemplazar los valores de `'condition'`** con valores que podamos manipular fácilmente:  \n",
    "* new=5\n",
    "* like new=4\n",
    "* excellent=3\n",
    "* good=2\n",
    "* fair=1\n",
    "* salvage=0"
   ]
  },
  {
   "cell_type": "code",
   "execution_count": 39,
   "metadata": {},
   "outputs": [],
   "source": [
    "# creamos unn diccionario con los valores a reemplazar\n",
    "lista_condition={'new':5, 'like new':4, 'excellent':3, 'good':2, 'fair':1, 'salvage':0}"
   ]
  },
  {
   "cell_type": "code",
   "execution_count": 40,
   "metadata": {},
   "outputs": [],
   "source": [
    "# reemplazamos los valores en la columna 'condition'\n",
    "for key, valor in lista_condition.items():\n",
    "    data_vehiculos['condition'].replace(key,valor,inplace=True)"
   ]
  },
  {
   "cell_type": "code",
   "execution_count": 41,
   "metadata": {},
   "outputs": [
    {
     "data": {
      "text/html": [
       "<div>\n",
       "<style scoped>\n",
       "    .dataframe tbody tr th:only-of-type {\n",
       "        vertical-align: middle;\n",
       "    }\n",
       "\n",
       "    .dataframe tbody tr th {\n",
       "        vertical-align: top;\n",
       "    }\n",
       "\n",
       "    .dataframe thead th {\n",
       "        text-align: right;\n",
       "    }\n",
       "</style>\n",
       "<table border=\"1\" class=\"dataframe\">\n",
       "  <thead>\n",
       "    <tr style=\"text-align: right;\">\n",
       "      <th></th>\n",
       "      <th>price</th>\n",
       "      <th>model_year</th>\n",
       "      <th>model</th>\n",
       "      <th>condition</th>\n",
       "      <th>cylinders</th>\n",
       "      <th>fuel</th>\n",
       "      <th>odometer</th>\n",
       "      <th>transmission</th>\n",
       "      <th>type</th>\n",
       "      <th>paint_color</th>\n",
       "      <th>is_4wd</th>\n",
       "      <th>date_posted</th>\n",
       "      <th>days_listed</th>\n",
       "      <th>years_used</th>\n",
       "      <th>mill_mean_year</th>\n",
       "      <th>day_week</th>\n",
       "      <th>month</th>\n",
       "      <th>year</th>\n",
       "    </tr>\n",
       "  </thead>\n",
       "  <tbody>\n",
       "    <tr>\n",
       "      <th>0</th>\n",
       "      <td>9400</td>\n",
       "      <td>2011.0</td>\n",
       "      <td>bmw x5</td>\n",
       "      <td>2</td>\n",
       "      <td>6.0</td>\n",
       "      <td>gas</td>\n",
       "      <td>145000.0</td>\n",
       "      <td>automatic</td>\n",
       "      <td>suv</td>\n",
       "      <td>unknown</td>\n",
       "      <td>1.0</td>\n",
       "      <td>2018-06-23</td>\n",
       "      <td>19</td>\n",
       "      <td>7.0</td>\n",
       "      <td>20714.285714</td>\n",
       "      <td>5</td>\n",
       "      <td>6</td>\n",
       "      <td>2018</td>\n",
       "    </tr>\n",
       "    <tr>\n",
       "      <th>1</th>\n",
       "      <td>25500</td>\n",
       "      <td>2013.0</td>\n",
       "      <td>ford f-150</td>\n",
       "      <td>2</td>\n",
       "      <td>6.0</td>\n",
       "      <td>gas</td>\n",
       "      <td>88705.0</td>\n",
       "      <td>automatic</td>\n",
       "      <td>pickup</td>\n",
       "      <td>white</td>\n",
       "      <td>1.0</td>\n",
       "      <td>2018-10-19</td>\n",
       "      <td>50</td>\n",
       "      <td>5.0</td>\n",
       "      <td>17741.000000</td>\n",
       "      <td>4</td>\n",
       "      <td>10</td>\n",
       "      <td>2018</td>\n",
       "    </tr>\n",
       "    <tr>\n",
       "      <th>2</th>\n",
       "      <td>5500</td>\n",
       "      <td>2013.0</td>\n",
       "      <td>hyundai sonata</td>\n",
       "      <td>4</td>\n",
       "      <td>4.0</td>\n",
       "      <td>gas</td>\n",
       "      <td>110000.0</td>\n",
       "      <td>automatic</td>\n",
       "      <td>sedan</td>\n",
       "      <td>red</td>\n",
       "      <td>0.0</td>\n",
       "      <td>2019-02-07</td>\n",
       "      <td>79</td>\n",
       "      <td>6.0</td>\n",
       "      <td>18333.333333</td>\n",
       "      <td>3</td>\n",
       "      <td>2</td>\n",
       "      <td>2019</td>\n",
       "    </tr>\n",
       "    <tr>\n",
       "      <th>3</th>\n",
       "      <td>1500</td>\n",
       "      <td>2003.0</td>\n",
       "      <td>ford f-150</td>\n",
       "      <td>1</td>\n",
       "      <td>8.0</td>\n",
       "      <td>gas</td>\n",
       "      <td>NaN</td>\n",
       "      <td>automatic</td>\n",
       "      <td>pickup</td>\n",
       "      <td>unknown</td>\n",
       "      <td>0.0</td>\n",
       "      <td>2019-03-22</td>\n",
       "      <td>9</td>\n",
       "      <td>16.0</td>\n",
       "      <td>NaN</td>\n",
       "      <td>4</td>\n",
       "      <td>3</td>\n",
       "      <td>2019</td>\n",
       "    </tr>\n",
       "    <tr>\n",
       "      <th>4</th>\n",
       "      <td>14900</td>\n",
       "      <td>2017.0</td>\n",
       "      <td>chrysler 200</td>\n",
       "      <td>3</td>\n",
       "      <td>4.0</td>\n",
       "      <td>gas</td>\n",
       "      <td>80903.0</td>\n",
       "      <td>automatic</td>\n",
       "      <td>sedan</td>\n",
       "      <td>black</td>\n",
       "      <td>0.0</td>\n",
       "      <td>2019-04-02</td>\n",
       "      <td>28</td>\n",
       "      <td>2.0</td>\n",
       "      <td>40451.500000</td>\n",
       "      <td>1</td>\n",
       "      <td>4</td>\n",
       "      <td>2019</td>\n",
       "    </tr>\n",
       "  </tbody>\n",
       "</table>\n",
       "</div>"
      ],
      "text/plain": [
       "   price  model_year           model  condition  cylinders fuel  odometer  \\\n",
       "0   9400      2011.0          bmw x5          2        6.0  gas  145000.0   \n",
       "1  25500      2013.0      ford f-150          2        6.0  gas   88705.0   \n",
       "2   5500      2013.0  hyundai sonata          4        4.0  gas  110000.0   \n",
       "3   1500      2003.0      ford f-150          1        8.0  gas       NaN   \n",
       "4  14900      2017.0    chrysler 200          3        4.0  gas   80903.0   \n",
       "\n",
       "  transmission    type paint_color  is_4wd date_posted  days_listed  \\\n",
       "0    automatic     suv     unknown     1.0  2018-06-23           19   \n",
       "1    automatic  pickup       white     1.0  2018-10-19           50   \n",
       "2    automatic   sedan         red     0.0  2019-02-07           79   \n",
       "3    automatic  pickup     unknown     0.0  2019-03-22            9   \n",
       "4    automatic   sedan       black     0.0  2019-04-02           28   \n",
       "\n",
       "   years_used  mill_mean_year  day_week  month  year  \n",
       "0         7.0    20714.285714         5      6  2018  \n",
       "1         5.0    17741.000000         4     10  2018  \n",
       "2         6.0    18333.333333         3      2  2019  \n",
       "3        16.0             NaN         4      3  2019  \n",
       "4         2.0    40451.500000         1      4  2019  "
      ]
     },
     "execution_count": 41,
     "metadata": {},
     "output_type": "execute_result"
    }
   ],
   "source": [
    "# mostramos parte del dataframe\n",
    "data_vehiculos.head()"
   ]
  },
  {
   "cell_type": "markdown",
   "metadata": {},
   "source": [
    "[Volver a Contenidos](#inicio) <a id='data_ok'></a>\n",
    "### Comprobar datos limpios"
   ]
  },
  {
   "cell_type": "markdown",
   "metadata": {},
   "source": [
    "Vamos a revisar el set de datos para comprobar que todo este listo para iniciar con el análisis."
   ]
  },
  {
   "cell_type": "code",
   "execution_count": 42,
   "metadata": {},
   "outputs": [
    {
     "data": {
      "text/html": [
       "<div>\n",
       "<style scoped>\n",
       "    .dataframe tbody tr th:only-of-type {\n",
       "        vertical-align: middle;\n",
       "    }\n",
       "\n",
       "    .dataframe tbody tr th {\n",
       "        vertical-align: top;\n",
       "    }\n",
       "\n",
       "    .dataframe thead th {\n",
       "        text-align: right;\n",
       "    }\n",
       "</style>\n",
       "<table border=\"1\" class=\"dataframe\">\n",
       "  <thead>\n",
       "    <tr style=\"text-align: right;\">\n",
       "      <th></th>\n",
       "      <th>price</th>\n",
       "      <th>model_year</th>\n",
       "      <th>condition</th>\n",
       "      <th>cylinders</th>\n",
       "      <th>odometer</th>\n",
       "      <th>is_4wd</th>\n",
       "      <th>days_listed</th>\n",
       "      <th>years_used</th>\n",
       "      <th>mill_mean_year</th>\n",
       "      <th>day_week</th>\n",
       "      <th>month</th>\n",
       "      <th>year</th>\n",
       "    </tr>\n",
       "  </thead>\n",
       "  <tbody>\n",
       "    <tr>\n",
       "      <th>count</th>\n",
       "      <td>51525.000000</td>\n",
       "      <td>51525.000000</td>\n",
       "      <td>51525.000000</td>\n",
       "      <td>51525.000000</td>\n",
       "      <td>43633.000000</td>\n",
       "      <td>51525.000000</td>\n",
       "      <td>51525.00000</td>\n",
       "      <td>51525.000000</td>\n",
       "      <td>43633.000000</td>\n",
       "      <td>51525.000000</td>\n",
       "      <td>51525.000000</td>\n",
       "      <td>51525.000000</td>\n",
       "    </tr>\n",
       "    <tr>\n",
       "      <th>mean</th>\n",
       "      <td>12132.464920</td>\n",
       "      <td>2009.871499</td>\n",
       "      <td>2.637535</td>\n",
       "      <td>6.121067</td>\n",
       "      <td>115553.461738</td>\n",
       "      <td>0.496303</td>\n",
       "      <td>39.55476</td>\n",
       "      <td>8.435963</td>\n",
       "      <td>18327.183479</td>\n",
       "      <td>3.005434</td>\n",
       "      <td>6.628491</td>\n",
       "      <td>2018.307462</td>\n",
       "    </tr>\n",
       "    <tr>\n",
       "      <th>std</th>\n",
       "      <td>10040.803015</td>\n",
       "      <td>6.145712</td>\n",
       "      <td>0.712447</td>\n",
       "      <td>1.657457</td>\n",
       "      <td>65094.611341</td>\n",
       "      <td>0.499991</td>\n",
       "      <td>28.20427</td>\n",
       "      <td>6.159116</td>\n",
       "      <td>14083.939962</td>\n",
       "      <td>1.997759</td>\n",
       "      <td>3.474134</td>\n",
       "      <td>0.461447</td>\n",
       "    </tr>\n",
       "    <tr>\n",
       "      <th>min</th>\n",
       "      <td>1.000000</td>\n",
       "      <td>1908.000000</td>\n",
       "      <td>0.000000</td>\n",
       "      <td>3.000000</td>\n",
       "      <td>0.000000</td>\n",
       "      <td>0.000000</td>\n",
       "      <td>0.00000</td>\n",
       "      <td>0.000000</td>\n",
       "      <td>0.000000</td>\n",
       "      <td>0.000000</td>\n",
       "      <td>1.000000</td>\n",
       "      <td>2018.000000</td>\n",
       "    </tr>\n",
       "    <tr>\n",
       "      <th>25%</th>\n",
       "      <td>5000.000000</td>\n",
       "      <td>2007.000000</td>\n",
       "      <td>2.000000</td>\n",
       "      <td>4.000000</td>\n",
       "      <td>70000.000000</td>\n",
       "      <td>0.000000</td>\n",
       "      <td>19.00000</td>\n",
       "      <td>4.000000</td>\n",
       "      <td>10588.235294</td>\n",
       "      <td>1.000000</td>\n",
       "      <td>3.000000</td>\n",
       "      <td>2018.000000</td>\n",
       "    </tr>\n",
       "    <tr>\n",
       "      <th>50%</th>\n",
       "      <td>9000.000000</td>\n",
       "      <td>2011.000000</td>\n",
       "      <td>3.000000</td>\n",
       "      <td>6.000000</td>\n",
       "      <td>113000.000000</td>\n",
       "      <td>0.000000</td>\n",
       "      <td>33.00000</td>\n",
       "      <td>7.000000</td>\n",
       "      <td>15166.666667</td>\n",
       "      <td>3.000000</td>\n",
       "      <td>7.000000</td>\n",
       "      <td>2018.000000</td>\n",
       "    </tr>\n",
       "    <tr>\n",
       "      <th>75%</th>\n",
       "      <td>16839.000000</td>\n",
       "      <td>2014.000000</td>\n",
       "      <td>3.000000</td>\n",
       "      <td>8.000000</td>\n",
       "      <td>155000.000000</td>\n",
       "      <td>1.000000</td>\n",
       "      <td>53.00000</td>\n",
       "      <td>12.000000</td>\n",
       "      <td>22000.000000</td>\n",
       "      <td>5.000000</td>\n",
       "      <td>10.000000</td>\n",
       "      <td>2019.000000</td>\n",
       "    </tr>\n",
       "    <tr>\n",
       "      <th>max</th>\n",
       "      <td>375000.000000</td>\n",
       "      <td>2019.000000</td>\n",
       "      <td>5.000000</td>\n",
       "      <td>12.000000</td>\n",
       "      <td>990000.000000</td>\n",
       "      <td>1.000000</td>\n",
       "      <td>271.00000</td>\n",
       "      <td>110.000000</td>\n",
       "      <td>373200.000000</td>\n",
       "      <td>6.000000</td>\n",
       "      <td>12.000000</td>\n",
       "      <td>2019.000000</td>\n",
       "    </tr>\n",
       "  </tbody>\n",
       "</table>\n",
       "</div>"
      ],
      "text/plain": [
       "               price    model_year     condition     cylinders       odometer  \\\n",
       "count   51525.000000  51525.000000  51525.000000  51525.000000   43633.000000   \n",
       "mean    12132.464920   2009.871499      2.637535      6.121067  115553.461738   \n",
       "std     10040.803015      6.145712      0.712447      1.657457   65094.611341   \n",
       "min         1.000000   1908.000000      0.000000      3.000000       0.000000   \n",
       "25%      5000.000000   2007.000000      2.000000      4.000000   70000.000000   \n",
       "50%      9000.000000   2011.000000      3.000000      6.000000  113000.000000   \n",
       "75%     16839.000000   2014.000000      3.000000      8.000000  155000.000000   \n",
       "max    375000.000000   2019.000000      5.000000     12.000000  990000.000000   \n",
       "\n",
       "             is_4wd  days_listed    years_used  mill_mean_year      day_week  \\\n",
       "count  51525.000000  51525.00000  51525.000000    43633.000000  51525.000000   \n",
       "mean       0.496303     39.55476      8.435963    18327.183479      3.005434   \n",
       "std        0.499991     28.20427      6.159116    14083.939962      1.997759   \n",
       "min        0.000000      0.00000      0.000000        0.000000      0.000000   \n",
       "25%        0.000000     19.00000      4.000000    10588.235294      1.000000   \n",
       "50%        0.000000     33.00000      7.000000    15166.666667      3.000000   \n",
       "75%        1.000000     53.00000     12.000000    22000.000000      5.000000   \n",
       "max        1.000000    271.00000    110.000000   373200.000000      6.000000   \n",
       "\n",
       "              month          year  \n",
       "count  51525.000000  51525.000000  \n",
       "mean       6.628491   2018.307462  \n",
       "std        3.474134      0.461447  \n",
       "min        1.000000   2018.000000  \n",
       "25%        3.000000   2018.000000  \n",
       "50%        7.000000   2018.000000  \n",
       "75%       10.000000   2019.000000  \n",
       "max       12.000000   2019.000000  "
      ]
     },
     "execution_count": 42,
     "metadata": {},
     "output_type": "execute_result"
    }
   ],
   "source": [
    "# mostramos la información general sobre el DataFrame\n",
    "data_vehiculos.describe()"
   ]
  },
  {
   "cell_type": "code",
   "execution_count": 43,
   "metadata": {},
   "outputs": [
    {
     "data": {
      "text/plain": [
       "price                0\n",
       "model_year           0\n",
       "model                0\n",
       "condition            0\n",
       "cylinders            0\n",
       "fuel                 0\n",
       "odometer          7892\n",
       "transmission         0\n",
       "type                 0\n",
       "paint_color          0\n",
       "is_4wd               0\n",
       "date_posted          0\n",
       "days_listed          0\n",
       "years_used           0\n",
       "mill_mean_year    7892\n",
       "day_week             0\n",
       "month                0\n",
       "year                 0\n",
       "dtype: int64"
      ]
     },
     "execution_count": 43,
     "metadata": {},
     "output_type": "execute_result"
    }
   ],
   "source": [
    "# mostramos las columnas con valores nulos\n",
    "data_vehiculos.isna().sum()"
   ]
  },
  {
   "cell_type": "markdown",
   "metadata": {},
   "source": [
    "[Volver a Contenidos](#inicio) <a id='data_analysis'></a>\n",
    "## Análisis de datos  \n",
    "Recordemos que deseamos saber que factores influyen para determinar el precio de venta de un vehículo. De ahí que necesitamos saber la relación que existe entre la variable `'price'` y las demás variables del set de datos."
   ]
  },
  {
   "cell_type": "markdown",
   "metadata": {},
   "source": [
    "<a id='analysis_param'></a>\n",
    "### Estudiar parámetros principales  \n",
    "Vamos a estudiar los siguientes parámetros:\n",
    "- Precio\n",
    "- Los años del vehículo cuando el anuncio se colocó\n",
    "- Millaje\n",
    "- Número de cilindros\n",
    "- Condición del vehículo"
   ]
  },
  {
   "cell_type": "markdown",
   "metadata": {},
   "source": [
    "Vamos a explorar la distribución de los valores para las columnas númericas: **`'price'`, `'years_used'` y `'mill_mean_year'`.**"
   ]
  },
  {
   "cell_type": "code",
   "execution_count": 44,
   "metadata": {},
   "outputs": [
    {
     "data": {
      "image/png": "[encoded data removed]",
      "text/plain": [
       "<Figure size 720x576 with 1 Axes>"
      ]
     },
     "metadata": {
      "needs_background": "light"
     },
     "output_type": "display_data"
    }
   ],
   "source": [
    "# primeramente vamos a observar la distribución de la variable 'price'\n",
    "f,ax=plt.subplots(figsize=(10,8))\n",
    "ax=sns.histplot(data_vehiculos['price'],bins=100)"
   ]
  },
  {
   "cell_type": "markdown",
   "metadata": {},
   "source": [
    "Notamos que la distribución de los valores en la variable `'price'`está muy cargada hacia el cero y con pocos valores muy grandes. Habrá que revisar si hay algún problema con esos valores, valores 'outlier'. \n",
    "\n",
    "Recordemos que **un `'outlier'`es un valor de la muestra que pareciera no ser coherente con una mayoría de los propios datos.** Una vez que localizemos esos `'outliers'`podremos corregirlos, si determinamos que hubo error en su captura, o eliminarlos para quitar su influencia en la variable bajo estudio."
   ]
  },
  {
   "cell_type": "code",
   "execution_count": 45,
   "metadata": {},
   "outputs": [],
   "source": [
    "# generamos una lista con las variables a observar su distribución\n",
    "variables=['price','years_used','mill_mean_year']"
   ]
  },
  {
   "cell_type": "code",
   "execution_count": 46,
   "metadata": {},
   "outputs": [
    {
     "data": {
      "image/png": "[encoded data removed]",
      "text/plain": [
       "<Figure size 720x360 with 2 Axes>"
      ]
     },
     "metadata": {
      "needs_background": "light"
     },
     "output_type": "display_data"
    },
    {
     "data": {
      "image/png": "[encoded data removed]",
      "text/plain": [
       "<Figure size 720x360 with 2 Axes>"
      ]
     },
     "metadata": {
      "needs_background": "light"
     },
     "output_type": "display_data"
    },
    {
     "data": {
      "image/png": "[encoded data removed]",
      "text/plain": [
       "<Figure size 720x360 with 2 Axes>"
      ]
     },
     "metadata": {
      "needs_background": "light"
     },
     "output_type": "display_data"
    }
   ],
   "source": [
    "# creamos los gráficos 'boxplot' junto con sus histogramas para las variables mencionadas anteriormente\n",
    "for var in variables:\n",
    "    f, ax = plt.subplots(2,\n",
    "                     sharex=True,\n",
    "                     gridspec_kw={\"height_ratios\": (.20, .80)},figsize=(10,5))\n",
    "\n",
    "    # gráfico boxplot\n",
    "    sns.boxplot(x=var,data=data_vehiculos,ax=ax[0],palette='YlGnBu_r')\n",
    "    # gráfico de distribución\n",
    "    sns.histplot(data_vehiculos[var],bins=100,ax=ax[1])\n",
    "    # media de los datos en el histograma\n",
    "    ax[1].axvline(data_vehiculos[var].mean(), color='red')"
   ]
  },
  {
   "cell_type": "markdown",
   "metadata": {},
   "source": [
    "De las gráficas anteriores, podemos observar que **las variables presentan distribuciones sesgadas hacia la derecha,** la parte positiva. Vamos a proceder a estimar los rangos intercuantílicos."
   ]
  },
  {
   "cell_type": "code",
   "execution_count": 47,
   "metadata": {},
   "outputs": [
    {
     "name": "stdout",
     "output_type": "stream",
     "text": [
      "Limite-inferior: -12758.50     Limite-superior: 34597.50\n"
     ]
    },
    {
     "data": {
      "image/png": "[encoded data removed]",
      "text/plain": [
       "<Figure size 720x288 with 1 Axes>"
      ]
     },
     "metadata": {
      "needs_background": "light"
     },
     "output_type": "display_data"
    },
    {
     "name": "stdout",
     "output_type": "stream",
     "text": [
      "Limite-inferior: -8.00     Limite-superior: 24.00\n"
     ]
    },
    {
     "data": {
      "image/png": "[encoded data removed]",
      "text/plain": [
       "<Figure size 720x288 with 1 Axes>"
      ]
     },
     "metadata": {
      "needs_background": "light"
     },
     "output_type": "display_data"
    },
    {
     "name": "stdout",
     "output_type": "stream",
     "text": [
      "Limite-inferior: -6529.41     Limite-superior: 39117.65\n"
     ]
    },
    {
     "data": {
      "image/png": "[encoded data removed]",
      "text/plain": [
       "<Figure size 720x288 with 1 Axes>"
      ]
     },
     "metadata": {
      "needs_background": "light"
     },
     "output_type": "display_data"
    }
   ],
   "source": [
    "# creamos los gráficos 'boxplot' que incluyen los valores teóricos de los bigotes\n",
    "for var in variables:\n",
    "    Q1 = data_vehiculos[var].quantile(0.25)\n",
    "    Q3 = data_vehiculos[var].quantile(0.75)\n",
    "    \n",
    "    # rango intercuantílico\n",
    "    IQR=Q3-Q1\n",
    "    # bigote superior Q3+1.5*IQR\n",
    "    # bigote inferior Q1-1.5*IQR\n",
    "    titulo=str(var)\n",
    "    print(f'Limite-inferior: {Q1-1.5*IQR:.2f}     Limite-superior: {Q3+1.5*IQR:.2f}')  \n",
    "    f,ax=plt.subplots(figsize=(10,4))\n",
    "    fig=sns.boxplot(x=var,data=data_vehiculos,palette='YlGnBu_r')\n",
    "    fig.axvline(x=Q1-1.5*IQR,color='red')\n",
    "    fig.axvline(x=Q3+1.5*IQR,color='red')\n",
    "    plt.title('Valores teóricos de los limites de '+titulo)\n",
    "    plt.show()"
   ]
  },
  {
   "cell_type": "markdown",
   "metadata": {},
   "source": [
    "En los tres gráficos, podemos observar que existen valores que podríamos considerar 'atípicos' pero más bien parecen ser una característica de los datos. Necesitamos revisar esos datos que están más allá del rango intercuantílico superior o los más cercanos a cero."
   ]
  },
  {
   "cell_type": "code",
   "execution_count": 48,
   "metadata": {},
   "outputs": [
    {
     "data": {
      "text/html": [
       "<div>\n",
       "<style scoped>\n",
       "    .dataframe tbody tr th:only-of-type {\n",
       "        vertical-align: middle;\n",
       "    }\n",
       "\n",
       "    .dataframe tbody tr th {\n",
       "        vertical-align: top;\n",
       "    }\n",
       "\n",
       "    .dataframe thead th {\n",
       "        text-align: right;\n",
       "    }\n",
       "</style>\n",
       "<table border=\"1\" class=\"dataframe\">\n",
       "  <thead>\n",
       "    <tr style=\"text-align: right;\">\n",
       "      <th></th>\n",
       "      <th>price</th>\n",
       "      <th>model_year</th>\n",
       "      <th>model</th>\n",
       "      <th>condition</th>\n",
       "      <th>cylinders</th>\n",
       "      <th>fuel</th>\n",
       "      <th>odometer</th>\n",
       "      <th>transmission</th>\n",
       "      <th>type</th>\n",
       "      <th>paint_color</th>\n",
       "      <th>is_4wd</th>\n",
       "      <th>date_posted</th>\n",
       "      <th>days_listed</th>\n",
       "      <th>years_used</th>\n",
       "      <th>mill_mean_year</th>\n",
       "      <th>day_week</th>\n",
       "      <th>month</th>\n",
       "      <th>year</th>\n",
       "    </tr>\n",
       "  </thead>\n",
       "  <tbody>\n",
       "    <tr>\n",
       "      <th>1309</th>\n",
       "      <td>189000</td>\n",
       "      <td>2014.0</td>\n",
       "      <td>ford f-150</td>\n",
       "      <td>2</td>\n",
       "      <td>6.0</td>\n",
       "      <td>gas</td>\n",
       "      <td>151248.0</td>\n",
       "      <td>automatic</td>\n",
       "      <td>truck</td>\n",
       "      <td>black</td>\n",
       "      <td>0.0</td>\n",
       "      <td>2019-03-02</td>\n",
       "      <td>56</td>\n",
       "      <td>5.0</td>\n",
       "      <td>30249.600000</td>\n",
       "      <td>5</td>\n",
       "      <td>3</td>\n",
       "      <td>2019</td>\n",
       "    </tr>\n",
       "    <tr>\n",
       "      <th>1668</th>\n",
       "      <td>189000</td>\n",
       "      <td>2014.0</td>\n",
       "      <td>ford f-150</td>\n",
       "      <td>2</td>\n",
       "      <td>6.0</td>\n",
       "      <td>gas</td>\n",
       "      <td>151248.0</td>\n",
       "      <td>automatic</td>\n",
       "      <td>truck</td>\n",
       "      <td>unknown</td>\n",
       "      <td>0.0</td>\n",
       "      <td>2019-03-20</td>\n",
       "      <td>21</td>\n",
       "      <td>5.0</td>\n",
       "      <td>30249.600000</td>\n",
       "      <td>2</td>\n",
       "      <td>3</td>\n",
       "      <td>2019</td>\n",
       "    </tr>\n",
       "    <tr>\n",
       "      <th>11359</th>\n",
       "      <td>300000</td>\n",
       "      <td>2015.0</td>\n",
       "      <td>ram 2500</td>\n",
       "      <td>3</td>\n",
       "      <td>6.0</td>\n",
       "      <td>diesel</td>\n",
       "      <td>NaN</td>\n",
       "      <td>automatic</td>\n",
       "      <td>truck</td>\n",
       "      <td>grey</td>\n",
       "      <td>1.0</td>\n",
       "      <td>2018-10-15</td>\n",
       "      <td>39</td>\n",
       "      <td>3.0</td>\n",
       "      <td>NaN</td>\n",
       "      <td>0</td>\n",
       "      <td>10</td>\n",
       "      <td>2018</td>\n",
       "    </tr>\n",
       "    <tr>\n",
       "      <th>12504</th>\n",
       "      <td>375000</td>\n",
       "      <td>1999.0</td>\n",
       "      <td>nissan frontier</td>\n",
       "      <td>2</td>\n",
       "      <td>6.0</td>\n",
       "      <td>gas</td>\n",
       "      <td>115000.0</td>\n",
       "      <td>automatic</td>\n",
       "      <td>pickup</td>\n",
       "      <td>blue</td>\n",
       "      <td>1.0</td>\n",
       "      <td>2018-05-19</td>\n",
       "      <td>21</td>\n",
       "      <td>19.0</td>\n",
       "      <td>6052.631579</td>\n",
       "      <td>5</td>\n",
       "      <td>5</td>\n",
       "      <td>2018</td>\n",
       "    </tr>\n",
       "    <tr>\n",
       "      <th>27375</th>\n",
       "      <td>189000</td>\n",
       "      <td>2014.0</td>\n",
       "      <td>ford f-150</td>\n",
       "      <td>2</td>\n",
       "      <td>6.0</td>\n",
       "      <td>gas</td>\n",
       "      <td>151248.0</td>\n",
       "      <td>automatic</td>\n",
       "      <td>truck</td>\n",
       "      <td>black</td>\n",
       "      <td>0.0</td>\n",
       "      <td>2018-09-25</td>\n",
       "      <td>72</td>\n",
       "      <td>4.0</td>\n",
       "      <td>37812.000000</td>\n",
       "      <td>1</td>\n",
       "      <td>9</td>\n",
       "      <td>2018</td>\n",
       "    </tr>\n",
       "    <tr>\n",
       "      <th>30634</th>\n",
       "      <td>189000</td>\n",
       "      <td>2014.0</td>\n",
       "      <td>ford f-150</td>\n",
       "      <td>2</td>\n",
       "      <td>6.0</td>\n",
       "      <td>gas</td>\n",
       "      <td>NaN</td>\n",
       "      <td>automatic</td>\n",
       "      <td>truck</td>\n",
       "      <td>black</td>\n",
       "      <td>0.0</td>\n",
       "      <td>2018-07-21</td>\n",
       "      <td>42</td>\n",
       "      <td>4.0</td>\n",
       "      <td>NaN</td>\n",
       "      <td>5</td>\n",
       "      <td>7</td>\n",
       "      <td>2018</td>\n",
       "    </tr>\n",
       "    <tr>\n",
       "      <th>33434</th>\n",
       "      <td>189000</td>\n",
       "      <td>2014.0</td>\n",
       "      <td>ford f-150</td>\n",
       "      <td>2</td>\n",
       "      <td>6.0</td>\n",
       "      <td>gas</td>\n",
       "      <td>151248.0</td>\n",
       "      <td>automatic</td>\n",
       "      <td>truck</td>\n",
       "      <td>black</td>\n",
       "      <td>0.0</td>\n",
       "      <td>2019-02-05</td>\n",
       "      <td>102</td>\n",
       "      <td>5.0</td>\n",
       "      <td>30249.600000</td>\n",
       "      <td>1</td>\n",
       "      <td>2</td>\n",
       "      <td>2019</td>\n",
       "    </tr>\n",
       "    <tr>\n",
       "      <th>34206</th>\n",
       "      <td>175000</td>\n",
       "      <td>2004.0</td>\n",
       "      <td>gmc sierra 2500hd</td>\n",
       "      <td>2</td>\n",
       "      <td>8.0</td>\n",
       "      <td>diesel</td>\n",
       "      <td>149000.0</td>\n",
       "      <td>automatic</td>\n",
       "      <td>truck</td>\n",
       "      <td>grey</td>\n",
       "      <td>1.0</td>\n",
       "      <td>2018-08-25</td>\n",
       "      <td>57</td>\n",
       "      <td>14.0</td>\n",
       "      <td>10642.857143</td>\n",
       "      <td>5</td>\n",
       "      <td>8</td>\n",
       "      <td>2018</td>\n",
       "    </tr>\n",
       "    <tr>\n",
       "      <th>34389</th>\n",
       "      <td>189000</td>\n",
       "      <td>2014.0</td>\n",
       "      <td>ford f-150</td>\n",
       "      <td>2</td>\n",
       "      <td>6.0</td>\n",
       "      <td>gas</td>\n",
       "      <td>151248.0</td>\n",
       "      <td>automatic</td>\n",
       "      <td>truck</td>\n",
       "      <td>black</td>\n",
       "      <td>0.0</td>\n",
       "      <td>2019-02-02</td>\n",
       "      <td>28</td>\n",
       "      <td>5.0</td>\n",
       "      <td>30249.600000</td>\n",
       "      <td>5</td>\n",
       "      <td>2</td>\n",
       "      <td>2019</td>\n",
       "    </tr>\n",
       "  </tbody>\n",
       "</table>\n",
       "</div>"
      ],
      "text/plain": [
       "        price  model_year              model  condition  cylinders    fuel  \\\n",
       "1309   189000      2014.0         ford f-150          2        6.0     gas   \n",
       "1668   189000      2014.0         ford f-150          2        6.0     gas   \n",
       "11359  300000      2015.0           ram 2500          3        6.0  diesel   \n",
       "12504  375000      1999.0    nissan frontier          2        6.0     gas   \n",
       "27375  189000      2014.0         ford f-150          2        6.0     gas   \n",
       "30634  189000      2014.0         ford f-150          2        6.0     gas   \n",
       "33434  189000      2014.0         ford f-150          2        6.0     gas   \n",
       "34206  175000      2004.0  gmc sierra 2500hd          2        8.0  diesel   \n",
       "34389  189000      2014.0         ford f-150          2        6.0     gas   \n",
       "\n",
       "       odometer transmission    type paint_color  is_4wd date_posted  \\\n",
       "1309   151248.0    automatic   truck       black     0.0  2019-03-02   \n",
       "1668   151248.0    automatic   truck     unknown     0.0  2019-03-20   \n",
       "11359       NaN    automatic   truck        grey     1.0  2018-10-15   \n",
       "12504  115000.0    automatic  pickup        blue     1.0  2018-05-19   \n",
       "27375  151248.0    automatic   truck       black     0.0  2018-09-25   \n",
       "30634       NaN    automatic   truck       black     0.0  2018-07-21   \n",
       "33434  151248.0    automatic   truck       black     0.0  2019-02-05   \n",
       "34206  149000.0    automatic   truck        grey     1.0  2018-08-25   \n",
       "34389  151248.0    automatic   truck       black     0.0  2019-02-02   \n",
       "\n",
       "       days_listed  years_used  mill_mean_year  day_week  month  year  \n",
       "1309            56         5.0    30249.600000         5      3  2019  \n",
       "1668            21         5.0    30249.600000         2      3  2019  \n",
       "11359           39         3.0             NaN         0     10  2018  \n",
       "12504           21        19.0     6052.631579         5      5  2018  \n",
       "27375           72         4.0    37812.000000         1      9  2018  \n",
       "30634           42         4.0             NaN         5      7  2018  \n",
       "33434          102         5.0    30249.600000         1      2  2019  \n",
       "34206           57        14.0    10642.857143         5      8  2018  \n",
       "34389           28         5.0    30249.600000         5      2  2019  "
      ]
     },
     "execution_count": 48,
     "metadata": {},
     "output_type": "execute_result"
    }
   ],
   "source": [
    "# revisamos los valores de 'price' mayores a 150,000 y buscamos las características de esos vehiculos\n",
    "data_vehiculos[data_vehiculos['price']>=150000]"
   ]
  },
  {
   "cell_type": "code",
   "execution_count": 49,
   "metadata": {},
   "outputs": [
    {
     "data": {
      "text/html": [
       "<div>\n",
       "<style scoped>\n",
       "    .dataframe tbody tr th:only-of-type {\n",
       "        vertical-align: middle;\n",
       "    }\n",
       "\n",
       "    .dataframe tbody tr th {\n",
       "        vertical-align: top;\n",
       "    }\n",
       "\n",
       "    .dataframe thead th {\n",
       "        text-align: right;\n",
       "    }\n",
       "</style>\n",
       "<table border=\"1\" class=\"dataframe\">\n",
       "  <thead>\n",
       "    <tr style=\"text-align: right;\">\n",
       "      <th></th>\n",
       "      <th>price</th>\n",
       "      <th>model_year</th>\n",
       "      <th>model</th>\n",
       "      <th>condition</th>\n",
       "      <th>cylinders</th>\n",
       "      <th>fuel</th>\n",
       "      <th>odometer</th>\n",
       "      <th>transmission</th>\n",
       "      <th>type</th>\n",
       "      <th>paint_color</th>\n",
       "      <th>is_4wd</th>\n",
       "      <th>date_posted</th>\n",
       "      <th>days_listed</th>\n",
       "      <th>years_used</th>\n",
       "      <th>mill_mean_year</th>\n",
       "      <th>day_week</th>\n",
       "      <th>month</th>\n",
       "      <th>year</th>\n",
       "    </tr>\n",
       "  </thead>\n",
       "  <tbody>\n",
       "    <tr>\n",
       "      <th>139</th>\n",
       "      <td>19500</td>\n",
       "      <td>2014.0</td>\n",
       "      <td>ford f-150</td>\n",
       "      <td>3</td>\n",
       "      <td>8.0</td>\n",
       "      <td>gas</td>\n",
       "      <td>116000.0</td>\n",
       "      <td>automatic</td>\n",
       "      <td>truck</td>\n",
       "      <td>grey</td>\n",
       "      <td>1.0</td>\n",
       "      <td>2018-06-26</td>\n",
       "      <td>40</td>\n",
       "      <td>4.0</td>\n",
       "      <td>29000.0</td>\n",
       "      <td>1</td>\n",
       "      <td>6</td>\n",
       "      <td>2018</td>\n",
       "    </tr>\n",
       "    <tr>\n",
       "      <th>247</th>\n",
       "      <td>13499</td>\n",
       "      <td>2014.0</td>\n",
       "      <td>ford f-150</td>\n",
       "      <td>2</td>\n",
       "      <td>6.0</td>\n",
       "      <td>gas</td>\n",
       "      <td>NaN</td>\n",
       "      <td>automatic</td>\n",
       "      <td>pickup</td>\n",
       "      <td>unknown</td>\n",
       "      <td>1.0</td>\n",
       "      <td>2019-02-13</td>\n",
       "      <td>20</td>\n",
       "      <td>5.0</td>\n",
       "      <td>NaN</td>\n",
       "      <td>2</td>\n",
       "      <td>2</td>\n",
       "      <td>2019</td>\n",
       "    </tr>\n",
       "    <tr>\n",
       "      <th>299</th>\n",
       "      <td>18488</td>\n",
       "      <td>2014.0</td>\n",
       "      <td>ford f-150</td>\n",
       "      <td>2</td>\n",
       "      <td>8.0</td>\n",
       "      <td>gas</td>\n",
       "      <td>104906.0</td>\n",
       "      <td>automatic</td>\n",
       "      <td>truck</td>\n",
       "      <td>blue</td>\n",
       "      <td>0.0</td>\n",
       "      <td>2019-02-12</td>\n",
       "      <td>17</td>\n",
       "      <td>5.0</td>\n",
       "      <td>20981.2</td>\n",
       "      <td>1</td>\n",
       "      <td>2</td>\n",
       "      <td>2019</td>\n",
       "    </tr>\n",
       "    <tr>\n",
       "      <th>390</th>\n",
       "      <td>19500</td>\n",
       "      <td>2014.0</td>\n",
       "      <td>ford f-150</td>\n",
       "      <td>3</td>\n",
       "      <td>6.0</td>\n",
       "      <td>gas</td>\n",
       "      <td>95000.0</td>\n",
       "      <td>automatic</td>\n",
       "      <td>truck</td>\n",
       "      <td>blue</td>\n",
       "      <td>1.0</td>\n",
       "      <td>2018-09-06</td>\n",
       "      <td>84</td>\n",
       "      <td>4.0</td>\n",
       "      <td>23750.0</td>\n",
       "      <td>3</td>\n",
       "      <td>9</td>\n",
       "      <td>2018</td>\n",
       "    </tr>\n",
       "    <tr>\n",
       "      <th>631</th>\n",
       "      <td>22500</td>\n",
       "      <td>2014.0</td>\n",
       "      <td>ford f-150</td>\n",
       "      <td>3</td>\n",
       "      <td>6.0</td>\n",
       "      <td>gas</td>\n",
       "      <td>95382.0</td>\n",
       "      <td>automatic</td>\n",
       "      <td>pickup</td>\n",
       "      <td>grey</td>\n",
       "      <td>1.0</td>\n",
       "      <td>2019-02-22</td>\n",
       "      <td>33</td>\n",
       "      <td>5.0</td>\n",
       "      <td>19076.4</td>\n",
       "      <td>4</td>\n",
       "      <td>2</td>\n",
       "      <td>2019</td>\n",
       "    </tr>\n",
       "  </tbody>\n",
       "</table>\n",
       "</div>"
      ],
      "text/plain": [
       "     price  model_year       model  condition  cylinders fuel  odometer  \\\n",
       "139  19500      2014.0  ford f-150          3        8.0  gas  116000.0   \n",
       "247  13499      2014.0  ford f-150          2        6.0  gas       NaN   \n",
       "299  18488      2014.0  ford f-150          2        8.0  gas  104906.0   \n",
       "390  19500      2014.0  ford f-150          3        6.0  gas   95000.0   \n",
       "631  22500      2014.0  ford f-150          3        6.0  gas   95382.0   \n",
       "\n",
       "    transmission    type paint_color  is_4wd date_posted  days_listed  \\\n",
       "139    automatic   truck        grey     1.0  2018-06-26           40   \n",
       "247    automatic  pickup     unknown     1.0  2019-02-13           20   \n",
       "299    automatic   truck        blue     0.0  2019-02-12           17   \n",
       "390    automatic   truck        blue     1.0  2018-09-06           84   \n",
       "631    automatic  pickup        grey     1.0  2019-02-22           33   \n",
       "\n",
       "     years_used  mill_mean_year  day_week  month  year  \n",
       "139         4.0         29000.0         1      6  2018  \n",
       "247         5.0             NaN         2      2  2019  \n",
       "299         5.0         20981.2         1      2  2019  \n",
       "390         4.0         23750.0         3      9  2018  \n",
       "631         5.0         19076.4         4      2  2019  "
      ]
     },
     "execution_count": 49,
     "metadata": {},
     "output_type": "execute_result"
    }
   ],
   "source": [
    "# creamos un dataframe con caracteristicas similares a cada uno de esos vehículos para hacer una comparación\n",
    "data_vehiculos[(data_vehiculos['model']=='ford f-150')&(data_vehiculos['model_year']==2014)].head()"
   ]
  },
  {
   "cell_type": "markdown",
   "metadata": {},
   "source": [
    "De la tabla anterior, notamos que para los modelos 'ford f-150' y año '2014' el precio ronda las cinco cifras, así que asumiremos que hubo un error de captura en el precio y procederemos a cambiar el valor de 189000 por 18900."
   ]
  },
  {
   "cell_type": "code",
   "execution_count": 50,
   "metadata": {},
   "outputs": [],
   "source": [
    "# cambiamos el precio de los modelos 'ford f-150' y precio igual a 189,000 por 18,900\n",
    "data_vehiculos.loc[(data_vehiculos['model']=='ford f-150')&(data_vehiculos['price']==189000),'price']=18900"
   ]
  },
  {
   "cell_type": "code",
   "execution_count": 51,
   "metadata": {},
   "outputs": [
    {
     "data": {
      "text/html": [
       "<div>\n",
       "<style scoped>\n",
       "    .dataframe tbody tr th:only-of-type {\n",
       "        vertical-align: middle;\n",
       "    }\n",
       "\n",
       "    .dataframe tbody tr th {\n",
       "        vertical-align: top;\n",
       "    }\n",
       "\n",
       "    .dataframe thead th {\n",
       "        text-align: right;\n",
       "    }\n",
       "</style>\n",
       "<table border=\"1\" class=\"dataframe\">\n",
       "  <thead>\n",
       "    <tr style=\"text-align: right;\">\n",
       "      <th></th>\n",
       "      <th>price</th>\n",
       "      <th>model_year</th>\n",
       "      <th>model</th>\n",
       "      <th>condition</th>\n",
       "      <th>cylinders</th>\n",
       "      <th>fuel</th>\n",
       "      <th>odometer</th>\n",
       "      <th>transmission</th>\n",
       "      <th>type</th>\n",
       "      <th>paint_color</th>\n",
       "      <th>is_4wd</th>\n",
       "      <th>date_posted</th>\n",
       "      <th>days_listed</th>\n",
       "      <th>years_used</th>\n",
       "      <th>mill_mean_year</th>\n",
       "      <th>day_week</th>\n",
       "      <th>month</th>\n",
       "      <th>year</th>\n",
       "    </tr>\n",
       "  </thead>\n",
       "  <tbody>\n",
       "    <tr>\n",
       "      <th>11359</th>\n",
       "      <td>300000</td>\n",
       "      <td>2015.0</td>\n",
       "      <td>ram 2500</td>\n",
       "      <td>3</td>\n",
       "      <td>6.0</td>\n",
       "      <td>diesel</td>\n",
       "      <td>NaN</td>\n",
       "      <td>automatic</td>\n",
       "      <td>truck</td>\n",
       "      <td>grey</td>\n",
       "      <td>1.0</td>\n",
       "      <td>2018-10-15</td>\n",
       "      <td>39</td>\n",
       "      <td>3.0</td>\n",
       "      <td>NaN</td>\n",
       "      <td>0</td>\n",
       "      <td>10</td>\n",
       "      <td>2018</td>\n",
       "    </tr>\n",
       "    <tr>\n",
       "      <th>12504</th>\n",
       "      <td>375000</td>\n",
       "      <td>1999.0</td>\n",
       "      <td>nissan frontier</td>\n",
       "      <td>2</td>\n",
       "      <td>6.0</td>\n",
       "      <td>gas</td>\n",
       "      <td>115000.0</td>\n",
       "      <td>automatic</td>\n",
       "      <td>pickup</td>\n",
       "      <td>blue</td>\n",
       "      <td>1.0</td>\n",
       "      <td>2018-05-19</td>\n",
       "      <td>21</td>\n",
       "      <td>19.0</td>\n",
       "      <td>6052.631579</td>\n",
       "      <td>5</td>\n",
       "      <td>5</td>\n",
       "      <td>2018</td>\n",
       "    </tr>\n",
       "    <tr>\n",
       "      <th>34206</th>\n",
       "      <td>175000</td>\n",
       "      <td>2004.0</td>\n",
       "      <td>gmc sierra 2500hd</td>\n",
       "      <td>2</td>\n",
       "      <td>8.0</td>\n",
       "      <td>diesel</td>\n",
       "      <td>149000.0</td>\n",
       "      <td>automatic</td>\n",
       "      <td>truck</td>\n",
       "      <td>grey</td>\n",
       "      <td>1.0</td>\n",
       "      <td>2018-08-25</td>\n",
       "      <td>57</td>\n",
       "      <td>14.0</td>\n",
       "      <td>10642.857143</td>\n",
       "      <td>5</td>\n",
       "      <td>8</td>\n",
       "      <td>2018</td>\n",
       "    </tr>\n",
       "  </tbody>\n",
       "</table>\n",
       "</div>"
      ],
      "text/plain": [
       "        price  model_year              model  condition  cylinders    fuel  \\\n",
       "11359  300000      2015.0           ram 2500          3        6.0  diesel   \n",
       "12504  375000      1999.0    nissan frontier          2        6.0     gas   \n",
       "34206  175000      2004.0  gmc sierra 2500hd          2        8.0  diesel   \n",
       "\n",
       "       odometer transmission    type paint_color  is_4wd date_posted  \\\n",
       "11359       NaN    automatic   truck        grey     1.0  2018-10-15   \n",
       "12504  115000.0    automatic  pickup        blue     1.0  2018-05-19   \n",
       "34206  149000.0    automatic   truck        grey     1.0  2018-08-25   \n",
       "\n",
       "       days_listed  years_used  mill_mean_year  day_week  month  year  \n",
       "11359           39         3.0             NaN         0     10  2018  \n",
       "12504           21        19.0     6052.631579         5      5  2018  \n",
       "34206           57        14.0    10642.857143         5      8  2018  "
      ]
     },
     "execution_count": 51,
     "metadata": {},
     "output_type": "execute_result"
    }
   ],
   "source": [
    "# revisamos los valores de 'price' mayores a 150,000 y buscamos las características de esos vehiculos\n",
    "data_vehiculos[data_vehiculos['price']>=150000]"
   ]
  },
  {
   "cell_type": "code",
   "execution_count": 52,
   "metadata": {},
   "outputs": [
    {
     "data": {
      "text/html": [
       "<div>\n",
       "<style scoped>\n",
       "    .dataframe tbody tr th:only-of-type {\n",
       "        vertical-align: middle;\n",
       "    }\n",
       "\n",
       "    .dataframe tbody tr th {\n",
       "        vertical-align: top;\n",
       "    }\n",
       "\n",
       "    .dataframe thead th {\n",
       "        text-align: right;\n",
       "    }\n",
       "</style>\n",
       "<table border=\"1\" class=\"dataframe\">\n",
       "  <thead>\n",
       "    <tr style=\"text-align: right;\">\n",
       "      <th></th>\n",
       "      <th>price</th>\n",
       "      <th>model_year</th>\n",
       "      <th>model</th>\n",
       "      <th>condition</th>\n",
       "      <th>cylinders</th>\n",
       "      <th>fuel</th>\n",
       "      <th>odometer</th>\n",
       "      <th>transmission</th>\n",
       "      <th>type</th>\n",
       "      <th>paint_color</th>\n",
       "      <th>is_4wd</th>\n",
       "      <th>date_posted</th>\n",
       "      <th>days_listed</th>\n",
       "      <th>years_used</th>\n",
       "      <th>mill_mean_year</th>\n",
       "      <th>day_week</th>\n",
       "      <th>month</th>\n",
       "      <th>year</th>\n",
       "    </tr>\n",
       "  </thead>\n",
       "  <tbody>\n",
       "    <tr>\n",
       "      <th>286</th>\n",
       "      <td>35999</td>\n",
       "      <td>2015.0</td>\n",
       "      <td>ram 2500</td>\n",
       "      <td>2</td>\n",
       "      <td>6.0</td>\n",
       "      <td>diesel</td>\n",
       "      <td>157558.0</td>\n",
       "      <td>automatic</td>\n",
       "      <td>truck</td>\n",
       "      <td>grey</td>\n",
       "      <td>1.0</td>\n",
       "      <td>2018-12-13</td>\n",
       "      <td>59</td>\n",
       "      <td>3.0</td>\n",
       "      <td>52519.333333</td>\n",
       "      <td>3</td>\n",
       "      <td>12</td>\n",
       "      <td>2018</td>\n",
       "    </tr>\n",
       "    <tr>\n",
       "      <th>461</th>\n",
       "      <td>27000</td>\n",
       "      <td>2015.0</td>\n",
       "      <td>ram 2500</td>\n",
       "      <td>3</td>\n",
       "      <td>8.0</td>\n",
       "      <td>gas</td>\n",
       "      <td>62500.0</td>\n",
       "      <td>automatic</td>\n",
       "      <td>truck</td>\n",
       "      <td>blue</td>\n",
       "      <td>1.0</td>\n",
       "      <td>2019-04-03</td>\n",
       "      <td>120</td>\n",
       "      <td>4.0</td>\n",
       "      <td>15625.000000</td>\n",
       "      <td>2</td>\n",
       "      <td>4</td>\n",
       "      <td>2019</td>\n",
       "    </tr>\n",
       "    <tr>\n",
       "      <th>708</th>\n",
       "      <td>25400</td>\n",
       "      <td>2015.0</td>\n",
       "      <td>ram 2500</td>\n",
       "      <td>3</td>\n",
       "      <td>8.0</td>\n",
       "      <td>diesel</td>\n",
       "      <td>178285.0</td>\n",
       "      <td>automatic</td>\n",
       "      <td>truck</td>\n",
       "      <td>white</td>\n",
       "      <td>0.0</td>\n",
       "      <td>2018-11-24</td>\n",
       "      <td>13</td>\n",
       "      <td>3.0</td>\n",
       "      <td>59428.333333</td>\n",
       "      <td>5</td>\n",
       "      <td>11</td>\n",
       "      <td>2018</td>\n",
       "    </tr>\n",
       "    <tr>\n",
       "      <th>2002</th>\n",
       "      <td>36995</td>\n",
       "      <td>2015.0</td>\n",
       "      <td>ram 2500</td>\n",
       "      <td>2</td>\n",
       "      <td>8.0</td>\n",
       "      <td>diesel</td>\n",
       "      <td>52699.0</td>\n",
       "      <td>automatic</td>\n",
       "      <td>truck</td>\n",
       "      <td>grey</td>\n",
       "      <td>1.0</td>\n",
       "      <td>2018-05-21</td>\n",
       "      <td>29</td>\n",
       "      <td>3.0</td>\n",
       "      <td>17566.333333</td>\n",
       "      <td>0</td>\n",
       "      <td>5</td>\n",
       "      <td>2018</td>\n",
       "    </tr>\n",
       "    <tr>\n",
       "      <th>2469</th>\n",
       "      <td>31500</td>\n",
       "      <td>2015.0</td>\n",
       "      <td>ram 2500</td>\n",
       "      <td>2</td>\n",
       "      <td>8.0</td>\n",
       "      <td>gas</td>\n",
       "      <td>145838.0</td>\n",
       "      <td>automatic</td>\n",
       "      <td>truck</td>\n",
       "      <td>unknown</td>\n",
       "      <td>1.0</td>\n",
       "      <td>2019-03-28</td>\n",
       "      <td>90</td>\n",
       "      <td>4.0</td>\n",
       "      <td>36459.500000</td>\n",
       "      <td>3</td>\n",
       "      <td>3</td>\n",
       "      <td>2019</td>\n",
       "    </tr>\n",
       "  </tbody>\n",
       "</table>\n",
       "</div>"
      ],
      "text/plain": [
       "      price  model_year     model  condition  cylinders    fuel  odometer  \\\n",
       "286   35999      2015.0  ram 2500          2        6.0  diesel  157558.0   \n",
       "461   27000      2015.0  ram 2500          3        8.0     gas   62500.0   \n",
       "708   25400      2015.0  ram 2500          3        8.0  diesel  178285.0   \n",
       "2002  36995      2015.0  ram 2500          2        8.0  diesel   52699.0   \n",
       "2469  31500      2015.0  ram 2500          2        8.0     gas  145838.0   \n",
       "\n",
       "     transmission   type paint_color  is_4wd date_posted  days_listed  \\\n",
       "286     automatic  truck        grey     1.0  2018-12-13           59   \n",
       "461     automatic  truck        blue     1.0  2019-04-03          120   \n",
       "708     automatic  truck       white     0.0  2018-11-24           13   \n",
       "2002    automatic  truck        grey     1.0  2018-05-21           29   \n",
       "2469    automatic  truck     unknown     1.0  2019-03-28           90   \n",
       "\n",
       "      years_used  mill_mean_year  day_week  month  year  \n",
       "286          3.0    52519.333333         3     12  2018  \n",
       "461          4.0    15625.000000         2      4  2019  \n",
       "708          3.0    59428.333333         5     11  2018  \n",
       "2002         3.0    17566.333333         0      5  2018  \n",
       "2469         4.0    36459.500000         3      3  2019  "
      ]
     },
     "execution_count": 52,
     "metadata": {},
     "output_type": "execute_result"
    }
   ],
   "source": [
    "# creamos un dataframe con caracteristicas similares a cada uno de esos vehículos para hacer una comparación\n",
    "data_vehiculos[(data_vehiculos['model']=='ram 2500')&(data_vehiculos['model_year']==2015)].head()"
   ]
  },
  {
   "cell_type": "raw",
   "metadata": {},
   "source": [
    "De la tabla anterior, notamos que para los modelos 'ram 2500' y año '2015' el precio ronda las cinco cifras, así que asumiremos que hubo un error de captura en el precio y procederemos a cambiar el valor de 300000 por 30000."
   ]
  },
  {
   "cell_type": "code",
   "execution_count": 53,
   "metadata": {},
   "outputs": [],
   "source": [
    "# cambiamos el precio de los modelos 'ram 2500' y precio igual a 300,000 por 30,000\n",
    "data_vehiculos.loc[(data_vehiculos['model']=='ram 2500')&(data_vehiculos['price']==300000),'price']=30000"
   ]
  },
  {
   "cell_type": "code",
   "execution_count": 54,
   "metadata": {},
   "outputs": [
    {
     "data": {
      "text/html": [
       "<div>\n",
       "<style scoped>\n",
       "    .dataframe tbody tr th:only-of-type {\n",
       "        vertical-align: middle;\n",
       "    }\n",
       "\n",
       "    .dataframe tbody tr th {\n",
       "        vertical-align: top;\n",
       "    }\n",
       "\n",
       "    .dataframe thead th {\n",
       "        text-align: right;\n",
       "    }\n",
       "</style>\n",
       "<table border=\"1\" class=\"dataframe\">\n",
       "  <thead>\n",
       "    <tr style=\"text-align: right;\">\n",
       "      <th></th>\n",
       "      <th>price</th>\n",
       "      <th>model_year</th>\n",
       "      <th>model</th>\n",
       "      <th>condition</th>\n",
       "      <th>cylinders</th>\n",
       "      <th>fuel</th>\n",
       "      <th>odometer</th>\n",
       "      <th>transmission</th>\n",
       "      <th>type</th>\n",
       "      <th>paint_color</th>\n",
       "      <th>is_4wd</th>\n",
       "      <th>date_posted</th>\n",
       "      <th>days_listed</th>\n",
       "      <th>years_used</th>\n",
       "      <th>mill_mean_year</th>\n",
       "      <th>day_week</th>\n",
       "      <th>month</th>\n",
       "      <th>year</th>\n",
       "    </tr>\n",
       "  </thead>\n",
       "  <tbody>\n",
       "    <tr>\n",
       "      <th>12504</th>\n",
       "      <td>375000</td>\n",
       "      <td>1999.0</td>\n",
       "      <td>nissan frontier</td>\n",
       "      <td>2</td>\n",
       "      <td>6.0</td>\n",
       "      <td>gas</td>\n",
       "      <td>115000.0</td>\n",
       "      <td>automatic</td>\n",
       "      <td>pickup</td>\n",
       "      <td>blue</td>\n",
       "      <td>1.0</td>\n",
       "      <td>2018-05-19</td>\n",
       "      <td>21</td>\n",
       "      <td>19.0</td>\n",
       "      <td>6052.631579</td>\n",
       "      <td>5</td>\n",
       "      <td>5</td>\n",
       "      <td>2018</td>\n",
       "    </tr>\n",
       "    <tr>\n",
       "      <th>34206</th>\n",
       "      <td>175000</td>\n",
       "      <td>2004.0</td>\n",
       "      <td>gmc sierra 2500hd</td>\n",
       "      <td>2</td>\n",
       "      <td>8.0</td>\n",
       "      <td>diesel</td>\n",
       "      <td>149000.0</td>\n",
       "      <td>automatic</td>\n",
       "      <td>truck</td>\n",
       "      <td>grey</td>\n",
       "      <td>1.0</td>\n",
       "      <td>2018-08-25</td>\n",
       "      <td>57</td>\n",
       "      <td>14.0</td>\n",
       "      <td>10642.857143</td>\n",
       "      <td>5</td>\n",
       "      <td>8</td>\n",
       "      <td>2018</td>\n",
       "    </tr>\n",
       "  </tbody>\n",
       "</table>\n",
       "</div>"
      ],
      "text/plain": [
       "        price  model_year              model  condition  cylinders    fuel  \\\n",
       "12504  375000      1999.0    nissan frontier          2        6.0     gas   \n",
       "34206  175000      2004.0  gmc sierra 2500hd          2        8.0  diesel   \n",
       "\n",
       "       odometer transmission    type paint_color  is_4wd date_posted  \\\n",
       "12504  115000.0    automatic  pickup        blue     1.0  2018-05-19   \n",
       "34206  149000.0    automatic   truck        grey     1.0  2018-08-25   \n",
       "\n",
       "       days_listed  years_used  mill_mean_year  day_week  month  year  \n",
       "12504           21        19.0     6052.631579         5      5  2018  \n",
       "34206           57        14.0    10642.857143         5      8  2018  "
      ]
     },
     "execution_count": 54,
     "metadata": {},
     "output_type": "execute_result"
    }
   ],
   "source": [
    "# revisamos los valores de 'price' mayores a 150,000 y buscamos las características de esos vehiculos\n",
    "data_vehiculos[data_vehiculos['price']>=150000]"
   ]
  },
  {
   "cell_type": "code",
   "execution_count": 55,
   "metadata": {},
   "outputs": [
    {
     "data": {
      "text/html": [
       "<div>\n",
       "<style scoped>\n",
       "    .dataframe tbody tr th:only-of-type {\n",
       "        vertical-align: middle;\n",
       "    }\n",
       "\n",
       "    .dataframe tbody tr th {\n",
       "        vertical-align: top;\n",
       "    }\n",
       "\n",
       "    .dataframe thead th {\n",
       "        text-align: right;\n",
       "    }\n",
       "</style>\n",
       "<table border=\"1\" class=\"dataframe\">\n",
       "  <thead>\n",
       "    <tr style=\"text-align: right;\">\n",
       "      <th></th>\n",
       "      <th>price</th>\n",
       "      <th>model_year</th>\n",
       "      <th>model</th>\n",
       "      <th>condition</th>\n",
       "      <th>cylinders</th>\n",
       "      <th>fuel</th>\n",
       "      <th>odometer</th>\n",
       "      <th>transmission</th>\n",
       "      <th>type</th>\n",
       "      <th>paint_color</th>\n",
       "      <th>is_4wd</th>\n",
       "      <th>date_posted</th>\n",
       "      <th>days_listed</th>\n",
       "      <th>years_used</th>\n",
       "      <th>mill_mean_year</th>\n",
       "      <th>day_week</th>\n",
       "      <th>month</th>\n",
       "      <th>year</th>\n",
       "    </tr>\n",
       "  </thead>\n",
       "  <tbody>\n",
       "    <tr>\n",
       "      <th>12504</th>\n",
       "      <td>375000</td>\n",
       "      <td>1999.0</td>\n",
       "      <td>nissan frontier</td>\n",
       "      <td>2</td>\n",
       "      <td>6.0</td>\n",
       "      <td>gas</td>\n",
       "      <td>115000.0</td>\n",
       "      <td>automatic</td>\n",
       "      <td>pickup</td>\n",
       "      <td>blue</td>\n",
       "      <td>1.0</td>\n",
       "      <td>2018-05-19</td>\n",
       "      <td>21</td>\n",
       "      <td>19.0</td>\n",
       "      <td>6052.631579</td>\n",
       "      <td>5</td>\n",
       "      <td>5</td>\n",
       "      <td>2018</td>\n",
       "    </tr>\n",
       "    <tr>\n",
       "      <th>25872</th>\n",
       "      <td>3900</td>\n",
       "      <td>1999.0</td>\n",
       "      <td>nissan frontier</td>\n",
       "      <td>2</td>\n",
       "      <td>6.0</td>\n",
       "      <td>gas</td>\n",
       "      <td>136500.0</td>\n",
       "      <td>automatic</td>\n",
       "      <td>truck</td>\n",
       "      <td>unknown</td>\n",
       "      <td>1.0</td>\n",
       "      <td>2018-08-30</td>\n",
       "      <td>57</td>\n",
       "      <td>19.0</td>\n",
       "      <td>7184.210526</td>\n",
       "      <td>3</td>\n",
       "      <td>8</td>\n",
       "      <td>2018</td>\n",
       "    </tr>\n",
       "    <tr>\n",
       "      <th>38175</th>\n",
       "      <td>1800</td>\n",
       "      <td>1999.0</td>\n",
       "      <td>nissan frontier</td>\n",
       "      <td>2</td>\n",
       "      <td>6.0</td>\n",
       "      <td>gas</td>\n",
       "      <td>228000.0</td>\n",
       "      <td>manual</td>\n",
       "      <td>pickup</td>\n",
       "      <td>black</td>\n",
       "      <td>0.0</td>\n",
       "      <td>2019-02-02</td>\n",
       "      <td>11</td>\n",
       "      <td>20.0</td>\n",
       "      <td>11400.000000</td>\n",
       "      <td>5</td>\n",
       "      <td>2</td>\n",
       "      <td>2019</td>\n",
       "    </tr>\n",
       "  </tbody>\n",
       "</table>\n",
       "</div>"
      ],
      "text/plain": [
       "        price  model_year            model  condition  cylinders fuel  \\\n",
       "12504  375000      1999.0  nissan frontier          2        6.0  gas   \n",
       "25872    3900      1999.0  nissan frontier          2        6.0  gas   \n",
       "38175    1800      1999.0  nissan frontier          2        6.0  gas   \n",
       "\n",
       "       odometer transmission    type paint_color  is_4wd date_posted  \\\n",
       "12504  115000.0    automatic  pickup        blue     1.0  2018-05-19   \n",
       "25872  136500.0    automatic   truck     unknown     1.0  2018-08-30   \n",
       "38175  228000.0       manual  pickup       black     0.0  2019-02-02   \n",
       "\n",
       "       days_listed  years_used  mill_mean_year  day_week  month  year  \n",
       "12504           21        19.0     6052.631579         5      5  2018  \n",
       "25872           57        19.0     7184.210526         3      8  2018  \n",
       "38175           11        20.0    11400.000000         5      2  2019  "
      ]
     },
     "execution_count": 55,
     "metadata": {},
     "output_type": "execute_result"
    }
   ],
   "source": [
    "# creamos un dataframe con caracteristicas similares a cada uno de esos vehículos para hacer una comparación\n",
    "data_vehiculos[(data_vehiculos['model']=='nissan frontier')&(data_vehiculos['model_year']==1999)].head()"
   ]
  },
  {
   "cell_type": "markdown",
   "metadata": {},
   "source": [
    "De la tabla anterior, notamos que para los modelos 'nissan frontier' y año '1999' el precio ronda las cuatro cifras, así que asumiremos que hubo un error de captura en el precio y procederemos a cambiar el valor de 375000 por 3750."
   ]
  },
  {
   "cell_type": "code",
   "execution_count": 56,
   "metadata": {},
   "outputs": [],
   "source": [
    "# cambiamos el precio de los modelos 'nissan frontier' y precio igual a 375,000 por 3,750\n",
    "data_vehiculos.loc[(data_vehiculos['model']=='nissan frontier')&(data_vehiculos['price']==375000),'price']=3750"
   ]
  },
  {
   "cell_type": "code",
   "execution_count": 57,
   "metadata": {},
   "outputs": [
    {
     "data": {
      "text/html": [
       "<div>\n",
       "<style scoped>\n",
       "    .dataframe tbody tr th:only-of-type {\n",
       "        vertical-align: middle;\n",
       "    }\n",
       "\n",
       "    .dataframe tbody tr th {\n",
       "        vertical-align: top;\n",
       "    }\n",
       "\n",
       "    .dataframe thead th {\n",
       "        text-align: right;\n",
       "    }\n",
       "</style>\n",
       "<table border=\"1\" class=\"dataframe\">\n",
       "  <thead>\n",
       "    <tr style=\"text-align: right;\">\n",
       "      <th></th>\n",
       "      <th>price</th>\n",
       "      <th>model_year</th>\n",
       "      <th>model</th>\n",
       "      <th>condition</th>\n",
       "      <th>cylinders</th>\n",
       "      <th>fuel</th>\n",
       "      <th>odometer</th>\n",
       "      <th>transmission</th>\n",
       "      <th>type</th>\n",
       "      <th>paint_color</th>\n",
       "      <th>is_4wd</th>\n",
       "      <th>date_posted</th>\n",
       "      <th>days_listed</th>\n",
       "      <th>years_used</th>\n",
       "      <th>mill_mean_year</th>\n",
       "      <th>day_week</th>\n",
       "      <th>month</th>\n",
       "      <th>year</th>\n",
       "    </tr>\n",
       "  </thead>\n",
       "  <tbody>\n",
       "    <tr>\n",
       "      <th>34206</th>\n",
       "      <td>175000</td>\n",
       "      <td>2004.0</td>\n",
       "      <td>gmc sierra 2500hd</td>\n",
       "      <td>2</td>\n",
       "      <td>8.0</td>\n",
       "      <td>diesel</td>\n",
       "      <td>149000.0</td>\n",
       "      <td>automatic</td>\n",
       "      <td>truck</td>\n",
       "      <td>grey</td>\n",
       "      <td>1.0</td>\n",
       "      <td>2018-08-25</td>\n",
       "      <td>57</td>\n",
       "      <td>14.0</td>\n",
       "      <td>10642.857143</td>\n",
       "      <td>5</td>\n",
       "      <td>8</td>\n",
       "      <td>2018</td>\n",
       "    </tr>\n",
       "  </tbody>\n",
       "</table>\n",
       "</div>"
      ],
      "text/plain": [
       "        price  model_year              model  condition  cylinders    fuel  \\\n",
       "34206  175000      2004.0  gmc sierra 2500hd          2        8.0  diesel   \n",
       "\n",
       "       odometer transmission   type paint_color  is_4wd date_posted  \\\n",
       "34206  149000.0    automatic  truck        grey     1.0  2018-08-25   \n",
       "\n",
       "       days_listed  years_used  mill_mean_year  day_week  month  year  \n",
       "34206           57        14.0    10642.857143         5      8  2018  "
      ]
     },
     "execution_count": 57,
     "metadata": {},
     "output_type": "execute_result"
    }
   ],
   "source": [
    "# revisamos los valores de 'price' mayores a 150,000 y buscamos las características de esos vehiculos\n",
    "data_vehiculos[data_vehiculos['price']>=150000]"
   ]
  },
  {
   "cell_type": "code",
   "execution_count": 58,
   "metadata": {},
   "outputs": [
    {
     "data": {
      "text/html": [
       "<div>\n",
       "<style scoped>\n",
       "    .dataframe tbody tr th:only-of-type {\n",
       "        vertical-align: middle;\n",
       "    }\n",
       "\n",
       "    .dataframe tbody tr th {\n",
       "        vertical-align: top;\n",
       "    }\n",
       "\n",
       "    .dataframe thead th {\n",
       "        text-align: right;\n",
       "    }\n",
       "</style>\n",
       "<table border=\"1\" class=\"dataframe\">\n",
       "  <thead>\n",
       "    <tr style=\"text-align: right;\">\n",
       "      <th></th>\n",
       "      <th>price</th>\n",
       "      <th>model_year</th>\n",
       "      <th>model</th>\n",
       "      <th>condition</th>\n",
       "      <th>cylinders</th>\n",
       "      <th>fuel</th>\n",
       "      <th>odometer</th>\n",
       "      <th>transmission</th>\n",
       "      <th>type</th>\n",
       "      <th>paint_color</th>\n",
       "      <th>is_4wd</th>\n",
       "      <th>date_posted</th>\n",
       "      <th>days_listed</th>\n",
       "      <th>years_used</th>\n",
       "      <th>mill_mean_year</th>\n",
       "      <th>day_week</th>\n",
       "      <th>month</th>\n",
       "      <th>year</th>\n",
       "    </tr>\n",
       "  </thead>\n",
       "  <tbody>\n",
       "    <tr>\n",
       "      <th>445</th>\n",
       "      <td>13500</td>\n",
       "      <td>2004.0</td>\n",
       "      <td>gmc sierra 2500hd</td>\n",
       "      <td>3</td>\n",
       "      <td>8.0</td>\n",
       "      <td>gas</td>\n",
       "      <td>177000.0</td>\n",
       "      <td>automatic</td>\n",
       "      <td>truck</td>\n",
       "      <td>grey</td>\n",
       "      <td>1.0</td>\n",
       "      <td>2018-10-09</td>\n",
       "      <td>37</td>\n",
       "      <td>14.0</td>\n",
       "      <td>12642.857143</td>\n",
       "      <td>1</td>\n",
       "      <td>10</td>\n",
       "      <td>2018</td>\n",
       "    </tr>\n",
       "    <tr>\n",
       "      <th>1922</th>\n",
       "      <td>18000</td>\n",
       "      <td>2004.0</td>\n",
       "      <td>gmc sierra 2500hd</td>\n",
       "      <td>3</td>\n",
       "      <td>8.0</td>\n",
       "      <td>diesel</td>\n",
       "      <td>NaN</td>\n",
       "      <td>automatic</td>\n",
       "      <td>truck</td>\n",
       "      <td>black</td>\n",
       "      <td>1.0</td>\n",
       "      <td>2018-10-04</td>\n",
       "      <td>33</td>\n",
       "      <td>14.0</td>\n",
       "      <td>NaN</td>\n",
       "      <td>3</td>\n",
       "      <td>10</td>\n",
       "      <td>2018</td>\n",
       "    </tr>\n",
       "    <tr>\n",
       "      <th>2386</th>\n",
       "      <td>7000</td>\n",
       "      <td>2004.0</td>\n",
       "      <td>gmc sierra 2500hd</td>\n",
       "      <td>2</td>\n",
       "      <td>8.0</td>\n",
       "      <td>gas</td>\n",
       "      <td>212000.0</td>\n",
       "      <td>automatic</td>\n",
       "      <td>pickup</td>\n",
       "      <td>white</td>\n",
       "      <td>1.0</td>\n",
       "      <td>2018-08-05</td>\n",
       "      <td>15</td>\n",
       "      <td>14.0</td>\n",
       "      <td>15142.857143</td>\n",
       "      <td>6</td>\n",
       "      <td>8</td>\n",
       "      <td>2018</td>\n",
       "    </tr>\n",
       "    <tr>\n",
       "      <th>3898</th>\n",
       "      <td>12900</td>\n",
       "      <td>2004.0</td>\n",
       "      <td>gmc sierra 2500hd</td>\n",
       "      <td>3</td>\n",
       "      <td>8.0</td>\n",
       "      <td>diesel</td>\n",
       "      <td>210763.0</td>\n",
       "      <td>automatic</td>\n",
       "      <td>truck</td>\n",
       "      <td>white</td>\n",
       "      <td>0.0</td>\n",
       "      <td>2018-07-01</td>\n",
       "      <td>61</td>\n",
       "      <td>14.0</td>\n",
       "      <td>15054.500000</td>\n",
       "      <td>6</td>\n",
       "      <td>7</td>\n",
       "      <td>2018</td>\n",
       "    </tr>\n",
       "    <tr>\n",
       "      <th>3943</th>\n",
       "      <td>6500</td>\n",
       "      <td>2004.0</td>\n",
       "      <td>gmc sierra 2500hd</td>\n",
       "      <td>2</td>\n",
       "      <td>8.0</td>\n",
       "      <td>diesel</td>\n",
       "      <td>190653.0</td>\n",
       "      <td>automatic</td>\n",
       "      <td>truck</td>\n",
       "      <td>white</td>\n",
       "      <td>1.0</td>\n",
       "      <td>2018-05-08</td>\n",
       "      <td>19</td>\n",
       "      <td>14.0</td>\n",
       "      <td>13618.071429</td>\n",
       "      <td>1</td>\n",
       "      <td>5</td>\n",
       "      <td>2018</td>\n",
       "    </tr>\n",
       "  </tbody>\n",
       "</table>\n",
       "</div>"
      ],
      "text/plain": [
       "      price  model_year              model  condition  cylinders    fuel  \\\n",
       "445   13500      2004.0  gmc sierra 2500hd          3        8.0     gas   \n",
       "1922  18000      2004.0  gmc sierra 2500hd          3        8.0  diesel   \n",
       "2386   7000      2004.0  gmc sierra 2500hd          2        8.0     gas   \n",
       "3898  12900      2004.0  gmc sierra 2500hd          3        8.0  diesel   \n",
       "3943   6500      2004.0  gmc sierra 2500hd          2        8.0  diesel   \n",
       "\n",
       "      odometer transmission    type paint_color  is_4wd date_posted  \\\n",
       "445   177000.0    automatic   truck        grey     1.0  2018-10-09   \n",
       "1922       NaN    automatic   truck       black     1.0  2018-10-04   \n",
       "2386  212000.0    automatic  pickup       white     1.0  2018-08-05   \n",
       "3898  210763.0    automatic   truck       white     0.0  2018-07-01   \n",
       "3943  190653.0    automatic   truck       white     1.0  2018-05-08   \n",
       "\n",
       "      days_listed  years_used  mill_mean_year  day_week  month  year  \n",
       "445            37        14.0    12642.857143         1     10  2018  \n",
       "1922           33        14.0             NaN         3     10  2018  \n",
       "2386           15        14.0    15142.857143         6      8  2018  \n",
       "3898           61        14.0    15054.500000         6      7  2018  \n",
       "3943           19        14.0    13618.071429         1      5  2018  "
      ]
     },
     "execution_count": 58,
     "metadata": {},
     "output_type": "execute_result"
    }
   ],
   "source": [
    "# creamos un dataframe con caracteristicas similares a cada uno de esos vehículos para hacer una comparación\n",
    "data_vehiculos[(data_vehiculos['model']=='gmc sierra 2500hd')&(data_vehiculos['model_year']==2004)].head()"
   ]
  },
  {
   "cell_type": "markdown",
   "metadata": {},
   "source": [
    "De la tabla anterior, notamos que para los modelos 'gmc sierra 2500hd' y año '2004' el precio ronda los 13000, así que asumiremos que hubo un error de captura en el precio y procederemos a cambiar el valor de 175000 por 17500."
   ]
  },
  {
   "cell_type": "code",
   "execution_count": 59,
   "metadata": {},
   "outputs": [],
   "source": [
    "# cambiamos el precio de los modelos 'gmc sierra 2500hd' y precio igual a 175,000 por 17,500\n",
    "data_vehiculos.loc[(data_vehiculos['model']=='gmc sierra 2500hd')&(data_vehiculos['price']==175000),'price']=17500"
   ]
  },
  {
   "cell_type": "code",
   "execution_count": 60,
   "metadata": {},
   "outputs": [
    {
     "data": {
      "text/html": [
       "<div>\n",
       "<style scoped>\n",
       "    .dataframe tbody tr th:only-of-type {\n",
       "        vertical-align: middle;\n",
       "    }\n",
       "\n",
       "    .dataframe tbody tr th {\n",
       "        vertical-align: top;\n",
       "    }\n",
       "\n",
       "    .dataframe thead th {\n",
       "        text-align: right;\n",
       "    }\n",
       "</style>\n",
       "<table border=\"1\" class=\"dataframe\">\n",
       "  <thead>\n",
       "    <tr style=\"text-align: right;\">\n",
       "      <th></th>\n",
       "      <th>price</th>\n",
       "      <th>model_year</th>\n",
       "      <th>model</th>\n",
       "      <th>condition</th>\n",
       "      <th>cylinders</th>\n",
       "      <th>fuel</th>\n",
       "      <th>odometer</th>\n",
       "      <th>transmission</th>\n",
       "      <th>type</th>\n",
       "      <th>paint_color</th>\n",
       "      <th>is_4wd</th>\n",
       "      <th>date_posted</th>\n",
       "      <th>days_listed</th>\n",
       "      <th>years_used</th>\n",
       "      <th>mill_mean_year</th>\n",
       "      <th>day_week</th>\n",
       "      <th>month</th>\n",
       "      <th>year</th>\n",
       "    </tr>\n",
       "  </thead>\n",
       "  <tbody>\n",
       "  </tbody>\n",
       "</table>\n",
       "</div>"
      ],
      "text/plain": [
       "Empty DataFrame\n",
       "Columns: [price, model_year, model, condition, cylinders, fuel, odometer, transmission, type, paint_color, is_4wd, date_posted, days_listed, years_used, mill_mean_year, day_week, month, year]\n",
       "Index: []"
      ]
     },
     "execution_count": 60,
     "metadata": {},
     "output_type": "execute_result"
    }
   ],
   "source": [
    "# revisamos los valores de 'price' mayores a 150,000 y buscamos las características de esos vehiculos\n",
    "data_vehiculos[data_vehiculos['price']>=150000]"
   ]
  },
  {
   "cell_type": "code",
   "execution_count": 61,
   "metadata": {},
   "outputs": [
    {
     "data": {
      "text/html": [
       "<div>\n",
       "<style scoped>\n",
       "    .dataframe tbody tr th:only-of-type {\n",
       "        vertical-align: middle;\n",
       "    }\n",
       "\n",
       "    .dataframe tbody tr th {\n",
       "        vertical-align: top;\n",
       "    }\n",
       "\n",
       "    .dataframe thead th {\n",
       "        text-align: right;\n",
       "    }\n",
       "</style>\n",
       "<table border=\"1\" class=\"dataframe\">\n",
       "  <thead>\n",
       "    <tr style=\"text-align: right;\">\n",
       "      <th></th>\n",
       "      <th>price</th>\n",
       "      <th>model_year</th>\n",
       "      <th>model</th>\n",
       "      <th>condition</th>\n",
       "      <th>cylinders</th>\n",
       "      <th>fuel</th>\n",
       "      <th>odometer</th>\n",
       "      <th>transmission</th>\n",
       "      <th>type</th>\n",
       "      <th>paint_color</th>\n",
       "      <th>is_4wd</th>\n",
       "      <th>date_posted</th>\n",
       "      <th>days_listed</th>\n",
       "      <th>years_used</th>\n",
       "      <th>mill_mean_year</th>\n",
       "      <th>day_week</th>\n",
       "      <th>month</th>\n",
       "      <th>year</th>\n",
       "    </tr>\n",
       "  </thead>\n",
       "  <tbody>\n",
       "    <tr>\n",
       "      <th>10018</th>\n",
       "      <td>23900</td>\n",
       "      <td>1955.0</td>\n",
       "      <td>ford f-250</td>\n",
       "      <td>3</td>\n",
       "      <td>6.0</td>\n",
       "      <td>gas</td>\n",
       "      <td>47180.0</td>\n",
       "      <td>manual</td>\n",
       "      <td>truck</td>\n",
       "      <td>blue</td>\n",
       "      <td>0.0</td>\n",
       "      <td>2018-12-22</td>\n",
       "      <td>61</td>\n",
       "      <td>63.0</td>\n",
       "      <td>748.888889</td>\n",
       "      <td>5</td>\n",
       "      <td>12</td>\n",
       "      <td>2018</td>\n",
       "    </tr>\n",
       "    <tr>\n",
       "      <th>14752</th>\n",
       "      <td>15000</td>\n",
       "      <td>1954.0</td>\n",
       "      <td>ford f-150</td>\n",
       "      <td>3</td>\n",
       "      <td>8.0</td>\n",
       "      <td>gas</td>\n",
       "      <td>3565.0</td>\n",
       "      <td>manual</td>\n",
       "      <td>pickup</td>\n",
       "      <td>black</td>\n",
       "      <td>0.0</td>\n",
       "      <td>2019-02-16</td>\n",
       "      <td>13</td>\n",
       "      <td>65.0</td>\n",
       "      <td>54.846154</td>\n",
       "      <td>5</td>\n",
       "      <td>2</td>\n",
       "      <td>2019</td>\n",
       "    </tr>\n",
       "    <tr>\n",
       "      <th>22595</th>\n",
       "      <td>21000</td>\n",
       "      <td>1948.0</td>\n",
       "      <td>chevrolet impala</td>\n",
       "      <td>4</td>\n",
       "      <td>8.0</td>\n",
       "      <td>gas</td>\n",
       "      <td>4000.0</td>\n",
       "      <td>automatic</td>\n",
       "      <td>sedan</td>\n",
       "      <td>red</td>\n",
       "      <td>0.0</td>\n",
       "      <td>2019-01-18</td>\n",
       "      <td>24</td>\n",
       "      <td>71.0</td>\n",
       "      <td>56.338028</td>\n",
       "      <td>4</td>\n",
       "      <td>1</td>\n",
       "      <td>2019</td>\n",
       "    </tr>\n",
       "    <tr>\n",
       "      <th>33906</th>\n",
       "      <td>12995</td>\n",
       "      <td>1908.0</td>\n",
       "      <td>gmc yukon</td>\n",
       "      <td>2</td>\n",
       "      <td>8.0</td>\n",
       "      <td>gas</td>\n",
       "      <td>169328.0</td>\n",
       "      <td>automatic</td>\n",
       "      <td>suv</td>\n",
       "      <td>black</td>\n",
       "      <td>0.0</td>\n",
       "      <td>2018-07-06</td>\n",
       "      <td>34</td>\n",
       "      <td>110.0</td>\n",
       "      <td>1539.345455</td>\n",
       "      <td>4</td>\n",
       "      <td>7</td>\n",
       "      <td>2018</td>\n",
       "    </tr>\n",
       "    <tr>\n",
       "      <th>33907</th>\n",
       "      <td>12995</td>\n",
       "      <td>1908.0</td>\n",
       "      <td>cadillac escalade</td>\n",
       "      <td>3</td>\n",
       "      <td>8.0</td>\n",
       "      <td>gas</td>\n",
       "      <td>NaN</td>\n",
       "      <td>automatic</td>\n",
       "      <td>suv</td>\n",
       "      <td>white</td>\n",
       "      <td>0.0</td>\n",
       "      <td>2018-06-24</td>\n",
       "      <td>25</td>\n",
       "      <td>110.0</td>\n",
       "      <td>NaN</td>\n",
       "      <td>6</td>\n",
       "      <td>6</td>\n",
       "      <td>2018</td>\n",
       "    </tr>\n",
       "    <tr>\n",
       "      <th>34713</th>\n",
       "      <td>5000</td>\n",
       "      <td>1936.0</td>\n",
       "      <td>ford f-150</td>\n",
       "      <td>3</td>\n",
       "      <td>6.0</td>\n",
       "      <td>gas</td>\n",
       "      <td>30000.0</td>\n",
       "      <td>manual</td>\n",
       "      <td>pickup</td>\n",
       "      <td>purple</td>\n",
       "      <td>0.0</td>\n",
       "      <td>2018-11-22</td>\n",
       "      <td>10</td>\n",
       "      <td>82.0</td>\n",
       "      <td>365.853659</td>\n",
       "      <td>3</td>\n",
       "      <td>11</td>\n",
       "      <td>2018</td>\n",
       "    </tr>\n",
       "    <tr>\n",
       "      <th>36582</th>\n",
       "      <td>44900</td>\n",
       "      <td>1949.0</td>\n",
       "      <td>chevrolet suburban</td>\n",
       "      <td>2</td>\n",
       "      <td>8.0</td>\n",
       "      <td>gas</td>\n",
       "      <td>1800.0</td>\n",
       "      <td>automatic</td>\n",
       "      <td>wagon</td>\n",
       "      <td>orange</td>\n",
       "      <td>0.0</td>\n",
       "      <td>2018-08-19</td>\n",
       "      <td>10</td>\n",
       "      <td>69.0</td>\n",
       "      <td>26.086957</td>\n",
       "      <td>6</td>\n",
       "      <td>8</td>\n",
       "      <td>2018</td>\n",
       "    </tr>\n",
       "    <tr>\n",
       "      <th>39580</th>\n",
       "      <td>35000</td>\n",
       "      <td>1958.0</td>\n",
       "      <td>chevrolet impala</td>\n",
       "      <td>3</td>\n",
       "      <td>8.0</td>\n",
       "      <td>gas</td>\n",
       "      <td>3184.0</td>\n",
       "      <td>automatic</td>\n",
       "      <td>coupe</td>\n",
       "      <td>black</td>\n",
       "      <td>0.0</td>\n",
       "      <td>2018-05-19</td>\n",
       "      <td>33</td>\n",
       "      <td>60.0</td>\n",
       "      <td>53.066667</td>\n",
       "      <td>5</td>\n",
       "      <td>5</td>\n",
       "      <td>2018</td>\n",
       "    </tr>\n",
       "    <tr>\n",
       "      <th>45694</th>\n",
       "      <td>18000</td>\n",
       "      <td>1929.0</td>\n",
       "      <td>ford f-150</td>\n",
       "      <td>2</td>\n",
       "      <td>8.0</td>\n",
       "      <td>gas</td>\n",
       "      <td>NaN</td>\n",
       "      <td>manual</td>\n",
       "      <td>other</td>\n",
       "      <td>silver</td>\n",
       "      <td>0.0</td>\n",
       "      <td>2018-11-18</td>\n",
       "      <td>59</td>\n",
       "      <td>89.0</td>\n",
       "      <td>NaN</td>\n",
       "      <td>6</td>\n",
       "      <td>11</td>\n",
       "      <td>2018</td>\n",
       "    </tr>\n",
       "    <tr>\n",
       "      <th>48414</th>\n",
       "      <td>37900</td>\n",
       "      <td>1958.0</td>\n",
       "      <td>chevrolet impala</td>\n",
       "      <td>2</td>\n",
       "      <td>8.0</td>\n",
       "      <td>gas</td>\n",
       "      <td>62799.0</td>\n",
       "      <td>automatic</td>\n",
       "      <td>coupe</td>\n",
       "      <td>unknown</td>\n",
       "      <td>0.0</td>\n",
       "      <td>2018-08-11</td>\n",
       "      <td>10</td>\n",
       "      <td>60.0</td>\n",
       "      <td>1046.650000</td>\n",
       "      <td>5</td>\n",
       "      <td>8</td>\n",
       "      <td>2018</td>\n",
       "    </tr>\n",
       "  </tbody>\n",
       "</table>\n",
       "</div>"
      ],
      "text/plain": [
       "       price  model_year               model  condition  cylinders fuel  \\\n",
       "10018  23900      1955.0          ford f-250          3        6.0  gas   \n",
       "14752  15000      1954.0          ford f-150          3        8.0  gas   \n",
       "22595  21000      1948.0    chevrolet impala          4        8.0  gas   \n",
       "33906  12995      1908.0           gmc yukon          2        8.0  gas   \n",
       "33907  12995      1908.0   cadillac escalade          3        8.0  gas   \n",
       "34713   5000      1936.0          ford f-150          3        6.0  gas   \n",
       "36582  44900      1949.0  chevrolet suburban          2        8.0  gas   \n",
       "39580  35000      1958.0    chevrolet impala          3        8.0  gas   \n",
       "45694  18000      1929.0          ford f-150          2        8.0  gas   \n",
       "48414  37900      1958.0    chevrolet impala          2        8.0  gas   \n",
       "\n",
       "       odometer transmission    type paint_color  is_4wd date_posted  \\\n",
       "10018   47180.0       manual   truck        blue     0.0  2018-12-22   \n",
       "14752    3565.0       manual  pickup       black     0.0  2019-02-16   \n",
       "22595    4000.0    automatic   sedan         red     0.0  2019-01-18   \n",
       "33906  169328.0    automatic     suv       black     0.0  2018-07-06   \n",
       "33907       NaN    automatic     suv       white     0.0  2018-06-24   \n",
       "34713   30000.0       manual  pickup      purple     0.0  2018-11-22   \n",
       "36582    1800.0    automatic   wagon      orange     0.0  2018-08-19   \n",
       "39580    3184.0    automatic   coupe       black     0.0  2018-05-19   \n",
       "45694       NaN       manual   other      silver     0.0  2018-11-18   \n",
       "48414   62799.0    automatic   coupe     unknown     0.0  2018-08-11   \n",
       "\n",
       "       days_listed  years_used  mill_mean_year  day_week  month  year  \n",
       "10018           61        63.0      748.888889         5     12  2018  \n",
       "14752           13        65.0       54.846154         5      2  2019  \n",
       "22595           24        71.0       56.338028         4      1  2019  \n",
       "33906           34       110.0     1539.345455         4      7  2018  \n",
       "33907           25       110.0             NaN         6      6  2018  \n",
       "34713           10        82.0      365.853659         3     11  2018  \n",
       "36582           10        69.0       26.086957         6      8  2018  \n",
       "39580           33        60.0       53.066667         5      5  2018  \n",
       "45694           59        89.0             NaN         6     11  2018  \n",
       "48414           10        60.0     1046.650000         5      8  2018  "
      ]
     },
     "execution_count": 61,
     "metadata": {},
     "output_type": "execute_result"
    }
   ],
   "source": [
    "# revisamos los valores de 'years_used' mayores a 60 y buscamos las características de esos vehiculos\n",
    "data_vehiculos[data_vehiculos['years_used']>=60]"
   ]
  },
  {
   "cell_type": "markdown",
   "metadata": {},
   "source": [
    "La tabla anterior nos revela que **se han vendido modelos antiguos de autos y que mucha gente considera como clásicos.** Aunque hay también otros modelos que parece haber error en la captura  en el año del modelo, un **outlier.**"
   ]
  },
  {
   "cell_type": "code",
   "execution_count": 62,
   "metadata": {},
   "outputs": [
    {
     "data": {
      "text/html": [
       "<div>\n",
       "<style scoped>\n",
       "    .dataframe tbody tr th:only-of-type {\n",
       "        vertical-align: middle;\n",
       "    }\n",
       "\n",
       "    .dataframe tbody tr th {\n",
       "        vertical-align: top;\n",
       "    }\n",
       "\n",
       "    .dataframe thead th {\n",
       "        text-align: right;\n",
       "    }\n",
       "</style>\n",
       "<table border=\"1\" class=\"dataframe\">\n",
       "  <thead>\n",
       "    <tr style=\"text-align: right;\">\n",
       "      <th></th>\n",
       "      <th>price</th>\n",
       "      <th>model_year</th>\n",
       "      <th>model</th>\n",
       "      <th>condition</th>\n",
       "      <th>cylinders</th>\n",
       "      <th>fuel</th>\n",
       "      <th>odometer</th>\n",
       "      <th>transmission</th>\n",
       "      <th>type</th>\n",
       "      <th>paint_color</th>\n",
       "      <th>is_4wd</th>\n",
       "      <th>date_posted</th>\n",
       "      <th>days_listed</th>\n",
       "      <th>years_used</th>\n",
       "      <th>mill_mean_year</th>\n",
       "      <th>day_week</th>\n",
       "      <th>month</th>\n",
       "      <th>year</th>\n",
       "    </tr>\n",
       "  </thead>\n",
       "  <tbody>\n",
       "    <tr>\n",
       "      <th>1195</th>\n",
       "      <td>2750</td>\n",
       "      <td>2017.0</td>\n",
       "      <td>nissan sentra</td>\n",
       "      <td>2</td>\n",
       "      <td>4.0</td>\n",
       "      <td>gas</td>\n",
       "      <td>172991.0</td>\n",
       "      <td>manual</td>\n",
       "      <td>sedan</td>\n",
       "      <td>blue</td>\n",
       "      <td>0.0</td>\n",
       "      <td>2018-05-23</td>\n",
       "      <td>31</td>\n",
       "      <td>1.0</td>\n",
       "      <td>172991.000000</td>\n",
       "      <td>2</td>\n",
       "      <td>5</td>\n",
       "      <td>2018</td>\n",
       "    </tr>\n",
       "    <tr>\n",
       "      <th>2840</th>\n",
       "      <td>18500</td>\n",
       "      <td>2014.0</td>\n",
       "      <td>ford explorer</td>\n",
       "      <td>3</td>\n",
       "      <td>6.0</td>\n",
       "      <td>gas</td>\n",
       "      <td>866000.0</td>\n",
       "      <td>automatic</td>\n",
       "      <td>suv</td>\n",
       "      <td>black</td>\n",
       "      <td>1.0</td>\n",
       "      <td>2018-07-20</td>\n",
       "      <td>14</td>\n",
       "      <td>4.0</td>\n",
       "      <td>216500.000000</td>\n",
       "      <td>4</td>\n",
       "      <td>7</td>\n",
       "      <td>2018</td>\n",
       "    </tr>\n",
       "    <tr>\n",
       "      <th>4970</th>\n",
       "      <td>29000</td>\n",
       "      <td>2018.0</td>\n",
       "      <td>chevrolet silverado 1500</td>\n",
       "      <td>3</td>\n",
       "      <td>8.0</td>\n",
       "      <td>gas</td>\n",
       "      <td>373200.0</td>\n",
       "      <td>automatic</td>\n",
       "      <td>truck</td>\n",
       "      <td>unknown</td>\n",
       "      <td>1.0</td>\n",
       "      <td>2018-09-14</td>\n",
       "      <td>40</td>\n",
       "      <td>0.0</td>\n",
       "      <td>373200.000000</td>\n",
       "      <td>4</td>\n",
       "      <td>9</td>\n",
       "      <td>2018</td>\n",
       "    </tr>\n",
       "    <tr>\n",
       "      <th>5735</th>\n",
       "      <td>7500</td>\n",
       "      <td>2015.0</td>\n",
       "      <td>hyundai elantra</td>\n",
       "      <td>3</td>\n",
       "      <td>4.0</td>\n",
       "      <td>gas</td>\n",
       "      <td>813542.0</td>\n",
       "      <td>other</td>\n",
       "      <td>coupe</td>\n",
       "      <td>brown</td>\n",
       "      <td>0.0</td>\n",
       "      <td>2018-11-21</td>\n",
       "      <td>5</td>\n",
       "      <td>3.0</td>\n",
       "      <td>271180.666667</td>\n",
       "      <td>2</td>\n",
       "      <td>11</td>\n",
       "      <td>2018</td>\n",
       "    </tr>\n",
       "    <tr>\n",
       "      <th>9742</th>\n",
       "      <td>12500</td>\n",
       "      <td>2018.0</td>\n",
       "      <td>nissan altima</td>\n",
       "      <td>4</td>\n",
       "      <td>4.0</td>\n",
       "      <td>gas</td>\n",
       "      <td>320000.0</td>\n",
       "      <td>automatic</td>\n",
       "      <td>sedan</td>\n",
       "      <td>silver</td>\n",
       "      <td>0.0</td>\n",
       "      <td>2018-08-14</td>\n",
       "      <td>75</td>\n",
       "      <td>0.0</td>\n",
       "      <td>320000.000000</td>\n",
       "      <td>1</td>\n",
       "      <td>8</td>\n",
       "      <td>2018</td>\n",
       "    </tr>\n",
       "    <tr>\n",
       "      <th>13027</th>\n",
       "      <td>8500</td>\n",
       "      <td>2015.0</td>\n",
       "      <td>chevrolet malibu</td>\n",
       "      <td>3</td>\n",
       "      <td>4.0</td>\n",
       "      <td>gas</td>\n",
       "      <td>838095.0</td>\n",
       "      <td>automatic</td>\n",
       "      <td>sedan</td>\n",
       "      <td>silver</td>\n",
       "      <td>0.0</td>\n",
       "      <td>2018-05-30</td>\n",
       "      <td>10</td>\n",
       "      <td>3.0</td>\n",
       "      <td>279365.000000</td>\n",
       "      <td>2</td>\n",
       "      <td>5</td>\n",
       "      <td>2018</td>\n",
       "    </tr>\n",
       "    <tr>\n",
       "      <th>18136</th>\n",
       "      <td>2500</td>\n",
       "      <td>2017.0</td>\n",
       "      <td>hyundai elantra</td>\n",
       "      <td>2</td>\n",
       "      <td>4.0</td>\n",
       "      <td>gas</td>\n",
       "      <td>211000.0</td>\n",
       "      <td>automatic</td>\n",
       "      <td>sedan</td>\n",
       "      <td>blue</td>\n",
       "      <td>0.0</td>\n",
       "      <td>2018-12-29</td>\n",
       "      <td>66</td>\n",
       "      <td>1.0</td>\n",
       "      <td>211000.000000</td>\n",
       "      <td>5</td>\n",
       "      <td>12</td>\n",
       "      <td>2018</td>\n",
       "    </tr>\n",
       "    <tr>\n",
       "      <th>33578</th>\n",
       "      <td>12995</td>\n",
       "      <td>2014.0</td>\n",
       "      <td>chrysler 300</td>\n",
       "      <td>4</td>\n",
       "      <td>6.0</td>\n",
       "      <td>gas</td>\n",
       "      <td>811956.0</td>\n",
       "      <td>automatic</td>\n",
       "      <td>sedan</td>\n",
       "      <td>unknown</td>\n",
       "      <td>0.0</td>\n",
       "      <td>2018-11-13</td>\n",
       "      <td>44</td>\n",
       "      <td>4.0</td>\n",
       "      <td>202989.000000</td>\n",
       "      <td>1</td>\n",
       "      <td>11</td>\n",
       "      <td>2018</td>\n",
       "    </tr>\n",
       "    <tr>\n",
       "      <th>36412</th>\n",
       "      <td>9000</td>\n",
       "      <td>2018.0</td>\n",
       "      <td>chevrolet equinox</td>\n",
       "      <td>3</td>\n",
       "      <td>4.0</td>\n",
       "      <td>gas</td>\n",
       "      <td>195700.0</td>\n",
       "      <td>automatic</td>\n",
       "      <td>suv</td>\n",
       "      <td>unknown</td>\n",
       "      <td>1.0</td>\n",
       "      <td>2018-05-16</td>\n",
       "      <td>31</td>\n",
       "      <td>0.0</td>\n",
       "      <td>195700.000000</td>\n",
       "      <td>2</td>\n",
       "      <td>5</td>\n",
       "      <td>2018</td>\n",
       "    </tr>\n",
       "    <tr>\n",
       "      <th>38788</th>\n",
       "      <td>3999</td>\n",
       "      <td>2017.0</td>\n",
       "      <td>hyundai elantra</td>\n",
       "      <td>2</td>\n",
       "      <td>4.0</td>\n",
       "      <td>gas</td>\n",
       "      <td>176700.0</td>\n",
       "      <td>automatic</td>\n",
       "      <td>hatchback</td>\n",
       "      <td>silver</td>\n",
       "      <td>0.0</td>\n",
       "      <td>2018-11-21</td>\n",
       "      <td>18</td>\n",
       "      <td>1.0</td>\n",
       "      <td>176700.000000</td>\n",
       "      <td>2</td>\n",
       "      <td>11</td>\n",
       "      <td>2018</td>\n",
       "    </tr>\n",
       "    <tr>\n",
       "      <th>39324</th>\n",
       "      <td>2995</td>\n",
       "      <td>2018.0</td>\n",
       "      <td>nissan frontier</td>\n",
       "      <td>3</td>\n",
       "      <td>6.0</td>\n",
       "      <td>gas</td>\n",
       "      <td>213539.0</td>\n",
       "      <td>automatic</td>\n",
       "      <td>pickup</td>\n",
       "      <td>red</td>\n",
       "      <td>0.0</td>\n",
       "      <td>2018-05-18</td>\n",
       "      <td>68</td>\n",
       "      <td>0.0</td>\n",
       "      <td>213539.000000</td>\n",
       "      <td>4</td>\n",
       "      <td>5</td>\n",
       "      <td>2018</td>\n",
       "    </tr>\n",
       "    <tr>\n",
       "      <th>40729</th>\n",
       "      <td>4700</td>\n",
       "      <td>2013.0</td>\n",
       "      <td>chevrolet cruze</td>\n",
       "      <td>2</td>\n",
       "      <td>6.0</td>\n",
       "      <td>gas</td>\n",
       "      <td>990000.0</td>\n",
       "      <td>automatic</td>\n",
       "      <td>sedan</td>\n",
       "      <td>black</td>\n",
       "      <td>0.0</td>\n",
       "      <td>2018-05-02</td>\n",
       "      <td>4</td>\n",
       "      <td>5.0</td>\n",
       "      <td>198000.000000</td>\n",
       "      <td>2</td>\n",
       "      <td>5</td>\n",
       "      <td>2018</td>\n",
       "    </tr>\n",
       "    <tr>\n",
       "      <th>48962</th>\n",
       "      <td>40000</td>\n",
       "      <td>2014.0</td>\n",
       "      <td>ram 3500</td>\n",
       "      <td>3</td>\n",
       "      <td>6.0</td>\n",
       "      <td>diesel</td>\n",
       "      <td>980000.0</td>\n",
       "      <td>automatic</td>\n",
       "      <td>truck</td>\n",
       "      <td>white</td>\n",
       "      <td>1.0</td>\n",
       "      <td>2018-12-06</td>\n",
       "      <td>7</td>\n",
       "      <td>4.0</td>\n",
       "      <td>245000.000000</td>\n",
       "      <td>3</td>\n",
       "      <td>12</td>\n",
       "      <td>2018</td>\n",
       "    </tr>\n",
       "  </tbody>\n",
       "</table>\n",
       "</div>"
      ],
      "text/plain": [
       "       price  model_year                     model  condition  cylinders  \\\n",
       "1195    2750      2017.0             nissan sentra          2        4.0   \n",
       "2840   18500      2014.0             ford explorer          3        6.0   \n",
       "4970   29000      2018.0  chevrolet silverado 1500          3        8.0   \n",
       "5735    7500      2015.0           hyundai elantra          3        4.0   \n",
       "9742   12500      2018.0             nissan altima          4        4.0   \n",
       "13027   8500      2015.0          chevrolet malibu          3        4.0   \n",
       "18136   2500      2017.0           hyundai elantra          2        4.0   \n",
       "33578  12995      2014.0              chrysler 300          4        6.0   \n",
       "36412   9000      2018.0         chevrolet equinox          3        4.0   \n",
       "38788   3999      2017.0           hyundai elantra          2        4.0   \n",
       "39324   2995      2018.0           nissan frontier          3        6.0   \n",
       "40729   4700      2013.0           chevrolet cruze          2        6.0   \n",
       "48962  40000      2014.0                  ram 3500          3        6.0   \n",
       "\n",
       "         fuel  odometer transmission       type paint_color  is_4wd  \\\n",
       "1195      gas  172991.0       manual      sedan        blue     0.0   \n",
       "2840      gas  866000.0    automatic        suv       black     1.0   \n",
       "4970      gas  373200.0    automatic      truck     unknown     1.0   \n",
       "5735      gas  813542.0        other      coupe       brown     0.0   \n",
       "9742      gas  320000.0    automatic      sedan      silver     0.0   \n",
       "13027     gas  838095.0    automatic      sedan      silver     0.0   \n",
       "18136     gas  211000.0    automatic      sedan        blue     0.0   \n",
       "33578     gas  811956.0    automatic      sedan     unknown     0.0   \n",
       "36412     gas  195700.0    automatic        suv     unknown     1.0   \n",
       "38788     gas  176700.0    automatic  hatchback      silver     0.0   \n",
       "39324     gas  213539.0    automatic     pickup         red     0.0   \n",
       "40729     gas  990000.0    automatic      sedan       black     0.0   \n",
       "48962  diesel  980000.0    automatic      truck       white     1.0   \n",
       "\n",
       "      date_posted  days_listed  years_used  mill_mean_year  day_week  month  \\\n",
       "1195   2018-05-23           31         1.0   172991.000000         2      5   \n",
       "2840   2018-07-20           14         4.0   216500.000000         4      7   \n",
       "4970   2018-09-14           40         0.0   373200.000000         4      9   \n",
       "5735   2018-11-21            5         3.0   271180.666667         2     11   \n",
       "9742   2018-08-14           75         0.0   320000.000000         1      8   \n",
       "13027  2018-05-30           10         3.0   279365.000000         2      5   \n",
       "18136  2018-12-29           66         1.0   211000.000000         5     12   \n",
       "33578  2018-11-13           44         4.0   202989.000000         1     11   \n",
       "36412  2018-05-16           31         0.0   195700.000000         2      5   \n",
       "38788  2018-11-21           18         1.0   176700.000000         2     11   \n",
       "39324  2018-05-18           68         0.0   213539.000000         4      5   \n",
       "40729  2018-05-02            4         5.0   198000.000000         2      5   \n",
       "48962  2018-12-06            7         4.0   245000.000000         3     12   \n",
       "\n",
       "       year  \n",
       "1195   2018  \n",
       "2840   2018  \n",
       "4970   2018  \n",
       "5735   2018  \n",
       "9742   2018  \n",
       "13027  2018  \n",
       "18136  2018  \n",
       "33578  2018  \n",
       "36412  2018  \n",
       "38788  2018  \n",
       "39324  2018  \n",
       "40729  2018  \n",
       "48962  2018  "
      ]
     },
     "execution_count": 62,
     "metadata": {},
     "output_type": "execute_result"
    }
   ],
   "source": [
    "# revisamos los valores de 'mill_mean_year' mayores a 170,000 y buscamos las características de esos vehiculos\n",
    "data_vehiculos[data_vehiculos['mill_mean_year']>=170000]"
   ]
  },
  {
   "cell_type": "markdown",
   "metadata": {},
   "source": [
    "La tabla anterior nos revela que hay vehículos que tienen un alto kilometraje reportado en pocos años de uso, lo cual pueda deberse a un error en la captura del kilometraje o bien a que efectivamente han tenido mucho uso."
   ]
  },
  {
   "cell_type": "markdown",
   "metadata": {},
   "source": [
    "Hemos corregido los valores que parecían no coincidir con la mayoría de los demás valores en la variable `'price'`. Veamos nuevamente el gráfico `'boxplot'` para esta variable."
   ]
  },
  {
   "cell_type": "code",
   "execution_count": 63,
   "metadata": {},
   "outputs": [
    {
     "name": "stdout",
     "output_type": "stream",
     "text": [
      "Limite-inferior: -12752.50     Limite-superior: 34587.50\n"
     ]
    },
    {
     "data": {
      "image/png": "[encoded data removed]",
      "text/plain": [
       "<Figure size 720x360 with 1 Axes>"
      ]
     },
     "metadata": {
      "needs_background": "light"
     },
     "output_type": "display_data"
    }
   ],
   "source": [
    "Q1 = data_vehiculos['price'].quantile(0.25)\n",
    "Q3 = data_vehiculos['price'].quantile(0.75)\n",
    "    \n",
    "# rango intercuantílico\n",
    "IQR=Q3-Q1\n",
    "# bigote superior Q3+1.5*IQR\n",
    "# bigote inferior Q1-1.5*IQR\n",
    "print(f'Limite-inferior: {Q1-1.5*IQR:.2f}     Limite-superior: {Q3+1.5*IQR:.2f}')   \n",
    "f,ax=plt.subplots(figsize=(10,5))\n",
    "fig=sns.boxplot(x='price',data=data_vehiculos,palette='YlGnBu_r')\n",
    "fig.axvline(x=Q1-1.5*IQR,color='red')\n",
    "fig.axvline(x=Q3+1.5*IQR,color='red')\n",
    "plt.title(\"Valores teóricos de los limites de 'price'\")\n",
    "plt.show()"
   ]
  },
  {
   "cell_type": "markdown",
   "metadata": {},
   "source": [
    "Parece que aún hay valores atípicos con respecto a la variable `'price'`, enseguida vamos a proceder a trabajar con los rangos intercuantílicos."
   ]
  },
  {
   "cell_type": "markdown",
   "metadata": {},
   "source": [
    "[Volver a Contenidos](#inicio) <a id='analysis_outliers'></a>\n",
    "### Estudiar y tratar valores atípicos  \n",
    "Los valores que se consideran atípicos se encuentran fuera del intervalo [Q1-1.5 \\* *IQR*, Q3+1.5 \\* *IQR* ]. Q1 es el primer cuartil, Q3 es el tercer cuartil e *IQR* es el rango intercuantílico (Q3-Q1).  \n",
    "Vamos a buscar valores atípicos en las columnas `'price'`, `'years_used'` y `'mill_mean_year'`."
   ]
  },
  {
   "cell_type": "code",
   "execution_count": 64,
   "metadata": {},
   "outputs": [],
   "source": [
    "# buscamos los límites inferior y superior [Q1-1.5*IQR, Q3+1.5*IQR]\n",
    "# generamos una lista con las variables a observar su distribución\n",
    "variables=['price','years_used','mill_mean_year']\n",
    "\n",
    "# diccionario para almacenar los limites inferiores y superiores\n",
    "limites={'variable':[],'limite_inferior':[],'limite_superior':[]}\n",
    "for var in variables:\n",
    "    Q1 = data_vehiculos[var].quantile(0.25)\n",
    "    Q3 = data_vehiculos[var].quantile(0.75)\n",
    "    \n",
    "    # rango intercuantílico\n",
    "    IQR=Q3-Q1\n",
    "    limite_inferior=Q1-1.5*IQR\n",
    "    limite_superior=Q3+1.5*IQR\n",
    "    limites['variable'].append(var)\n",
    "    limites['limite_inferior'].append(limite_inferior)\n",
    "    limites['limite_superior'].append(limite_superior)"
   ]
  },
  {
   "cell_type": "code",
   "execution_count": 65,
   "metadata": {},
   "outputs": [
    {
     "data": {
      "text/plain": [
       "{'variable': ['price', 'years_used', 'mill_mean_year'],\n",
       " 'limite_inferior': [-12752.5, -8.0, -6529.411764705885],\n",
       " 'limite_superior': [34587.5, 24.0, 39117.64705882353]}"
      ]
     },
     "execution_count": 65,
     "metadata": {},
     "output_type": "execute_result"
    }
   ],
   "source": [
    "# Veamos que se hayan almacenado los limites\n",
    "limites"
   ]
  },
  {
   "cell_type": "code",
   "execution_count": 66,
   "metadata": {},
   "outputs": [],
   "source": [
    "# vamos a crear ahora un DataFrame que no incluya los valores atípicos\n",
    "\n",
    "# creamos un DataFrame sin valores atípicos en 'price'\n",
    "lim_inf=limites['limite_inferior'][0]\n",
    "lim_sup=limites['limite_superior'][0]\n",
    "data_vehiculos_not_outliers=data_vehiculos.query('@lim_inf<=price<=@lim_sup')"
   ]
  },
  {
   "cell_type": "code",
   "execution_count": 67,
   "metadata": {},
   "outputs": [],
   "source": [
    "# creamos un DataFrame sin valores atípicos en 'years_used'\n",
    "lim_inf=limites['limite_inferior'][1]\n",
    "lim_sup=limites['limite_superior'][1]\n",
    "data_vehiculos_not_outliers=data_vehiculos_not_outliers.query('@lim_inf<=years_used<=@lim_sup')"
   ]
  },
  {
   "cell_type": "code",
   "execution_count": 68,
   "metadata": {},
   "outputs": [
    {
     "data": {
      "text/html": [
       "<div>\n",
       "<style scoped>\n",
       "    .dataframe tbody tr th:only-of-type {\n",
       "        vertical-align: middle;\n",
       "    }\n",
       "\n",
       "    .dataframe tbody tr th {\n",
       "        vertical-align: top;\n",
       "    }\n",
       "\n",
       "    .dataframe thead th {\n",
       "        text-align: right;\n",
       "    }\n",
       "</style>\n",
       "<table border=\"1\" class=\"dataframe\">\n",
       "  <thead>\n",
       "    <tr style=\"text-align: right;\">\n",
       "      <th></th>\n",
       "      <th>price</th>\n",
       "      <th>model_year</th>\n",
       "      <th>condition</th>\n",
       "      <th>cylinders</th>\n",
       "      <th>odometer</th>\n",
       "      <th>is_4wd</th>\n",
       "      <th>days_listed</th>\n",
       "      <th>years_used</th>\n",
       "      <th>mill_mean_year</th>\n",
       "      <th>day_week</th>\n",
       "      <th>month</th>\n",
       "      <th>year</th>\n",
       "    </tr>\n",
       "  </thead>\n",
       "  <tbody>\n",
       "    <tr>\n",
       "      <th>count</th>\n",
       "      <td>39128.000000</td>\n",
       "      <td>39128.000000</td>\n",
       "      <td>39128.000000</td>\n",
       "      <td>39128.000000</td>\n",
       "      <td>39128.000000</td>\n",
       "      <td>39128.000000</td>\n",
       "      <td>39128.000000</td>\n",
       "      <td>39128.000000</td>\n",
       "      <td>39128.000000</td>\n",
       "      <td>39128.000000</td>\n",
       "      <td>39128.000000</td>\n",
       "      <td>39128.000000</td>\n",
       "    </tr>\n",
       "    <tr>\n",
       "      <th>mean</th>\n",
       "      <td>10869.737400</td>\n",
       "      <td>2009.661623</td>\n",
       "      <td>2.618432</td>\n",
       "      <td>6.071790</td>\n",
       "      <td>117761.935059</td>\n",
       "      <td>0.485790</td>\n",
       "      <td>39.610560</td>\n",
       "      <td>8.655234</td>\n",
       "      <td>15853.449443</td>\n",
       "      <td>3.002045</td>\n",
       "      <td>6.571049</td>\n",
       "      <td>2018.316857</td>\n",
       "    </tr>\n",
       "    <tr>\n",
       "      <th>std</th>\n",
       "      <td>7707.638706</td>\n",
       "      <td>5.054592</td>\n",
       "      <td>0.703986</td>\n",
       "      <td>1.648808</td>\n",
       "      <td>62696.065359</td>\n",
       "      <td>0.499804</td>\n",
       "      <td>28.139366</td>\n",
       "      <td>5.055940</td>\n",
       "      <td>7812.239357</td>\n",
       "      <td>1.995483</td>\n",
       "      <td>3.483057</td>\n",
       "      <td>0.465257</td>\n",
       "    </tr>\n",
       "    <tr>\n",
       "      <th>min</th>\n",
       "      <td>1.000000</td>\n",
       "      <td>1994.000000</td>\n",
       "      <td>0.000000</td>\n",
       "      <td>3.000000</td>\n",
       "      <td>0.000000</td>\n",
       "      <td>0.000000</td>\n",
       "      <td>0.000000</td>\n",
       "      <td>0.000000</td>\n",
       "      <td>0.000000</td>\n",
       "      <td>0.000000</td>\n",
       "      <td>1.000000</td>\n",
       "      <td>2018.000000</td>\n",
       "    </tr>\n",
       "    <tr>\n",
       "      <th>25%</th>\n",
       "      <td>4995.000000</td>\n",
       "      <td>2006.000000</td>\n",
       "      <td>2.000000</td>\n",
       "      <td>4.000000</td>\n",
       "      <td>74049.250000</td>\n",
       "      <td>0.000000</td>\n",
       "      <td>19.000000</td>\n",
       "      <td>5.000000</td>\n",
       "      <td>10526.308271</td>\n",
       "      <td>1.000000</td>\n",
       "      <td>3.000000</td>\n",
       "      <td>2018.000000</td>\n",
       "    </tr>\n",
       "    <tr>\n",
       "      <th>50%</th>\n",
       "      <td>8695.000000</td>\n",
       "      <td>2010.000000</td>\n",
       "      <td>3.000000</td>\n",
       "      <td>6.000000</td>\n",
       "      <td>115937.500000</td>\n",
       "      <td>0.000000</td>\n",
       "      <td>33.000000</td>\n",
       "      <td>8.000000</td>\n",
       "      <td>14676.697917</td>\n",
       "      <td>3.000000</td>\n",
       "      <td>7.000000</td>\n",
       "      <td>2018.000000</td>\n",
       "    </tr>\n",
       "    <tr>\n",
       "      <th>75%</th>\n",
       "      <td>15000.000000</td>\n",
       "      <td>2014.000000</td>\n",
       "      <td>3.000000</td>\n",
       "      <td>8.000000</td>\n",
       "      <td>156948.500000</td>\n",
       "      <td>1.000000</td>\n",
       "      <td>53.000000</td>\n",
       "      <td>12.000000</td>\n",
       "      <td>20206.727273</td>\n",
       "      <td>5.000000</td>\n",
       "      <td>10.000000</td>\n",
       "      <td>2019.000000</td>\n",
       "    </tr>\n",
       "    <tr>\n",
       "      <th>max</th>\n",
       "      <td>34555.000000</td>\n",
       "      <td>2019.000000</td>\n",
       "      <td>5.000000</td>\n",
       "      <td>12.000000</td>\n",
       "      <td>710000.000000</td>\n",
       "      <td>1.000000</td>\n",
       "      <td>271.000000</td>\n",
       "      <td>24.000000</td>\n",
       "      <td>39116.666667</td>\n",
       "      <td>6.000000</td>\n",
       "      <td>12.000000</td>\n",
       "      <td>2019.000000</td>\n",
       "    </tr>\n",
       "  </tbody>\n",
       "</table>\n",
       "</div>"
      ],
      "text/plain": [
       "              price    model_year     condition     cylinders       odometer  \\\n",
       "count  39128.000000  39128.000000  39128.000000  39128.000000   39128.000000   \n",
       "mean   10869.737400   2009.661623      2.618432      6.071790  117761.935059   \n",
       "std     7707.638706      5.054592      0.703986      1.648808   62696.065359   \n",
       "min        1.000000   1994.000000      0.000000      3.000000       0.000000   \n",
       "25%     4995.000000   2006.000000      2.000000      4.000000   74049.250000   \n",
       "50%     8695.000000   2010.000000      3.000000      6.000000  115937.500000   \n",
       "75%    15000.000000   2014.000000      3.000000      8.000000  156948.500000   \n",
       "max    34555.000000   2019.000000      5.000000     12.000000  710000.000000   \n",
       "\n",
       "             is_4wd   days_listed    years_used  mill_mean_year      day_week  \\\n",
       "count  39128.000000  39128.000000  39128.000000    39128.000000  39128.000000   \n",
       "mean       0.485790     39.610560      8.655234    15853.449443      3.002045   \n",
       "std        0.499804     28.139366      5.055940     7812.239357      1.995483   \n",
       "min        0.000000      0.000000      0.000000        0.000000      0.000000   \n",
       "25%        0.000000     19.000000      5.000000    10526.308271      1.000000   \n",
       "50%        0.000000     33.000000      8.000000    14676.697917      3.000000   \n",
       "75%        1.000000     53.000000     12.000000    20206.727273      5.000000   \n",
       "max        1.000000    271.000000     24.000000    39116.666667      6.000000   \n",
       "\n",
       "              month          year  \n",
       "count  39128.000000  39128.000000  \n",
       "mean       6.571049   2018.316857  \n",
       "std        3.483057      0.465257  \n",
       "min        1.000000   2018.000000  \n",
       "25%        3.000000   2018.000000  \n",
       "50%        7.000000   2018.000000  \n",
       "75%       10.000000   2019.000000  \n",
       "max       12.000000   2019.000000  "
      ]
     },
     "execution_count": 68,
     "metadata": {},
     "output_type": "execute_result"
    }
   ],
   "source": [
    "# creamos un DataFrame sin valores atípicos en 'mill_mean_years'\n",
    "lim_inf=limites['limite_inferior'][2]\n",
    "lim_sup=limites['limite_superior'][2]\n",
    "data_vehiculos_not_outliers=data_vehiculos_not_outliers.query('@lim_inf<=mill_mean_year<=@lim_sup')\n",
    "data_vehiculos_not_outliers.describe()"
   ]
  },
  {
   "cell_type": "code",
   "execution_count": 69,
   "metadata": {},
   "outputs": [
    {
     "data": {
      "text/plain": [
       "{'variable': ['price', 'years_used', 'mill_mean_year'],\n",
       " 'limite_inferior': [-12752.5, -8.0, -6529.411764705885],\n",
       " 'limite_superior': [34587.5, 24.0, 39117.64705882353]}"
      ]
     },
     "execution_count": 69,
     "metadata": {},
     "output_type": "execute_result"
    }
   ],
   "source": [
    "limites"
   ]
  },
  {
   "cell_type": "markdown",
   "metadata": {},
   "source": [
    "Podemos notar que este último conjunto de datos `'data_vehiculos_not_outliers'` cumple ya con las condiciones para no contener `'outliers'`en las variables `'price'`, `'years_used'` y `'mill_mean_year'` simultáneamente."
   ]
  },
  {
   "cell_type": "markdown",
   "metadata": {},
   "source": [
    "[Volver a Contenidos](#inicio)  <a id='analysis_without_ouliers'></a>\n",
    "### Estudiar parámetros principales sin valores atípicos"
   ]
  },
  {
   "cell_type": "markdown",
   "metadata": {},
   "source": [
    "Comparemos ahora las **distribuciones** para los datos **con `outliers` y sin `outliers`.**"
   ]
  },
  {
   "cell_type": "code",
   "execution_count": 70,
   "metadata": {},
   "outputs": [
    {
     "name": "stderr",
     "output_type": "stream",
     "text": [
      "/opt/conda/lib/python3.9/site-packages/seaborn/distributions.py:2557: FutureWarning: `distplot` is a deprecated function and will be removed in a future version. Please adapt your code to use either `displot` (a figure-level function with similar flexibility) or `histplot` (an axes-level function for histograms).\n",
      "  warnings.warn(msg, FutureWarning)\n",
      "/opt/conda/lib/python3.9/site-packages/seaborn/distributions.py:2557: FutureWarning: `distplot` is a deprecated function and will be removed in a future version. Please adapt your code to use either `displot` (a figure-level function with similar flexibility) or `histplot` (an axes-level function for histograms).\n",
      "  warnings.warn(msg, FutureWarning)\n"
     ]
    },
    {
     "data": {
      "image/png": "[encoded data removed]",
      "text/plain": [
       "<Figure size 576x432 with 1 Axes>"
      ]
     },
     "metadata": {
      "needs_background": "light"
     },
     "output_type": "display_data"
    }
   ],
   "source": [
    "# primeramente vamos a observar la distribución de la variable 'price'\n",
    "f,ax=plt.subplots(figsize=(8,6))\n",
    "\n",
    "# histograma sin 'outliers'\n",
    "fig=sns.distplot(data_vehiculos_not_outliers['price'],color='blue',label='sin outliers')\n",
    "plt.legend(loc='best')\n",
    "\n",
    "# histograma con 'outliers'\n",
    "fig2=sns.distplot(data_vehiculos['price'],color='red',label='con outliers')\n",
    "plt.xlim(-5000,60000)\n",
    "plt.legend(loc='best')\n",
    "plt.show()"
   ]
  },
  {
   "cell_type": "markdown",
   "metadata": {},
   "source": [
    "**Podemos observar que la variable `'price'` sigue teniendo una distribución similar en los dos conjuntos de datos creados, sin outliers y con outliers.** Hay una gran cantidad de vehiculos con precio entre 8000 y 9000. Existen también vehículos con precios muy cercanos a cero, quizás alguna mala captura o vehículos de salvamento."
   ]
  },
  {
   "cell_type": "code",
   "execution_count": 71,
   "metadata": {},
   "outputs": [
    {
     "name": "stderr",
     "output_type": "stream",
     "text": [
      "/opt/conda/lib/python3.9/site-packages/seaborn/distributions.py:2557: FutureWarning: `distplot` is a deprecated function and will be removed in a future version. Please adapt your code to use either `displot` (a figure-level function with similar flexibility) or `histplot` (an axes-level function for histograms).\n",
      "  warnings.warn(msg, FutureWarning)\n",
      "/opt/conda/lib/python3.9/site-packages/seaborn/distributions.py:2557: FutureWarning: `distplot` is a deprecated function and will be removed in a future version. Please adapt your code to use either `displot` (a figure-level function with similar flexibility) or `histplot` (an axes-level function for histograms).\n",
      "  warnings.warn(msg, FutureWarning)\n"
     ]
    },
    {
     "data": {
      "image/png": "[encoded data removed]",
      "text/plain": [
       "<Figure size 576x432 with 1 Axes>"
      ]
     },
     "metadata": {
      "needs_background": "light"
     },
     "output_type": "display_data"
    }
   ],
   "source": [
    "# observemos la distribución de la variable 'years_used'\n",
    "f,ax=plt.subplots(figsize=(8,6))\n",
    "\n",
    "# histograma sin 'outliers'\n",
    "fig=sns.distplot(data_vehiculos_not_outliers['years_used'],color='blue',label='sin outliers')\n",
    "plt.legend(loc='best')\n",
    "\n",
    "# histograma con 'outliers'\n",
    "fig2=sns.distplot(data_vehiculos['years_used'],color='red',label='con outliers')\n",
    "plt.xlim(-5,40)\n",
    "plt.legend(loc='best')\n",
    "plt.show()"
   ]
  },
  {
   "cell_type": "markdown",
   "metadata": {},
   "source": [
    "**Podemos observar que la variable `'years_used'` sigue teniendo una distribución similar en los dos conjuntos de datos creados, sin outliers y con outliers.** Hay una gran cantidad de vehiculos con años de uso entre 5 y 6 años. También tenemos otro pico de valores en los 11 años."
   ]
  },
  {
   "cell_type": "code",
   "execution_count": 72,
   "metadata": {},
   "outputs": [
    {
     "name": "stderr",
     "output_type": "stream",
     "text": [
      "/opt/conda/lib/python3.9/site-packages/seaborn/distributions.py:2557: FutureWarning: `distplot` is a deprecated function and will be removed in a future version. Please adapt your code to use either `displot` (a figure-level function with similar flexibility) or `histplot` (an axes-level function for histograms).\n",
      "  warnings.warn(msg, FutureWarning)\n",
      "/opt/conda/lib/python3.9/site-packages/seaborn/distributions.py:2557: FutureWarning: `distplot` is a deprecated function and will be removed in a future version. Please adapt your code to use either `displot` (a figure-level function with similar flexibility) or `histplot` (an axes-level function for histograms).\n",
      "  warnings.warn(msg, FutureWarning)\n"
     ]
    },
    {
     "data": {
      "image/png": "[encoded data removed]",
      "text/plain": [
       "<Figure size 576x432 with 1 Axes>"
      ]
     },
     "metadata": {
      "needs_background": "light"
     },
     "output_type": "display_data"
    }
   ],
   "source": [
    "# observemos ahora la distribución de la variable 'mill_mean_year'\n",
    "f,ax=plt.subplots(figsize=(8,6))\n",
    "\n",
    "# histograma sin 'outliers'\n",
    "fig=sns.distplot(data_vehiculos_not_outliers['mill_mean_year'],color='blue',label='sin outliers')\n",
    "plt.legend(loc='best')\n",
    "\n",
    "# histograma con 'outliers'\n",
    "fig2=sns.distplot(data_vehiculos['mill_mean_year'],color='red',label='con outliers')\n",
    "plt.xlim(-10000,60000)\n",
    "plt.legend(loc='best')\n",
    "plt.show()"
   ]
  },
  {
   "cell_type": "markdown",
   "metadata": {},
   "source": [
    "**Podemos observar que la variable `'mill_mean_year'` sigue teniendo una distribución similar en los dos conjuntos de datos creados, sin outliers y con outliers.** En el conjunto de datos sin outliers tenemos un pico pequeño cercano al cero, lo que nos puede indicar que se están ofertando vehículos con poco kilometraje, posiblemente nuevos o seminuevos."
   ]
  },
  {
   "cell_type": "markdown",
   "metadata": {},
   "source": [
    "[Volver a Contenidos](#inicio) <a id='analysis_announcements'></a>\n",
    "### Periodo de colocación de los anuncios    \n",
    "Vamos a estudiar ahora la cantidad de días que los anuncios fueron mostrados. Trataremos de determinar que variable influye en la cantidad de días que el anuncio fue mostrado."
   ]
  },
  {
   "cell_type": "code",
   "execution_count": 73,
   "metadata": {},
   "outputs": [
    {
     "name": "stdout",
     "output_type": "stream",
     "text": [
      "Promedio que dura exhibido un anuncio es:39.61    La mediana es:33.00\n"
     ]
    }
   ],
   "source": [
    "# obtenemos la media de 'days_listed'\n",
    "media_listed=data_vehiculos_not_outliers['days_listed'].mean()\n",
    "\n",
    "#obtenemos la mediana de 'days_listed'\n",
    "mediana_listed=data_vehiculos_not_outliers['days_listed'].median()\n",
    "print(f'Promedio que dura exhibido un anuncio es:{media_listed:.2f}    La mediana es:{mediana_listed:.2f}')"
   ]
  },
  {
   "cell_type": "code",
   "execution_count": 74,
   "metadata": {},
   "outputs": [
    {
     "data": {
      "text/html": [
       "<div>\n",
       "<style scoped>\n",
       "    .dataframe tbody tr th:only-of-type {\n",
       "        vertical-align: middle;\n",
       "    }\n",
       "\n",
       "    .dataframe tbody tr th {\n",
       "        vertical-align: top;\n",
       "    }\n",
       "\n",
       "    .dataframe thead th {\n",
       "        text-align: right;\n",
       "    }\n",
       "</style>\n",
       "<table border=\"1\" class=\"dataframe\">\n",
       "  <thead>\n",
       "    <tr style=\"text-align: right;\">\n",
       "      <th></th>\n",
       "      <th>price</th>\n",
       "      <th>model_year</th>\n",
       "      <th>model</th>\n",
       "      <th>condition</th>\n",
       "      <th>cylinders</th>\n",
       "      <th>fuel</th>\n",
       "      <th>odometer</th>\n",
       "      <th>transmission</th>\n",
       "      <th>type</th>\n",
       "      <th>paint_color</th>\n",
       "      <th>is_4wd</th>\n",
       "      <th>date_posted</th>\n",
       "      <th>days_listed</th>\n",
       "      <th>years_used</th>\n",
       "      <th>mill_mean_year</th>\n",
       "      <th>day_week</th>\n",
       "      <th>month</th>\n",
       "      <th>year</th>\n",
       "    </tr>\n",
       "  </thead>\n",
       "  <tbody>\n",
       "    <tr>\n",
       "      <th>0</th>\n",
       "      <td>9400</td>\n",
       "      <td>2011.0</td>\n",
       "      <td>bmw x5</td>\n",
       "      <td>2</td>\n",
       "      <td>6.0</td>\n",
       "      <td>gas</td>\n",
       "      <td>145000.0</td>\n",
       "      <td>automatic</td>\n",
       "      <td>suv</td>\n",
       "      <td>unknown</td>\n",
       "      <td>1.0</td>\n",
       "      <td>2018-06-23</td>\n",
       "      <td>19</td>\n",
       "      <td>7.0</td>\n",
       "      <td>20714.285714</td>\n",
       "      <td>5</td>\n",
       "      <td>6</td>\n",
       "      <td>2018</td>\n",
       "    </tr>\n",
       "  </tbody>\n",
       "</table>\n",
       "</div>"
      ],
      "text/plain": [
       "   price  model_year   model  condition  cylinders fuel  odometer  \\\n",
       "0   9400      2011.0  bmw x5          2        6.0  gas  145000.0   \n",
       "\n",
       "  transmission type paint_color  is_4wd date_posted  days_listed  years_used  \\\n",
       "0    automatic  suv     unknown     1.0  2018-06-23           19         7.0   \n",
       "\n",
       "   mill_mean_year  day_week  month  year  \n",
       "0    20714.285714         5      6  2018  "
      ]
     },
     "execution_count": 74,
     "metadata": {},
     "output_type": "execute_result"
    }
   ],
   "source": [
    "data_vehiculos_not_outliers.head(1)"
   ]
  },
  {
   "cell_type": "code",
   "execution_count": 75,
   "metadata": {},
   "outputs": [
    {
     "data": {
      "image/png": "[encoded data removed]",
      "text/plain": [
       "<Figure size 432x288 with 1 Axes>"
      ]
     },
     "metadata": {
      "needs_background": "light"
     },
     "output_type": "display_data"
    }
   ],
   "source": [
    "# veamos el comportamiento de 'days_listed' respecto a 'price'\n",
    "data_vehiculos_not_outliers.plot(x='price',y='days_listed',kind='scatter')\n",
    "plt.show()"
   ]
  },
  {
   "cell_type": "markdown",
   "metadata": {},
   "source": [
    "La gráfica anterior nos sugiere que no parece haber relación entre el precio y los días que dura un anuncio publicado."
   ]
  },
  {
   "cell_type": "code",
   "execution_count": 76,
   "metadata": {},
   "outputs": [
    {
     "data": {
      "image/png": "[encoded data removed]",
      "text/plain": [
       "<Figure size 432x288 with 1 Axes>"
      ]
     },
     "metadata": {
      "needs_background": "light"
     },
     "output_type": "display_data"
    }
   ],
   "source": [
    "# veamos el comportamiento de 'days_listed' respecto a 'odometer'\n",
    "data_vehiculos_not_outliers.plot(x='odometer',y='days_listed',kind='scatter')\n",
    "plt.show()"
   ]
  },
  {
   "cell_type": "markdown",
   "metadata": {},
   "source": [
    "La gráfica anterior nos sugiere que no parece haber relación entre el kilometraje y los días que dura un anuncio publicado. A continuación vamos a estudiar el tiempo que dura exhibido un anuncio de venta."
   ]
  },
  {
   "cell_type": "code",
   "execution_count": 77,
   "metadata": {},
   "outputs": [
    {
     "name": "stdout",
     "output_type": "stream",
     "text": [
      "Pocos días: 7.0 \t Demasiados días: 93.0\n",
      "\n"
     ]
    },
    {
     "data": {
      "text/html": [
       "<div>\n",
       "<style scoped>\n",
       "    .dataframe tbody tr th:only-of-type {\n",
       "        vertical-align: middle;\n",
       "    }\n",
       "\n",
       "    .dataframe tbody tr th {\n",
       "        vertical-align: top;\n",
       "    }\n",
       "\n",
       "    .dataframe thead th {\n",
       "        text-align: right;\n",
       "    }\n",
       "</style>\n",
       "<table border=\"1\" class=\"dataframe\">\n",
       "  <thead>\n",
       "    <tr style=\"text-align: right;\">\n",
       "      <th></th>\n",
       "      <th>price</th>\n",
       "      <th>model_year</th>\n",
       "      <th>model</th>\n",
       "      <th>condition</th>\n",
       "      <th>cylinders</th>\n",
       "      <th>fuel</th>\n",
       "      <th>odometer</th>\n",
       "      <th>transmission</th>\n",
       "      <th>type</th>\n",
       "      <th>paint_color</th>\n",
       "      <th>is_4wd</th>\n",
       "      <th>date_posted</th>\n",
       "      <th>days_listed</th>\n",
       "      <th>years_used</th>\n",
       "      <th>mill_mean_year</th>\n",
       "      <th>day_week</th>\n",
       "      <th>month</th>\n",
       "      <th>year</th>\n",
       "      <th>few_days</th>\n",
       "      <th>too_days</th>\n",
       "    </tr>\n",
       "  </thead>\n",
       "  <tbody>\n",
       "    <tr>\n",
       "      <th>32</th>\n",
       "      <td>9499</td>\n",
       "      <td>2015.0</td>\n",
       "      <td>nissan altima</td>\n",
       "      <td>4</td>\n",
       "      <td>4.0</td>\n",
       "      <td>gas</td>\n",
       "      <td>51848.0</td>\n",
       "      <td>automatic</td>\n",
       "      <td>sedan</td>\n",
       "      <td>grey</td>\n",
       "      <td>0.0</td>\n",
       "      <td>2018-11-12</td>\n",
       "      <td>7</td>\n",
       "      <td>3.0</td>\n",
       "      <td>17282.666667</td>\n",
       "      <td>0</td>\n",
       "      <td>11</td>\n",
       "      <td>2018</td>\n",
       "      <td>True</td>\n",
       "      <td>False</td>\n",
       "    </tr>\n",
       "    <tr>\n",
       "      <th>39</th>\n",
       "      <td>8000</td>\n",
       "      <td>2009.0</td>\n",
       "      <td>ford f-150</td>\n",
       "      <td>2</td>\n",
       "      <td>8.0</td>\n",
       "      <td>gas</td>\n",
       "      <td>234000.0</td>\n",
       "      <td>automatic</td>\n",
       "      <td>truck</td>\n",
       "      <td>black</td>\n",
       "      <td>1.0</td>\n",
       "      <td>2019-03-31</td>\n",
       "      <td>1</td>\n",
       "      <td>10.0</td>\n",
       "      <td>23400.000000</td>\n",
       "      <td>6</td>\n",
       "      <td>3</td>\n",
       "      <td>2019</td>\n",
       "      <td>True</td>\n",
       "      <td>False</td>\n",
       "    </tr>\n",
       "    <tr>\n",
       "      <th>59</th>\n",
       "      <td>5200</td>\n",
       "      <td>2006.0</td>\n",
       "      <td>toyota highlander</td>\n",
       "      <td>2</td>\n",
       "      <td>6.0</td>\n",
       "      <td>gas</td>\n",
       "      <td>186000.0</td>\n",
       "      <td>automatic</td>\n",
       "      <td>suv</td>\n",
       "      <td>green</td>\n",
       "      <td>0.0</td>\n",
       "      <td>2018-12-20</td>\n",
       "      <td>2</td>\n",
       "      <td>12.0</td>\n",
       "      <td>15500.000000</td>\n",
       "      <td>3</td>\n",
       "      <td>12</td>\n",
       "      <td>2018</td>\n",
       "      <td>True</td>\n",
       "      <td>False</td>\n",
       "    </tr>\n",
       "    <tr>\n",
       "      <th>75</th>\n",
       "      <td>6950</td>\n",
       "      <td>2005.0</td>\n",
       "      <td>chevrolet tahoe</td>\n",
       "      <td>3</td>\n",
       "      <td>8.0</td>\n",
       "      <td>gas</td>\n",
       "      <td>186021.0</td>\n",
       "      <td>automatic</td>\n",
       "      <td>suv</td>\n",
       "      <td>unknown</td>\n",
       "      <td>1.0</td>\n",
       "      <td>2018-10-30</td>\n",
       "      <td>3</td>\n",
       "      <td>13.0</td>\n",
       "      <td>14309.307692</td>\n",
       "      <td>1</td>\n",
       "      <td>10</td>\n",
       "      <td>2018</td>\n",
       "      <td>True</td>\n",
       "      <td>False</td>\n",
       "    </tr>\n",
       "    <tr>\n",
       "      <th>120</th>\n",
       "      <td>33900</td>\n",
       "      <td>2018.0</td>\n",
       "      <td>chevrolet silverado 1500 crew</td>\n",
       "      <td>2</td>\n",
       "      <td>8.0</td>\n",
       "      <td>gas</td>\n",
       "      <td>11315.0</td>\n",
       "      <td>other</td>\n",
       "      <td>pickup</td>\n",
       "      <td>white</td>\n",
       "      <td>1.0</td>\n",
       "      <td>2019-03-01</td>\n",
       "      <td>2</td>\n",
       "      <td>1.0</td>\n",
       "      <td>11315.000000</td>\n",
       "      <td>4</td>\n",
       "      <td>3</td>\n",
       "      <td>2019</td>\n",
       "      <td>True</td>\n",
       "      <td>False</td>\n",
       "    </tr>\n",
       "  </tbody>\n",
       "</table>\n",
       "</div>"
      ],
      "text/plain": [
       "     price  model_year                          model  condition  cylinders  \\\n",
       "32    9499      2015.0                  nissan altima          4        4.0   \n",
       "39    8000      2009.0                     ford f-150          2        8.0   \n",
       "59    5200      2006.0              toyota highlander          2        6.0   \n",
       "75    6950      2005.0                chevrolet tahoe          3        8.0   \n",
       "120  33900      2018.0  chevrolet silverado 1500 crew          2        8.0   \n",
       "\n",
       "    fuel  odometer transmission    type paint_color  is_4wd date_posted  \\\n",
       "32   gas   51848.0    automatic   sedan        grey     0.0  2018-11-12   \n",
       "39   gas  234000.0    automatic   truck       black     1.0  2019-03-31   \n",
       "59   gas  186000.0    automatic     suv       green     0.0  2018-12-20   \n",
       "75   gas  186021.0    automatic     suv     unknown     1.0  2018-10-30   \n",
       "120  gas   11315.0        other  pickup       white     1.0  2019-03-01   \n",
       "\n",
       "     days_listed  years_used  mill_mean_year  day_week  month  year  few_days  \\\n",
       "32             7         3.0    17282.666667         0     11  2018      True   \n",
       "39             1        10.0    23400.000000         6      3  2019      True   \n",
       "59             2        12.0    15500.000000         3     12  2018      True   \n",
       "75             3        13.0    14309.307692         1     10  2018      True   \n",
       "120            2         1.0    11315.000000         4      3  2019      True   \n",
       "\n",
       "     too_days  \n",
       "32      False  \n",
       "39      False  \n",
       "59      False  \n",
       "75      False  \n",
       "120     False  "
      ]
     },
     "execution_count": 77,
     "metadata": {},
     "output_type": "execute_result"
    }
   ],
   "source": [
    "# buscamos los percentiles en 'days_listed' para decidir el tiempo de duración de un anuncio\n",
    "P_05 = data_vehiculos_not_outliers['days_listed'].quantile(0.05) # poca duración\n",
    "P_95= data_vehiculos_not_outliers['days_listed'].quantile(0.95)  # mucha duración\n",
    "print(f'Pocos días: {P_05} \\t Demasiados días: {P_95}')\n",
    "print()\n",
    "# con estos valores vamos a crear dos columnas que nos digan si un anuncio duró poco o mucho tiempo exhibido\n",
    "data_vehiculos_not_outliers['few_days']=data_vehiculos_not_outliers['days_listed']<=P_05\n",
    "data_vehiculos_not_outliers['too_days']=data_vehiculos_not_outliers['days_listed']>=P_95\n",
    "data_vehiculos_not_outliers[data_vehiculos_not_outliers['few_days']].head()"
   ]
  },
  {
   "cell_type": "code",
   "execution_count": 78,
   "metadata": {},
   "outputs": [
    {
     "data": {
      "text/html": [
       "<style  type=\"text/css\" >\n",
       "#T_29618_row1_col0,#T_29618_row3_col1,#T_29618_row3_col2{\n",
       "            background-color:  yellow;\n",
       "        }</style><table id=\"T_29618_\" ><thead>    <tr>        <th class=\"blank level0\" ></th>        <th class=\"col_heading level0 col0\" >days_listed</th>        <th class=\"col_heading level0 col1\" >few_days</th>        <th class=\"col_heading level0 col2\" >too_days</th>    </tr>    <tr>        <th class=\"index_name level0\" >fuel</th>        <th class=\"blank\" ></th>        <th class=\"blank\" ></th>        <th class=\"blank\" ></th>    </tr></thead><tbody>\n",
       "                <tr>\n",
       "                        <th id=\"T_29618_level0_row0\" class=\"row_heading level0 row0\" >diesel</th>\n",
       "                        <td id=\"T_29618_row0_col0\" class=\"data row0 col0\" >39</td>\n",
       "                        <td id=\"T_29618_row0_col1\" class=\"data row0 col1\" >6.0%</td>\n",
       "                        <td id=\"T_29618_row0_col2\" class=\"data row0 col2\" >4.9%</td>\n",
       "            </tr>\n",
       "            <tr>\n",
       "                        <th id=\"T_29618_level0_row1\" class=\"row_heading level0 row1\" >electric</th>\n",
       "                        <td id=\"T_29618_row1_col0\" class=\"data row1 col0\" >45</td>\n",
       "                        <td id=\"T_29618_row1_col1\" class=\"data row1 col1\" >0.0%</td>\n",
       "                        <td id=\"T_29618_row1_col2\" class=\"data row1 col2\" >0.0%</td>\n",
       "            </tr>\n",
       "            <tr>\n",
       "                        <th id=\"T_29618_level0_row2\" class=\"row_heading level0 row2\" >gas</th>\n",
       "                        <td id=\"T_29618_row2_col0\" class=\"data row2 col0\" >40</td>\n",
       "                        <td id=\"T_29618_row2_col1\" class=\"data row2 col1\" >6.0%</td>\n",
       "                        <td id=\"T_29618_row2_col2\" class=\"data row2 col2\" >5.2%</td>\n",
       "            </tr>\n",
       "            <tr>\n",
       "                        <th id=\"T_29618_level0_row3\" class=\"row_heading level0 row3\" >hybrid</th>\n",
       "                        <td id=\"T_29618_row3_col0\" class=\"data row3 col0\" >37</td>\n",
       "                        <td id=\"T_29618_row3_col1\" class=\"data row3 col1\" >9.6%</td>\n",
       "                        <td id=\"T_29618_row3_col2\" class=\"data row3 col2\" >5.4%</td>\n",
       "            </tr>\n",
       "            <tr>\n",
       "                        <th id=\"T_29618_level0_row4\" class=\"row_heading level0 row4\" >other</th>\n",
       "                        <td id=\"T_29618_row4_col0\" class=\"data row4 col0\" >37</td>\n",
       "                        <td id=\"T_29618_row4_col1\" class=\"data row4 col1\" >7.5%</td>\n",
       "                        <td id=\"T_29618_row4_col2\" class=\"data row4 col2\" >3.8%</td>\n",
       "            </tr>\n",
       "    </tbody></table>"
      ],
      "text/plain": [
       "<pandas.io.formats.style.Styler at 0x7fe6577938e0>"
      ]
     },
     "execution_count": 78,
     "metadata": {},
     "output_type": "execute_result"
    }
   ],
   "source": [
    "# creamos ahora una pivot_table que nos muestre el porcentaje de la duración de un anuncio agrupando por 'fuel'\n",
    "tabla_f=data_vehiculos_not_outliers.pivot_table(index='fuel',\n",
    "        values=['days_listed','few_days','too_days']).style.format({'days_listed':'{:.0f}','few_days':'{:.1%}','too_days':'{:.1%}'}).highlight_max()\n",
    "tabla_f"
   ]
  },
  {
   "cell_type": "markdown",
   "metadata": {},
   "source": [
    "La tabla anterior nos muestra que de los anuncios totales, casi un 10% de los anuncios duran menos de siete días y casi 6% duran más de noventa y tres días, para los vehículos híbridos. No hay anuncios para los vehículos eléctricos que duren menos de siete días ó más de noventa y tres días. En promedio, los anuncios para los vehículos eléctricos duran 45 días exhibidos."
   ]
  },
  {
   "cell_type": "code",
   "execution_count": 79,
   "metadata": {
    "scrolled": true
   },
   "outputs": [
    {
     "data": {
      "text/html": [
       "<style  type=\"text/css\" >\n",
       "#T_8e505_row0_col0,#T_8e505_row0_col2,#T_8e505_row4_col1{\n",
       "            background-color:  yellow;\n",
       "        }</style><table id=\"T_8e505_\" ><thead>    <tr>        <th class=\"blank level0\" ></th>        <th class=\"col_heading level0 col0\" >days_listed</th>        <th class=\"col_heading level0 col1\" >few_days</th>        <th class=\"col_heading level0 col2\" >too_days</th>    </tr>    <tr>        <th class=\"index_name level0\" >cylinders</th>        <th class=\"blank\" ></th>        <th class=\"blank\" ></th>        <th class=\"blank\" ></th>    </tr></thead><tbody>\n",
       "                <tr>\n",
       "                        <th id=\"T_8e505_level0_row0\" class=\"row_heading level0 row0\" >3.0</th>\n",
       "                        <td id=\"T_8e505_row0_col0\" class=\"data row0 col0\" >45</td>\n",
       "                        <td id=\"T_8e505_row0_col1\" class=\"data row0 col1\" >3.7%</td>\n",
       "                        <td id=\"T_8e505_row0_col2\" class=\"data row0 col2\" >11.1%</td>\n",
       "            </tr>\n",
       "            <tr>\n",
       "                        <th id=\"T_8e505_level0_row1\" class=\"row_heading level0 row1\" >4.0</th>\n",
       "                        <td id=\"T_8e505_row1_col0\" class=\"data row1 col0\" >40</td>\n",
       "                        <td id=\"T_8e505_row1_col1\" class=\"data row1 col1\" >6.1%</td>\n",
       "                        <td id=\"T_8e505_row1_col2\" class=\"data row1 col2\" >5.2%</td>\n",
       "            </tr>\n",
       "            <tr>\n",
       "                        <th id=\"T_8e505_level0_row2\" class=\"row_heading level0 row2\" >5.0</th>\n",
       "                        <td id=\"T_8e505_row2_col0\" class=\"data row2 col0\" >39</td>\n",
       "                        <td id=\"T_8e505_row2_col1\" class=\"data row2 col1\" >5.7%</td>\n",
       "                        <td id=\"T_8e505_row2_col2\" class=\"data row2 col2\" >5.3%</td>\n",
       "            </tr>\n",
       "            <tr>\n",
       "                        <th id=\"T_8e505_level0_row3\" class=\"row_heading level0 row3\" >6.0</th>\n",
       "                        <td id=\"T_8e505_row3_col0\" class=\"data row3 col0\" >39</td>\n",
       "                        <td id=\"T_8e505_row3_col1\" class=\"data row3 col1\" >6.0%</td>\n",
       "                        <td id=\"T_8e505_row3_col2\" class=\"data row3 col2\" >5.0%</td>\n",
       "            </tr>\n",
       "            <tr>\n",
       "                        <th id=\"T_8e505_level0_row4\" class=\"row_heading level0 row4\" >8.0</th>\n",
       "                        <td id=\"T_8e505_row4_col0\" class=\"data row4 col0\" >40</td>\n",
       "                        <td id=\"T_8e505_row4_col1\" class=\"data row4 col1\" >6.1%</td>\n",
       "                        <td id=\"T_8e505_row4_col2\" class=\"data row4 col2\" >5.4%</td>\n",
       "            </tr>\n",
       "            <tr>\n",
       "                        <th id=\"T_8e505_level0_row5\" class=\"row_heading level0 row5\" >10.0</th>\n",
       "                        <td id=\"T_8e505_row5_col0\" class=\"data row5 col0\" >41</td>\n",
       "                        <td id=\"T_8e505_row5_col1\" class=\"data row5 col1\" >6.0%</td>\n",
       "                        <td id=\"T_8e505_row5_col2\" class=\"data row5 col2\" >4.9%</td>\n",
       "            </tr>\n",
       "            <tr>\n",
       "                        <th id=\"T_8e505_level0_row6\" class=\"row_heading level0 row6\" >12.0</th>\n",
       "                        <td id=\"T_8e505_row6_col0\" class=\"data row6 col0\" >22</td>\n",
       "                        <td id=\"T_8e505_row6_col1\" class=\"data row6 col1\" >0.0%</td>\n",
       "                        <td id=\"T_8e505_row6_col2\" class=\"data row6 col2\" >0.0%</td>\n",
       "            </tr>\n",
       "    </tbody></table>"
      ],
      "text/plain": [
       "<pandas.io.formats.style.Styler at 0x7fe657998520>"
      ]
     },
     "execution_count": 79,
     "metadata": {},
     "output_type": "execute_result"
    }
   ],
   "source": [
    "# creamos ahora una pivot_table que nos muestre el porcentaje de la duración de un anuncio agrupando por 'cylinders'\n",
    "tabla_c=data_vehiculos_not_outliers.pivot_table(index='cylinders',\n",
    "        values=['days_listed','few_days','too_days']).style.format({'days_listed':'{:.0f}','few_days':'{:.1%}','too_days':'{:.1%}'}).highlight_max()\n",
    "tabla_c"
   ]
  },
  {
   "cell_type": "markdown",
   "metadata": {},
   "source": [
    "De la tabla anterior podemos observar que de los anuncios totales, poco más del 11% de los anuncios duran más de noventa y siete días, para los vehículos con tres cilindros. Mientras que para vehículos con cilindraje de cuatro, cinco, seis, ocho y diez, casi un 6% de los anuncios duran menos de siete días. Para los vehículos de tres cilindros, el promedio que dura exhibido un anuncio es de 45 días."
   ]
  },
  {
   "cell_type": "code",
   "execution_count": 80,
   "metadata": {},
   "outputs": [
    {
     "data": {
      "text/html": [
       "<style  type=\"text/css\" >\n",
       "#T_1a734_row0_col0,#T_1a734_row0_col2,#T_1a734_row4_col1{\n",
       "            background-color:  yellow;\n",
       "        }</style><table id=\"T_1a734_\" ><thead>    <tr>        <th class=\"blank level0\" ></th>        <th class=\"col_heading level0 col0\" >days_listed</th>        <th class=\"col_heading level0 col1\" >few_days</th>        <th class=\"col_heading level0 col2\" >too_days</th>    </tr>    <tr>        <th class=\"index_name level0\" >condition</th>        <th class=\"blank\" ></th>        <th class=\"blank\" ></th>        <th class=\"blank\" ></th>    </tr></thead><tbody>\n",
       "                <tr>\n",
       "                        <th id=\"T_1a734_level0_row0\" class=\"row_heading level0 row0\" >0</th>\n",
       "                        <td id=\"T_1a734_row0_col0\" class=\"data row0 col0\" >41</td>\n",
       "                        <td id=\"T_1a734_row0_col1\" class=\"data row0 col1\" >5.6%</td>\n",
       "                        <td id=\"T_1a734_row0_col2\" class=\"data row0 col2\" >7.9%</td>\n",
       "            </tr>\n",
       "            <tr>\n",
       "                        <th id=\"T_1a734_level0_row1\" class=\"row_heading level0 row1\" >1</th>\n",
       "                        <td id=\"T_1a734_row1_col0\" class=\"data row1 col0\" >39</td>\n",
       "                        <td id=\"T_1a734_row1_col1\" class=\"data row1 col1\" >6.0%</td>\n",
       "                        <td id=\"T_1a734_row1_col2\" class=\"data row1 col2\" >5.0%</td>\n",
       "            </tr>\n",
       "            <tr>\n",
       "                        <th id=\"T_1a734_level0_row2\" class=\"row_heading level0 row2\" >2</th>\n",
       "                        <td id=\"T_1a734_row2_col0\" class=\"data row2 col0\" >40</td>\n",
       "                        <td id=\"T_1a734_row2_col1\" class=\"data row2 col1\" >6.0%</td>\n",
       "                        <td id=\"T_1a734_row2_col2\" class=\"data row2 col2\" >5.1%</td>\n",
       "            </tr>\n",
       "            <tr>\n",
       "                        <th id=\"T_1a734_level0_row3\" class=\"row_heading level0 row3\" >3</th>\n",
       "                        <td id=\"T_1a734_row3_col0\" class=\"data row3 col0\" >40</td>\n",
       "                        <td id=\"T_1a734_row3_col1\" class=\"data row3 col1\" >5.9%</td>\n",
       "                        <td id=\"T_1a734_row3_col2\" class=\"data row3 col2\" >5.3%</td>\n",
       "            </tr>\n",
       "            <tr>\n",
       "                        <th id=\"T_1a734_level0_row4\" class=\"row_heading level0 row4\" >4</th>\n",
       "                        <td id=\"T_1a734_row4_col0\" class=\"data row4 col0\" >39</td>\n",
       "                        <td id=\"T_1a734_row4_col1\" class=\"data row4 col1\" >7.4%</td>\n",
       "                        <td id=\"T_1a734_row4_col2\" class=\"data row4 col2\" >5.0%</td>\n",
       "            </tr>\n",
       "            <tr>\n",
       "                        <th id=\"T_1a734_level0_row5\" class=\"row_heading level0 row5\" >5</th>\n",
       "                        <td id=\"T_1a734_row5_col0\" class=\"data row5 col0\" >37</td>\n",
       "                        <td id=\"T_1a734_row5_col1\" class=\"data row5 col1\" >6.5%</td>\n",
       "                        <td id=\"T_1a734_row5_col2\" class=\"data row5 col2\" >3.9%</td>\n",
       "            </tr>\n",
       "    </tbody></table>"
      ],
      "text/plain": [
       "<pandas.io.formats.style.Styler at 0x7fe657aa0d60>"
      ]
     },
     "execution_count": 80,
     "metadata": {},
     "output_type": "execute_result"
    }
   ],
   "source": [
    "# creamos ahora una pivot_table que nos muestre el porcentaje de la duración de un anuncio agrupando por 'condition'\n",
    "tabla_cond=data_vehiculos_not_outliers.pivot_table(index='condition',\n",
    "        values=['days_listed','few_days','too_days']).style.format({'days_listed':'{:.0f}','few_days':'{:.1%}','too_days':'{:.1%}'}).highlight_max()\n",
    "tabla_cond"
   ]
  },
  {
   "cell_type": "markdown",
   "metadata": {},
   "source": [
    "De la tabla anterior observamos que de los anuncios totales, hay un poco más del 6% de anuncios que duran menos de siete días para los vehículos nuevos (condition=5) y, un poco más del 7% de anuncios que duran menos de siete días para los vehículos semi-nuevos (condition=4). Para los vehículos de salvamento (condition=0), hay casi un 8% de anuncios que duran más de noventa y siete días. Para los vehículos nuevos, el promedio que dura un anuncio exhibido es de 37 días."
   ]
  },
  {
   "cell_type": "markdown",
   "metadata": {},
   "source": [
    "[Volver a Contenidos](#inicio) <a id='analysis_vehicle'></a>\n",
    "### Precio promedio por cada tipo de vehículo"
   ]
  },
  {
   "cell_type": "markdown",
   "metadata": {},
   "source": [
    "Analicemos ahora el número de anuncios y el precio promedio para cada tipo de vehículo. Trataremos de identificar aquellos tipos de vehículos con el mayor número de anuncios."
   ]
  },
  {
   "cell_type": "code",
   "execution_count": 81,
   "metadata": {},
   "outputs": [
    {
     "data": {
      "text/html": [
       "<style  type=\"text/css\" >\n",
       "#T_bd055_row0_col1,#T_bd055_row12_col0{\n",
       "            background-color:  yellow;\n",
       "        }</style><table id=\"T_bd055_\" ><thead>    <tr>        <th class=\"blank level0\" ></th>        <th class=\"col_heading level0 col0\" >mean</th>        <th class=\"col_heading level0 col1\" >count</th>    </tr>    <tr>        <th class=\"blank level1\" ></th>        <th class=\"col_heading level1 col0\" >price</th>        <th class=\"col_heading level1 col1\" >price</th>    </tr>    <tr>        <th class=\"index_name level0\" >type</th>        <th class=\"blank\" ></th>        <th class=\"blank\" ></th>    </tr></thead><tbody>\n",
       "                <tr>\n",
       "                        <th id=\"T_bd055_level0_row0\" class=\"row_heading level0 row0\" >suv</th>\n",
       "                        <td id=\"T_bd055_row0_col0\" class=\"data row0 col0\" >10193.55</td>\n",
       "                        <td id=\"T_bd055_row0_col1\" class=\"data row0 col1\" >9669</td>\n",
       "            </tr>\n",
       "            <tr>\n",
       "                        <th id=\"T_bd055_level0_row1\" class=\"row_heading level0 row1\" >sedan</th>\n",
       "                        <td id=\"T_bd055_row1_col0\" class=\"data row1 col0\" >6740.91</td>\n",
       "                        <td id=\"T_bd055_row1_col1\" class=\"data row1 col1\" >9611</td>\n",
       "            </tr>\n",
       "            <tr>\n",
       "                        <th id=\"T_bd055_level0_row2\" class=\"row_heading level0 row2\" >truck</th>\n",
       "                        <td id=\"T_bd055_row2_col0\" class=\"data row2 col0\" >14546.29</td>\n",
       "                        <td id=\"T_bd055_row2_col1\" class=\"data row2 col1\" >8938</td>\n",
       "            </tr>\n",
       "            <tr>\n",
       "                        <th id=\"T_bd055_level0_row3\" class=\"row_heading level0 row3\" >pickup</th>\n",
       "                        <td id=\"T_bd055_row3_col0\" class=\"data row3 col0\" >14512.79</td>\n",
       "                        <td id=\"T_bd055_row3_col1\" class=\"data row3 col1\" >5110</td>\n",
       "            </tr>\n",
       "            <tr>\n",
       "                        <th id=\"T_bd055_level0_row4\" class=\"row_heading level0 row4\" >coupe</th>\n",
       "                        <td id=\"T_bd055_row4_col0\" class=\"data row4 col0\" >13209.99</td>\n",
       "                        <td id=\"T_bd055_row4_col1\" class=\"data row4 col1\" >1698</td>\n",
       "            </tr>\n",
       "            <tr>\n",
       "                        <th id=\"T_bd055_level0_row5\" class=\"row_heading level0 row5\" >wagon</th>\n",
       "                        <td id=\"T_bd055_row5_col0\" class=\"data row5 col0\" >8615.55</td>\n",
       "                        <td id=\"T_bd055_row5_col1\" class=\"data row5 col1\" >1251</td>\n",
       "            </tr>\n",
       "            <tr>\n",
       "                        <th id=\"T_bd055_level0_row6\" class=\"row_heading level0 row6\" >mini-van</th>\n",
       "                        <td id=\"T_bd055_row6_col0\" class=\"data row6 col0\" >7758.44</td>\n",
       "                        <td id=\"T_bd055_row6_col1\" class=\"data row6 col1\" >905</td>\n",
       "            </tr>\n",
       "            <tr>\n",
       "                        <th id=\"T_bd055_level0_row7\" class=\"row_heading level0 row7\" >hatchback</th>\n",
       "                        <td id=\"T_bd055_row7_col0\" class=\"data row7 col0\" >6578.48</td>\n",
       "                        <td id=\"T_bd055_row7_col1\" class=\"data row7 col1\" >833</td>\n",
       "            </tr>\n",
       "            <tr>\n",
       "                        <th id=\"T_bd055_level0_row8\" class=\"row_heading level0 row8\" >van</th>\n",
       "                        <td id=\"T_bd055_row8_col0\" class=\"data row8 col0\" >8561.71</td>\n",
       "                        <td id=\"T_bd055_row8_col1\" class=\"data row8 col1\" >445</td>\n",
       "            </tr>\n",
       "            <tr>\n",
       "                        <th id=\"T_bd055_level0_row9\" class=\"row_heading level0 row9\" >convertible</th>\n",
       "                        <td id=\"T_bd055_row9_col0\" class=\"data row9 col0\" >12660.54</td>\n",
       "                        <td id=\"T_bd055_row9_col1\" class=\"data row9 col1\" >299</td>\n",
       "            </tr>\n",
       "            <tr>\n",
       "                        <th id=\"T_bd055_level0_row10\" class=\"row_heading level0 row10\" >other</th>\n",
       "                        <td id=\"T_bd055_row10_col0\" class=\"data row10 col0\" >9960.63</td>\n",
       "                        <td id=\"T_bd055_row10_col1\" class=\"data row10 col1\" >193</td>\n",
       "            </tr>\n",
       "            <tr>\n",
       "                        <th id=\"T_bd055_level0_row11\" class=\"row_heading level0 row11\" >offroad</th>\n",
       "                        <td id=\"T_bd055_row11_col0\" class=\"data row11 col0\" >14205.86</td>\n",
       "                        <td id=\"T_bd055_row11_col1\" class=\"data row11 col1\" >154</td>\n",
       "            </tr>\n",
       "            <tr>\n",
       "                        <th id=\"T_bd055_level0_row12\" class=\"row_heading level0 row12\" >bus</th>\n",
       "                        <td id=\"T_bd055_row12_col0\" class=\"data row12 col0\" >16921.18</td>\n",
       "                        <td id=\"T_bd055_row12_col1\" class=\"data row12 col1\" >22</td>\n",
       "            </tr>\n",
       "    </tbody></table>"
      ],
      "text/plain": [
       "<pandas.io.formats.style.Styler at 0x7fe6579c94c0>"
      ]
     },
     "execution_count": 81,
     "metadata": {},
     "output_type": "execute_result"
    }
   ],
   "source": [
    "# creamos una pivot_table que nos muestre el número de anuncios y el precio promedio por tipo de vehículo\n",
    "tabla_type=data_vehiculos_not_outliers.pivot_table(index='type',values='price',aggfunc=['mean','count'])\\\n",
    "    .sort_values(('count','price'),ascending=False)\\\n",
    "    .style.format({('mean','price'):'{:.2f}',('count','price'):'{:.0f}'})\\\n",
    "    .highlight_max()\n",
    "\n",
    "tabla_type"
   ]
  },
  {
   "cell_type": "markdown",
   "metadata": {},
   "source": [
    "La tabla anterior nos muestra que **los tipos `'suv'`y `'sedan'` son los tipos de vehículos que más anuncios de venta tienen, con 9669 y 9611,** respectivamente. Mientras que el tipo `'bus'` muestra el precio promedio más alto, seguido de `'truck'` y `'pickup'`."
   ]
  },
  {
   "cell_type": "code",
   "execution_count": 82,
   "metadata": {},
   "outputs": [
    {
     "data": {
      "image/png": "[encoded data removed]",
      "text/plain": [
       "<Figure size 720x360 with 1 Axes>"
      ]
     },
     "metadata": {
      "needs_background": "light"
     },
     "output_type": "display_data"
    }
   ],
   "source": [
    "# histograma para la cantidad de anuncios por tipo de vehículo\n",
    "tabla_type=data_vehiculos_not_outliers.pivot_table(index='type',values='price',aggfunc=['mean','count'])\\\n",
    "    .sort_values(('count','price'),ascending=False)\n",
    "plt.subplots(figsize=(10,5))\n",
    "sns.barplot(x=tabla_type.index,y = tabla_type[('count','price')])\n",
    "plt.xticks(rotation=45)\n",
    "plt.ylabel('frecuencia')\n",
    "plt.title('Histograma para la cantidad de anuncios por tipo de vehículo')\n",
    "plt.show()"
   ]
  },
  {
   "cell_type": "markdown",
   "metadata": {},
   "source": [
    "[Volver a Contenidos](#inicio) <a id='analysis_price'></a>\n",
    "### Factores de precio"
   ]
  },
  {
   "cell_type": "code",
   "execution_count": 83,
   "metadata": {},
   "outputs": [
    {
     "data": {
      "text/plain": [
       "(39128, 20)"
      ]
     },
     "execution_count": 83,
     "metadata": {},
     "output_type": "execute_result"
    }
   ],
   "source": [
    "# veamos el tamaño del set de datos hasta este punto\n",
    "data_vehiculos_not_outliers.shape"
   ]
  },
  {
   "cell_type": "markdown",
   "metadata": {},
   "source": [
    "**Para estudiar que variables pueden impactar en el precio de un vehículo vamos a crear una matriz de correlación.** Primero vamos a crear un DataFrame que contenga las variables `'price'`, `'years_used'`, `'condition'` y `'odometer'`. Para ello vamos a filtrar el set de datos para los tipos de vehículos: `suv` y `sedan`, por ser los tipos de vehículos que más se ofertan."
   ]
  },
  {
   "cell_type": "code",
   "execution_count": 84,
   "metadata": {},
   "outputs": [
    {
     "name": "stdout",
     "output_type": "stream",
     "text": [
      "<class 'pandas.core.frame.DataFrame'>\n",
      "Int64Index: 19280 entries, 0 to 51523\n",
      "Data columns (total 4 columns):\n",
      " #   Column      Non-Null Count  Dtype  \n",
      "---  ------      --------------  -----  \n",
      " 0   price       19280 non-null  int64  \n",
      " 1   years_used  19280 non-null  float64\n",
      " 2   odometer    19280 non-null  float64\n",
      " 3   condition   19280 non-null  int64  \n",
      "dtypes: float64(2), int64(2)\n",
      "memory usage: 753.1 KB\n"
     ]
    }
   ],
   "source": [
    "# creamos el dataframe con las variables mencionadas\n",
    "tipos=['suv','sedan']\n",
    "data_vehiculos_not_outliers=data_vehiculos_not_outliers.query('type in @tipos')\n",
    "data_vehiculos_corr=pd.concat([data_vehiculos_not_outliers['price'],\n",
    "    data_vehiculos_not_outliers['years_used'],\n",
    "    data_vehiculos_not_outliers['odometer'],\n",
    "    data_vehiculos_not_outliers['condition']],axis=1)\n",
    "data_vehiculos_corr.info()"
   ]
  },
  {
   "cell_type": "code",
   "execution_count": 85,
   "metadata": {},
   "outputs": [],
   "source": [
    "# obtenemos la matriz de correlaciones aplicando el método corr() al dataframe\n",
    "matriz_corr=data_vehiculos_corr.corr()"
   ]
  },
  {
   "cell_type": "code",
   "execution_count": 86,
   "metadata": {},
   "outputs": [
    {
     "data": {
      "image/png": "[encoded data removed]",
      "text/plain": [
       "<Figure size 432x432 with 2 Axes>"
      ]
     },
     "metadata": {
      "needs_background": "light"
     },
     "output_type": "display_data"
    }
   ],
   "source": [
    "# creamos un 'heatmap' de las correlaciones\n",
    "f,ax=plt.subplots(figsize=(6,6))\n",
    "sns.heatmap(matriz_corr,vmax=0.8,annot=True,cmap='PuRd',square=True)\n",
    "plt.show()"
   ]
  },
  {
   "cell_type": "markdown",
   "metadata": {},
   "source": [
    "En el 'heatmap' anterior podemos observar que el precio tiene relación lineal negativa con los años de uso y el kilometraje del vehículo, es decir; el precio disminuirá a medida que incrementen los años de uso y el kilometraje. A su vez, los años de uso y el kilometraje están relacionados positivamente, si los años de uso aumentan también lo hará el kilometraje. La condición no parece tener tanta influencia en el precio, su correlación es apenas del 0.26."
   ]
  },
  {
   "cell_type": "code",
   "execution_count": 87,
   "metadata": {},
   "outputs": [
    {
     "data": {
      "image/png": "[encoded data removed]",
      "text/plain": [
       "<Figure size 720x576 with 16 Axes>"
      ]
     },
     "metadata": {
      "needs_background": "light"
     },
     "output_type": "display_data"
    }
   ],
   "source": [
    "# creamos una matriz de gráficas para 'price' y las variables mencionadas\n",
    "pd.plotting.scatter_matrix(data_vehiculos_corr,figsize=(10,8))\n",
    "plt.show()"
   ]
  },
  {
   "cell_type": "markdown",
   "metadata": {},
   "source": [
    "A continuación vamos a estudiar la relación entre la variable `'price'` con las variables `'transmission`', `'condition'` y `'paint_color'`. Usaremos para ello gráficas de caja."
   ]
  },
  {
   "cell_type": "code",
   "execution_count": 88,
   "metadata": {},
   "outputs": [
    {
     "data": {
      "image/png": "[encoded data removed]",
      "text/plain": [
       "<Figure size 864x360 with 1 Axes>"
      ]
     },
     "metadata": {
      "needs_background": "light"
     },
     "output_type": "display_data"
    }
   ],
   "source": [
    "# creamos un dataframe agrupado por 'transmission' y ordenado en forma ascendente por sus valores medianos\n",
    "grouped = data_vehiculos_not_outliers.loc[:,['transmission', 'price']] \\\n",
    "    .groupby(['transmission']) \\\n",
    "    .median() \\\n",
    "    .sort_values(by='price')\n",
    "\n",
    "# creamos una gráfica boxplot para 'price' y 'transmission'\n",
    "f,ax=plt.subplots(figsize=(12,5))\n",
    "sns.boxplot(x=data_vehiculos_not_outliers.transmission, y=data_vehiculos_not_outliers.price,\n",
    "            showmeans=True,meanprops={\"marker\": \"+\",\n",
    "                       \"markeredgecolor\": \"black\",\n",
    "                       \"markersize\": \"10\"},\n",
    "            order=grouped.index)\n",
    "plt.xticks(rotation=45)\n",
    "plt.show()"
   ]
  },
  {
   "cell_type": "markdown",
   "metadata": {},
   "source": [
    "El precio parece incrementar cuando el tipo de transmisión es `'automatic'`, ya que la mediana es ligeramente mayor a los otros tipos de transmisión; sin embargo, el precio parece estar más concentrado cerca del promedio y tener menos dispersión a comparación de los otros tipos de transmisión."
   ]
  },
  {
   "cell_type": "code",
   "execution_count": 89,
   "metadata": {},
   "outputs": [
    {
     "data": {
      "image/png": "[encoded data removed]",
      "text/plain": [
       "<Figure size 1080x360 with 1 Axes>"
      ]
     },
     "metadata": {
      "needs_background": "light"
     },
     "output_type": "display_data"
    }
   ],
   "source": [
    "# creamos un dataframe agrupado por 'paint_color' y ordenado en forma ascendente por sus valores medianos\n",
    "grouped = data_vehiculos_not_outliers.loc[:,['paint_color', 'price']] \\\n",
    "    .groupby(['paint_color']) \\\n",
    "    .median() \\\n",
    "    .sort_values(by='price')\n",
    "\n",
    "# creamos una gráfica boxplot para 'price' y 'paint_color'\n",
    "f,ax=plt.subplots(figsize=(15,5))\n",
    "sns.boxplot(x=data_vehiculos_not_outliers.paint_color, y=data_vehiculos_not_outliers.price,\n",
    "            showmeans=True,meanprops={\"marker\": \"+\",\n",
    "                       \"markeredgecolor\": \"black\",\n",
    "                       \"markersize\": \"10\"},\n",
    "            order=grouped.index)\n",
    "plt.xticks(rotation=45)\n",
    "plt.show()"
   ]
  },
  {
   "cell_type": "markdown",
   "metadata": {},
   "source": [
    "En la gráfica anterior, podemos observar que los vehículos de color `yellow` son los que presentan una mayor variación en cuanto al precio, contrario a los vehículos de color `purple`."
   ]
  },
  {
   "cell_type": "code",
   "execution_count": 90,
   "metadata": {},
   "outputs": [
    {
     "data": {
      "image/png": "[encoded data removed]",
      "text/plain": [
       "<Figure size 1080x360 with 1 Axes>"
      ]
     },
     "metadata": {
      "needs_background": "light"
     },
     "output_type": "display_data"
    }
   ],
   "source": [
    "# creamos un dataframe agrupado por 'condition' y ordenado en forma ascendente por sus valores medianos\n",
    "grouped = data_vehiculos_not_outliers.loc[:,['condition', 'price']] \\\n",
    "    .groupby(['condition']) \\\n",
    "    .median() \\\n",
    "    .sort_values(by='price')\n",
    "\n",
    "# creamos una gráfica boxplot para 'price' y 'paint_color'\n",
    "f,ax=plt.subplots(figsize=(15,5))\n",
    "sns.boxplot(x=data_vehiculos_not_outliers.condition, y=data_vehiculos_not_outliers.price,\n",
    "            showmeans=True,meanprops={\"marker\": \"+\",\n",
    "                       \"markeredgecolor\": \"black\",\n",
    "                       \"markersize\": \"10\"},\n",
    "            order=grouped.index)\n",
    "plt.xticks(rotation=45)\n",
    "plt.show()"
   ]
  },
  {
   "cell_type": "markdown",
   "metadata": {},
   "source": [
    "Podemos observar en el gráfico anterior que los vehículos `semi-nuevos` y `nuevos` tienen la mayor variación en cuanto al precio, contrario a los vehículos `de salvamento` y `justos`. Para los vehículos `nuevos`, `semi-nuevos`, `excelentes` y `en buenas condiciones` el precio promedio es mayor que para los vehículos de `salvamento` y `justos`."
   ]
  },
  {
   "cell_type": "markdown",
   "metadata": {},
   "source": [
    "Vamos ahora a crear un histograma para los días que dura publicado un anuncio."
   ]
  },
  {
   "cell_type": "code",
   "execution_count": 91,
   "metadata": {},
   "outputs": [
    {
     "name": "stdout",
     "output_type": "stream",
     "text": [
      "La media de days_listed es:39.63\n"
     ]
    },
    {
     "data": {
      "image/png": "[encoded data removed]",
      "text/plain": [
       "<Figure size 432x288 with 1 Axes>"
      ]
     },
     "metadata": {
      "needs_background": "light"
     },
     "output_type": "display_data"
    }
   ],
   "source": [
    "# histograma para 'days_listed'\n",
    "print(f\"La media de days_listed es:{data_vehiculos_not_outliers['days_listed'].mean():.2f}\")\n",
    "fig=sns.histplot(data_vehiculos_not_outliers['days_listed'],bins=50,color='blue')\n",
    "# trazamos una linea en la media de los datos\n",
    "fig.axvline(data_vehiculos_not_outliers['days_listed'].mean(), color='red')\n",
    "# trazamos una linea en la mediana de los datos\n",
    "fig.axvline(data_vehiculos_not_outliers['days_listed'].median(), color='green')\n",
    "# trazamos una linea en 10 días\n",
    "fig.axvline(10, color='yellow')\n",
    "plt.show()"
   ]
  },
  {
   "cell_type": "code",
   "execution_count": 92,
   "metadata": {},
   "outputs": [
    {
     "name": "stdout",
     "output_type": "stream",
     "text": [
      "El tamaño total de los datos es: 19280\n",
      "El tamaño total de los datos con días entre 10 y 40 es: 9997\n",
      "El porcentaje es: 52%\n"
     ]
    }
   ],
   "source": [
    "# obtengamos el porcentaje de anuncios con dias entre 10 y 40\n",
    "N=len(data_vehiculos_not_outliers)\n",
    "n=len(data_vehiculos_not_outliers.query('10<=days_listed<=40'))\n",
    "print(f'El tamaño total de los datos es: {N}')\n",
    "print(f'El tamaño total de los datos con días entre 10 y 40 es: {n}')\n",
    "print(f'El porcentaje es: {n/N:.0%}')"
   ]
  },
  {
   "cell_type": "markdown",
   "metadata": {},
   "source": [
    "Podemos observar que hay una gran cantidad de anuncios que duran publicados entre diez y cuarenta días."
   ]
  },
  {
   "cell_type": "markdown",
   "metadata": {},
   "source": [
    "[Volver a Contenidos](#inicio) <a id='conclusion_gral'></a>\n",
    "## Conclusión general"
   ]
  },
  {
   "cell_type": "markdown",
   "metadata": {},
   "source": [
    "Del análisis anterior podemos concluir:  \n",
    "- Las variables del set de datos presentaron diversos problemas como datos ausentes y tipos de datos que no eran propicios para realizar el estudio.\n",
    "- En algunas variables se pudo reemplazar los valores ausentes usando combinaciones de otras variables para estimar algún valor que resultara coherente como valor de reemplazo. En otras, como `'odometer'`, está no fue la opción más recomendable.\n",
    "- En algunas otras variables fue necesario hacer un cambio en el tipo de datos, ya fuera para poder obtener otras columnas como el año, mes o día de la semana. En algunas variables categóricas esto fue necesario para poder crear una matriz de correlaciones.\n",
    "- En el caso de los datos outliers, es necesario revisar aquellos datos outliers para poder ver hacer las correcciones en aquellos casos donde los valores tienen problemas por una mala captura o descartar que efectivamente sea un dato válido aunque no muy usual. Entre estos podríamos considerar a los autos que pudieran considerarse como antiguos y que tengan muchos años de uso.\n",
    "- Los vehículos de tipo `suv` y `sedan` son de los que más se anuncian para venta.\n",
    "- El precio tiene relación lineal negativa con los años de uso y el kilometraje del vehículo, el precio disminuirá a medida que incrementen los años de uso y el kilometraje. La condición no parece tener mucha relación con el precio del vehículo.\n",
    "- El rango de precio en los vehículos automáticos es mucho menor que los vehículos con otro tipo de transmisión.\n",
    "- Los vehículos `nuevos` y `seminuevos` tienen un mayor rango de precio que los vehiculos en otras condiciones.\n",
    "- Aproximadamente un 52% de los anuncios dura publicado entre diez y cuarenta días.  \n",
    "\n",
    "**Todas estas conclusiones se hacen basandose en los tipos de vehículos `suv` y `sedan`** que son los más vendidos."
   ]
  }
 ],
 "metadata": {
  "ExecuteTimeLog": [
   {
    "duration": 828,
    "start_time": "2021-11-16T09:21:11.304Z"
   },
   {
    "duration": 893,
    "start_time": "2021-11-16T09:21:17.728Z"
   },
   {
    "duration": 1150,
    "start_time": "2021-11-16T09:21:29.568Z"
   },
   {
    "duration": 3,
    "start_time": "2021-11-16T09:24:14.495Z"
   },
   {
    "duration": 120,
    "start_time": "2021-11-16T09:24:46.630Z"
   },
   {
    "duration": 3,
    "start_time": "2021-11-16T09:28:27.882Z"
   },
   {
    "duration": 4,
    "start_time": "2021-11-16T09:29:54.281Z"
   },
   {
    "duration": 3,
    "start_time": "2021-11-16T09:30:45.936Z"
   },
   {
    "duration": 4,
    "start_time": "2021-11-16T09:31:06.300Z"
   },
   {
    "duration": 113,
    "start_time": "2021-11-16T09:31:37.208Z"
   },
   {
    "duration": 143,
    "start_time": "2021-11-16T09:31:48.656Z"
   },
   {
    "duration": 98,
    "start_time": "2021-11-16T09:31:55.678Z"
   },
   {
    "duration": 3,
    "start_time": "2021-11-16T09:32:08.535Z"
   },
   {
    "duration": 111,
    "start_time": "2021-11-16T09:32:10.120Z"
   },
   {
    "duration": 3,
    "start_time": "2021-11-16T09:32:15.732Z"
   },
   {
    "duration": 4,
    "start_time": "2021-11-16T09:32:29.423Z"
   },
   {
    "duration": 3,
    "start_time": "2021-11-16T10:03:03.074Z"
   },
   {
    "duration": 3,
    "start_time": "2021-11-16T10:10:01.288Z"
   },
   {
    "duration": 3,
    "start_time": "2021-11-16T10:10:46.923Z"
   },
   {
    "duration": 121,
    "start_time": "2021-11-16T10:37:46.494Z"
   },
   {
    "duration": 125,
    "start_time": "2021-11-16T10:38:20.632Z"
   },
   {
    "duration": 112,
    "start_time": "2021-11-16T10:46:53.001Z"
   },
   {
    "duration": 110,
    "start_time": "2021-11-16T10:48:25.775Z"
   },
   {
    "duration": 3,
    "start_time": "2021-11-16T10:50:18.720Z"
   },
   {
    "duration": 4,
    "start_time": "2021-11-16T10:50:37.649Z"
   },
   {
    "duration": 2,
    "start_time": "2021-11-16T10:50:51.884Z"
   },
   {
    "duration": 3,
    "start_time": "2021-11-16T10:51:56.237Z"
   },
   {
    "duration": 101,
    "start_time": "2021-11-16T10:53:13.791Z"
   },
   {
    "duration": 3,
    "start_time": "2021-11-16T10:55:59.186Z"
   },
   {
    "duration": 3,
    "start_time": "2021-11-16T10:56:10.751Z"
   },
   {
    "duration": 3,
    "start_time": "2021-11-16T10:56:49.038Z"
   },
   {
    "duration": 3,
    "start_time": "2021-11-16T10:56:49.174Z"
   },
   {
    "duration": 4,
    "start_time": "2021-11-16T10:56:49.414Z"
   },
   {
    "duration": 3,
    "start_time": "2021-11-16T10:56:49.680Z"
   },
   {
    "duration": 3,
    "start_time": "2021-11-16T10:56:50.370Z"
   },
   {
    "duration": 114,
    "start_time": "2021-11-16T10:59:34.518Z"
   },
   {
    "duration": 3,
    "start_time": "2021-11-16T11:01:41.201Z"
   },
   {
    "duration": 116,
    "start_time": "2021-11-16T11:01:48.754Z"
   },
   {
    "duration": 3,
    "start_time": "2021-11-16T11:02:16.685Z"
   },
   {
    "duration": 3,
    "start_time": "2021-11-16T11:02:19.479Z"
   },
   {
    "duration": 3,
    "start_time": "2021-11-16T11:02:47.067Z"
   },
   {
    "duration": 3,
    "start_time": "2021-11-16T11:02:49.353Z"
   },
   {
    "duration": 3,
    "start_time": "2021-11-16T11:03:07.835Z"
   },
   {
    "duration": 3,
    "start_time": "2021-11-16T11:03:07.953Z"
   },
   {
    "duration": 112,
    "start_time": "2021-11-16T11:07:52.072Z"
   },
   {
    "duration": 187,
    "start_time": "2021-11-16T11:09:23.468Z"
   },
   {
    "duration": 4,
    "start_time": "2021-11-16T11:10:01.455Z"
   },
   {
    "duration": 3,
    "start_time": "2021-11-16T11:10:05.069Z"
   },
   {
    "duration": 4,
    "start_time": "2021-11-16T11:10:13.376Z"
   },
   {
    "duration": 3,
    "start_time": "2021-11-16T11:10:14.434Z"
   },
   {
    "duration": 3,
    "start_time": "2021-11-16T11:10:22.853Z"
   },
   {
    "duration": 4,
    "start_time": "2021-11-16T11:27:29.279Z"
   },
   {
    "duration": 4,
    "start_time": "2021-11-16T11:29:08.919Z"
   },
   {
    "duration": 118,
    "start_time": "2021-11-16T11:29:46.703Z"
   },
   {
    "duration": 437,
    "start_time": "2021-11-16T11:36:02.181Z"
   },
   {
    "duration": 157,
    "start_time": "2021-11-16T11:36:14.388Z"
   },
   {
    "duration": 207,
    "start_time": "2021-11-16T11:47:15.898Z"
   },
   {
    "duration": 3,
    "start_time": "2021-11-16T11:53:52.092Z"
   },
   {
    "duration": 3,
    "start_time": "2021-11-16T11:53:52.236Z"
   },
   {
    "duration": 3,
    "start_time": "2021-11-16T11:59:12.005Z"
   },
   {
    "duration": 112,
    "start_time": "2021-11-16T12:00:33.446Z"
   },
   {
    "duration": 3,
    "start_time": "2021-11-16T12:02:14.453Z"
   },
   {
    "duration": 3,
    "start_time": "2021-11-16T12:02:39.512Z"
   },
   {
    "duration": 106,
    "start_time": "2021-11-16T12:03:03.460Z"
   }
  ],
  "kernelspec": {
   "display_name": "base",
   "language": "python",
   "name": "python3"
  },
  "language_info": {
   "codemirror_mode": {
    "name": "ipython",
    "version": 3
   },
   "file_extension": ".py",
   "mimetype": "text/x-python",
   "name": "python",
   "nbconvert_exporter": "python",
   "pygments_lexer": "ipython3",
   "version": "3.9.13"
  },
  "toc": {
   "base_numbering": "1",
   "nav_menu": {
    "height": "393px",
    "width": "306px"
   },
   "number_sections": true,
   "sideBar": true,
   "skip_h1_title": false,
   "title_cell": "Table of Contents",
   "title_sidebar": "Contents",
   "toc_cell": false,
   "toc_position": {
    "height": "calc(100% - 180px)",
    "left": "10px",
    "top": "150px",
    "width": "350.486px"
   },
   "toc_section_display": true,
   "toc_window_display": false
  },
  "vscode": {
   "interpreter": {
    "hash": "71b9d87f2fd5b5aef9cbb0b73a40c78c4a0e77a2d7dfc47c1cede138549bfeac"
   }
  }
 },
 "nbformat": 4,
 "nbformat_minor": 2
}
